{
 "cells": [
  {
   "cell_type": "code",
   "execution_count": 1,
   "metadata": {},
   "outputs": [],
   "source": [
    "%matplotlib widget\n",
    "import gudhi as gd\n",
    "from gudhi import hera\n",
    "from gudhi import representations\n",
    "import matplotlib.pyplot as plt\n",
    "from matplotlib import cm\n",
    "import numpy as np\n",
    "import pandas as pd\n",
    "from sklearn import manifold\n",
    "from sklearn_extra.cluster import KMedoids\n",
    "from sklearn.cluster import DBSCAN\n",
    "from sklearn import metrics\n",
    "from sklearn.neighbors       import KNeighborsClassifier\n",
    "from sklearn.svm import SVC\n",
    "from sklearn import metrics\n",
    "from sklearn.model_selection import cross_val_score\n",
    "import scipy.optimize as spo \n",
    "from scipy.optimize import minimize\n",
    "import kmedoids\n",
    "\n",
    "import os\n",
    "import math\n",
    "import time\n"
   ]
  },
  {
   "cell_type": "code",
   "execution_count": 2,
   "metadata": {},
   "outputs": [],
   "source": [
    "path = \"../PersistenceImages/matlab_code/sixShapeClasses/ToyData_PD_TextFiles/\"\n",
    "PDs = {}\n",
    "for entry in os.scandir(path):\n",
    "    if(entry.name.endswith(\".txt\")):\n",
    "        PDs[entry.name] = {\"noise\":entry.name.split(sep=\"_\")[2],\n",
    "                           \"index\":entry.name.split(sep=\"_\")[3],\n",
    "                           \"shape_class\":entry.name.split(sep=\"_\")[4],\n",
    "                           \"dimension\":entry.name.split(sep=\"_\")[5],\n",
    "                           \"data\":np.loadtxt(entry.path)}"
   ]
  },
  {
   "cell_type": "code",
   "execution_count": 3,
   "metadata": {},
   "outputs": [],
   "source": [
    "dim = \"1\"\n",
    "noise = \"1\""
   ]
  },
  {
   "cell_type": "code",
   "execution_count": 4,
   "metadata": {},
   "outputs": [],
   "source": [
    "persistence_list = [pd[\"data\"] for pd in PDs.values() if(pd[\"noise\"]==\"n{}\".format(noise) and pd[\"dimension\"]==\"{}.txt\".format(dim))]"
   ]
  },
  {
   "cell_type": "code",
   "execution_count": 5,
   "metadata": {},
   "outputs": [],
   "source": [
    "persistence_list_by_shapes= [[pd[\"data\"] for pd in PDs.values() if(pd[\"noise\"]==\"n{}\".format(noise) and pd[\"dimension\"]==\"{}.txt\".format(dim) and int(pd[\"shape_class\"])==i)] for i in range(1,7)]"
   ]
  },
  {
   "cell_type": "code",
   "execution_count": 6,
   "metadata": {},
   "outputs": [],
   "source": [
    "n_train = 5\n",
    "n_test = len(persistence_list)-n_train\n",
    "\n",
    "train_diag = []\n",
    "train_labels = []\n",
    "test_labels = []\n",
    "test_diag = []\n",
    "for i in range(0,6):\n",
    "    for diag in persistence_list_by_shapes[i][:n_train]:\n",
    "        train_diag.append(diag)\n",
    "        train_labels.append(i)\n",
    "    for diag in persistence_list_by_shapes[i][n_train:]:\n",
    "        test_diag.append(diag)\n",
    "        test_labels.append([i])\n",
    "        \n",
    "train_labels = np.ravel(train_labels)\n",
    "test_labels = np.ravel(test_labels)"
   ]
  },
  {
   "cell_type": "code",
   "execution_count": 7,
   "metadata": {},
   "outputs": [
    {
     "name": "stdout",
     "output_type": "stream",
     "text": [
      "mean 189.87333333333333\n",
      "std 38.844012265584624\n",
      "mean 190.33333333333334\n",
      "std 39.08054361045773\n"
     ]
    },
    {
     "data": {
      "application/vnd.jupyter.widget-view+json": {
       "model_id": "f701414cff734fa994baa7f1a30cbfab",
       "version_major": 2,
       "version_minor": 0
      },
      "text/plain": [
       "Canvas(toolbar=Toolbar(toolitems=[('Home', 'Reset original view', 'home', 'home'), ('Back', 'Back to previous …"
      ]
     },
     "metadata": {},
     "output_type": "display_data"
    }
   ],
   "source": [
    "print(\"mean\",np.mean([len(pd) for pd in persistence_list]))\n",
    "print(\"std\", np.std([len(pd) for pd in persistence_list]))\n",
    "print(\"mean\",np.mean([len(pd) for pd in test_diag]))\n",
    "print(\"std\", np.std([len(pd) for pd in test_diag]))\n",
    "f, (ax1,ax2,ax3,ax4,ax5,ax6) = plt.subplots(1,6, figsize=(15,2.5))\n",
    "ax1.scatter(train_diag[0][:,0],train_diag[0][:,1])\n",
    "ax1.set_title(\"Cube\")\n",
    "\n",
    "ax2.scatter(train_diag[5][:,0],train_diag[5][:,1])\n",
    "ax2.set_title(\"Circle\")\n",
    "\n",
    "ax3.scatter(train_diag[10][:,0],train_diag[10][:,1])\n",
    "ax3.set_title(\"Sphere\")\n",
    "\n",
    "ax4.scatter(train_diag[15][:,0],train_diag[15][:,1])\n",
    "ax4.set_title(\"Three Clusters\")\n",
    "\n",
    "ax5.scatter(train_diag[20][:,0],train_diag[20][:,1])\n",
    "ax5.set_title(\"Three Clusters in Three Clusters\")\n",
    "\n",
    "ax6.scatter(train_diag[25][:,0],train_diag[25][:,1])\n",
    "ax6.set_title(\"Torus\")\n",
    "\n",
    "\n",
    "plt.show()\n"
   ]
  },
  {
   "cell_type": "code",
   "execution_count": 8,
   "metadata": {},
   "outputs": [
    {
     "data": {
      "text/plain": [
       "array([0, 0, 0, 0, 0, 1, 1, 1, 1, 1, 2, 2, 2, 2, 2, 3, 3, 3, 3, 3, 4, 4,\n",
       "       4, 4, 4, 5, 5, 5, 5, 5])"
      ]
     },
     "execution_count": 8,
     "metadata": {},
     "output_type": "execute_result"
    }
   ],
   "source": [
    "#len(test_diag)\n",
    "train_labels"
   ]
  },
  {
   "cell_type": "code",
   "execution_count": 9,
   "metadata": {},
   "outputs": [
    {
     "name": "stdout",
     "output_type": "stream",
     "text": [
      "36.84067153930664\n"
     ]
    }
   ],
   "source": [
    "l = len(train_diag)\n",
    "#base = 9\n",
    "#coefs = [np.log(base)**k/math.factorial(k) for k in range(1,11)]\n",
    "#coefs = np.array([0]+coefs)\n",
    "coefs = np.array([0,0,60])\n",
    "P1 = np.zeros((l,l))\n",
    "B1 = np.zeros((l,l))\n",
    "W1 = np.zeros((l,l))\n",
    "W2 = np.zeros((l,l))\n",
    "coefs = np.array([0,5,3])\n",
    "tic = time.time()\n",
    "for i in range(l):\n",
    "    diag1 = train_diag[i]\n",
    "    for j in range(i):\n",
    "        P1[i,j] = gd.prokhorov_distance(diag1, train_diag[j], coefs=coefs)\n",
    "        B1[i,j] = gd.bottleneck_distance(train_diag[i], train_diag[j] )\n",
    "        W1[i,j] = gd.hera.wasserstein_distance(train_diag[i], train_diag[j], order=1, internal_p=1)\n",
    "        W2[i,j] = gd.hera.wasserstein_distance(train_diag[i], train_diag[j], order=2, internal_p=2)\n",
    "P1 = P1 + P1.transpose()\n",
    "B1 = B1 + B1.transpose()\n",
    "W1 = W1 + W1.transpose()\n",
    "W2 = W2 + W2.transpose()\n",
    "print(time.time()-tic)"
   ]
  },
  {
   "cell_type": "code",
   "execution_count": 5,
   "metadata": {},
   "outputs": [],
   "source": [
    "mds = manifold.MDS(n_components=2, max_iter=5000, eps=1e-12,\n",
    "                   dissimilarity=\"precomputed\", n_jobs=1)\n",
    "pos = mds.fit(B1).embedding_"
   ]
  },
  {
   "cell_type": "code",
   "execution_count": 10,
   "metadata": {},
   "outputs": [
    {
     "data": {
      "application/vnd.jupyter.widget-view+json": {
       "model_id": "43bd60bfd7cd4418a46d52d431b6dcf2",
       "version_major": 2,
       "version_minor": 0
      },
      "text/plain": [
       "Canvas(toolbar=Toolbar(toolitems=[('Home', 'Reset original view', 'home', 'home'), ('Back', 'Back to previous …"
      ]
     },
     "metadata": {},
     "output_type": "display_data"
    },
    {
     "ename": "NameError",
     "evalue": "name 'pos' is not defined",
     "output_type": "error",
     "traceback": [
      "\u001b[0;31m---------------------------------------------------------------------------\u001b[0m",
      "\u001b[0;31mNameError\u001b[0m                                 Traceback (most recent call last)",
      "\u001b[0;32m<ipython-input-10-b16665ce9dfe>\u001b[0m in \u001b[0;36m<module>\u001b[0;34m\u001b[0m\n\u001b[1;32m      4\u001b[0m \u001b[0;31m#    plt.scatter(pos[i*n_iter:(i+1)*n_iter,0], pos[i*n_iter:(i+1)*n_iter, 1], label=\"{} features\".format(i+1))\u001b[0m\u001b[0;34m\u001b[0m\u001b[0;34m\u001b[0m\u001b[0;34m\u001b[0m\u001b[0m\n\u001b[1;32m      5\u001b[0m     \u001b[0;31m#plt.scatter(pos[i*n_iter:(i+1)*n_iter,0], [0]*5 , label=\"{} features\".format(i+1))\u001b[0m\u001b[0;34m\u001b[0m\u001b[0;34m\u001b[0m\u001b[0;34m\u001b[0m\u001b[0m\n\u001b[0;32m----> 6\u001b[0;31m \u001b[0mplt\u001b[0m\u001b[0;34m.\u001b[0m\u001b[0mscatter\u001b[0m\u001b[0;34m(\u001b[0m\u001b[0mpos\u001b[0m\u001b[0;34m[\u001b[0m\u001b[0;34m:\u001b[0m\u001b[0;34m,\u001b[0m\u001b[0;36m0\u001b[0m\u001b[0;34m]\u001b[0m\u001b[0;34m,\u001b[0m\u001b[0mpos\u001b[0m\u001b[0;34m[\u001b[0m\u001b[0;34m:\u001b[0m\u001b[0;34m,\u001b[0m\u001b[0;36m1\u001b[0m\u001b[0;34m]\u001b[0m\u001b[0;34m,\u001b[0m \u001b[0mc\u001b[0m\u001b[0;34m=\u001b[0m\u001b[0mlabels\u001b[0m\u001b[0;34m)\u001b[0m\u001b[0;34m\u001b[0m\u001b[0;34m\u001b[0m\u001b[0m\n\u001b[0m\u001b[1;32m      7\u001b[0m \u001b[0mplt\u001b[0m\u001b[0;34m.\u001b[0m\u001b[0mgca\u001b[0m\u001b[0;34m(\u001b[0m\u001b[0;34m)\u001b[0m\u001b[0;34m.\u001b[0m\u001b[0mset_aspect\u001b[0m\u001b[0;34m(\u001b[0m\u001b[0;34m'equal'\u001b[0m\u001b[0;34m,\u001b[0m \u001b[0madjustable\u001b[0m\u001b[0;34m=\u001b[0m\u001b[0;34m'box'\u001b[0m\u001b[0;34m)\u001b[0m\u001b[0;34m\u001b[0m\u001b[0;34m\u001b[0m\u001b[0m\n\u001b[1;32m      8\u001b[0m \u001b[0mplt\u001b[0m\u001b[0;34m.\u001b[0m\u001b[0mlegend\u001b[0m\u001b[0;34m(\u001b[0m\u001b[0mloc\u001b[0m\u001b[0;34m=\u001b[0m\u001b[0;34m\"lower right\"\u001b[0m\u001b[0;34m)\u001b[0m\u001b[0;34m\u001b[0m\u001b[0;34m\u001b[0m\u001b[0m\n",
      "\u001b[0;31mNameError\u001b[0m: name 'pos' is not defined"
     ]
    }
   ],
   "source": [
    "plt.figure(figsize=(5,5))\n",
    "labels = [int(pd[\"shape_class\"]) for pd in PDs.values() if(pd[\"noise\"]==\"n05\" and pd[\"dimension\"]==\"1.txt\")]\n",
    "#for i in range(0,3):\n",
    "#    plt.scatter(pos[i*n_iter:(i+1)*n_iter,0], pos[i*n_iter:(i+1)*n_iter, 1], label=\"{} features\".format(i+1))\n",
    "    #plt.scatter(pos[i*n_iter:(i+1)*n_iter,0], [0]*5 , label=\"{} features\".format(i+1))\n",
    "plt.scatter(pos[:,0],pos[:,1], c=labels)\n",
    "plt.gca().set_aspect('equal', adjustable='box')\n",
    "plt.legend(loc=\"lower right\")\n",
    "plt.xlabel(\"MDS from Bottleneck\")\n",
    "plt.show()"
   ]
  },
  {
   "cell_type": "code",
   "execution_count": 7,
   "metadata": {},
   "outputs": [
    {
     "data": {
      "text/plain": [
       "0.37407806780529723"
      ]
     },
     "execution_count": 7,
     "metadata": {},
     "output_type": "execute_result"
    }
   ],
   "source": [
    "metrics.silhouette_score(B1, labels, metric='precomputed')"
   ]
  },
  {
   "cell_type": "code",
   "execution_count": 24,
   "metadata": {},
   "outputs": [],
   "source": [
    "def D(r_vals, t):\n",
    "    return np.min(np.where(np.array(r_vals)<=t))"
   ]
  },
  {
   "cell_type": "code",
   "execution_count": 25,
   "metadata": {},
   "outputs": [
    {
     "name": "stdout",
     "output_type": "stream",
     "text": [
      "0 0\n",
      "0 1\n",
      "0 2\n",
      "0 3\n",
      "0 4\n",
      "0 5\n",
      "1 1\n",
      "1 2\n",
      "1 3\n",
      "1 4\n",
      "1 5\n",
      "2 2\n",
      "2 3\n",
      "2 4\n",
      "2 5\n",
      "3 3\n",
      "3 4\n",
      "3 5\n",
      "4 4\n",
      "4 5\n",
      "5 5\n"
     ]
    }
   ],
   "source": [
    "n_samples = 3\n",
    "r_vals = [[[None for x in range(n_samples*n_samples)] for y in range(6)] for z in range(6)]\n",
    "for i in range(0,6):\n",
    "    for j in range(i,6):\n",
    "        index=0\n",
    "        print(i,j)\n",
    "        for k in range(0, n_samples):\n",
    "            for l in range(0,n_samples):\n",
    "                n_points=len(persistence_list_by_shapes[i][-k])+len(persistence_list_by_shapes[j][-l])\n",
    "                #compute the D function\n",
    "                d_vals = np.linspace(0,n_points,n_points+1)\n",
    "                r_vals[i][j][index] = [gd.prokhorov_distance(persistence_list_by_shapes[i][-k], persistence_list_by_shapes[j][-l], np.array([r])) for r in d_vals]\n",
    "                index = index + 1"
   ]
  },
  {
   "cell_type": "code",
   "execution_count": 28,
   "metadata": {},
   "outputs": [
    {
     "data": {
      "application/vnd.jupyter.widget-view+json": {
       "model_id": "11566ee71c7b4751b3168bce4fa40f6f",
       "version_major": 2,
       "version_minor": 0
      },
      "text/plain": [
       "Canvas(toolbar=Toolbar(toolitems=[('Home', 'Reset original view', 'home', 'home'), ('Back', 'Back to previous …"
      ]
     },
     "metadata": {},
     "output_type": "display_data"
    }
   ],
   "source": [
    "fig = plt.figure(figsize = (10,10))\n",
    "ts = np.linspace(0,2,100)\n",
    "rs = np.linspace(0,0.25,251)\n",
    "shape_names = [\"Cube\", \"Circle\", \"Sphere\", \"Clusters\", \"nested Clusters\", \"Torus\"]\n",
    "for i in range(0,6):\n",
    "    for j in range(i,6):\n",
    "        Dmean = np.array([np.mean([D(r,t) for r in r_vals[i][j]]) for t in ts])\n",
    "        Dstd = np.array([np.std([D(r,t) for r in r_vals[i][j]]) for t in ts])\n",
    "        col = (i/6,j/6,(j-i)/5)#\"tab:blue\" if i==j else \"tab:orange\"\n",
    "        plt.errorbar(ts,Dmean,Dstd, linestyle='None', marker='o', c=col, ms = 2, label = \"{} vs {}\".format(shape_names[i],shape_names[j]))\n",
    "        bp = np.array([gd.bottleneck_profile(persistence_list_by_shapes[i][0], persistence_list_by_shapes[j][0],r0) for r0 in rs])\n",
    "        plt.plot(rs,rs*(bp**(1/2)))\n",
    "plt.plot(ts,1000*ts**3, c='k', ls='--', label=\"$1000 t^3$\")\n",
    "plt.plot(ts,10*ts, c='k', ls='--', label=\"$10t$\")\n",
    "plt.plot(ts,2500*ts**2, c='k', ls='--', label=\"$2500 t^2$\")\n",
    "\n",
    "handles, labels = plt.gca().get_legend_handles_labels()\n",
    "by_label = dict(zip(labels, handles))\n",
    "plt.legend(by_label.values(), by_label.keys(), loc=\"upper right\")\n",
    "\n",
    "plt.gca().set_ylim((-1,40))\n",
    "\n",
    "#plt.plot(ts,np.log(141)*ts+np.log(141)/2**2*ts**2+np.log(141)/6**3*ts**3+np.log(141)/24**4*ts**4, color='grey', ls='--')\n",
    "\n",
    "plt.show()"
   ]
  },
  {
   "cell_type": "code",
   "execution_count": 20,
   "metadata": {},
   "outputs": [
    {
     "data": {
      "text/plain": [
       "60"
      ]
     },
     "execution_count": 20,
     "metadata": {},
     "output_type": "execute_result"
    }
   ],
   "source": [
    "trun_pers_list=[]\n",
    "for i in range(0,6):\n",
    "    trun_pers_list=trun_pers_list+persistence_list_by_shapes[i][:10]\n",
    "len(trun_pers_list)"
   ]
  },
  {
   "cell_type": "code",
   "execution_count": 23,
   "metadata": {},
   "outputs": [],
   "source": [
    "l = len(persistence_list)\n",
    "#base = 9\n",
    "#coefs = [np.log(base)**k/math.factorial(k) for k in range(1,11)]\n",
    "#coefs = np.array([0]+coefs)\n",
    "coefs = np.array([0,5])\n",
    "P1 = np.zeros((l,l))\n",
    "\n",
    "for i in range(l):\n",
    "    for j in range(i):\n",
    "        P1[i,j] = gd.prokhorov_distance(persistence_list[i], persistence_list[j], np.array([0,5,3]))\n",
    "P1 = P1 + P1.transpose()"
   ]
  },
  {
   "cell_type": "code",
   "execution_count": 24,
   "metadata": {},
   "outputs": [],
   "source": [
    "mds = manifold.MDS(n_components=2, max_iter=5000, eps=1e-12,\n",
    "                   dissimilarity=\"precomputed\", n_jobs=1)\n",
    "pos = mds.fit(P1).embedding_"
   ]
  },
  {
   "cell_type": "code",
   "execution_count": 25,
   "metadata": {},
   "outputs": [
    {
     "data": {
      "application/vnd.jupyter.widget-view+json": {
       "model_id": "aa070df7dfc547db899ffca686085171",
       "version_major": 2,
       "version_minor": 0
      },
      "text/plain": [
       "Canvas(toolbar=Toolbar(toolitems=[('Home', 'Reset original view', 'home', 'home'), ('Back', 'Back to previous …"
      ]
     },
     "metadata": {},
     "output_type": "display_data"
    },
    {
     "name": "stderr",
     "output_type": "stream",
     "text": [
      "No handles with labels found to put in legend.\n"
     ]
    }
   ],
   "source": [
    "plt.figure(figsize=(5,5))\n",
    "labels = [int(pd[\"shape_class\"]) for pd in PDs.values() if(pd[\"noise\"]==\"n05\" and pd[\"dimension\"]==\"1.txt\")]\n",
    "#for i in range(0,3):\n",
    "#    plt.scatter(pos[i*n_iter:(i+1)*n_iter,0], pos[i*n_iter:(i+1)*n_iter, 1], label=\"{} features\".format(i+1))\n",
    "    #plt.scatter(pos[i*n_iter:(i+1)*n_iter,0], [0]*5 , label=\"{} features\".format(i+1))\n",
    "plt.scatter(pos[:,0],pos[:,1], c=labels)\n",
    "plt.gca().set_aspect('equal', adjustable='box')\n",
    "plt.legend(loc=\"lower right\")\n",
    "plt.xlabel(\"MDS from Bottleneck\")\n",
    "plt.show()"
   ]
  },
  {
   "cell_type": "code",
   "execution_count": 75,
   "metadata": {},
   "outputs": [
    {
     "ename": "NameError",
     "evalue": "name 'labels' is not defined",
     "output_type": "error",
     "traceback": [
      "\u001b[0;31m---------------------------------------------------------------------------\u001b[0m",
      "\u001b[0;31mNameError\u001b[0m                                 Traceback (most recent call last)",
      "\u001b[0;32m<ipython-input-75-435177cdbec2>\u001b[0m in \u001b[0;36m<module>\u001b[0;34m\u001b[0m\n\u001b[0;32m----> 1\u001b[0;31m \u001b[0mmetrics\u001b[0m\u001b[0;34m.\u001b[0m\u001b[0msilhouette_score\u001b[0m\u001b[0;34m(\u001b[0m\u001b[0mP1\u001b[0m\u001b[0;34m,\u001b[0m \u001b[0mlabels\u001b[0m\u001b[0;34m,\u001b[0m \u001b[0mmetric\u001b[0m\u001b[0;34m=\u001b[0m\u001b[0;34m'precomputed'\u001b[0m\u001b[0;34m)\u001b[0m\u001b[0;34m\u001b[0m\u001b[0;34m\u001b[0m\u001b[0m\n\u001b[0m",
      "\u001b[0;31mNameError\u001b[0m: name 'labels' is not defined"
     ]
    }
   ],
   "source": [
    "metrics.silhouette_score(P1, labels, metric='precomputed')"
   ]
  },
  {
   "cell_type": "code",
   "execution_count": 10,
   "metadata": {},
   "outputs": [],
   "source": [
    "def kmedoids_score(distance_matrix, train_labels):\n",
    "    c = kmedoids.fasterpam(distance_matrix, len(np.unique(train_labels)), init=\"build\")       \n",
    "    return sum([train_labels[i] == train_labels[c.medoids[c.labels[i]]] for i in range(0,len(train_labels))])/len(train_labels)\n"
   ]
  },
  {
   "cell_type": "code",
   "execution_count": 13,
   "metadata": {
    "tags": []
   },
   "outputs": [],
   "source": [
    "def score_metric(coefs):\n",
    "    #tic = time.time()\n",
    "    #PP = sklearn.metrics.pairwise_distances(train_diag, metric = gd.prokhorov_distance, n_jobs=-1, coefs = np.array([6.91132459e-04, 1.10974319e+00, 1.10546464e+01]))\n",
    "    #BW = sklearn.metrics.pairwise_distances(train_diag, metric = gd.bottleneck_distance, n_jobs=-1)\n",
    "    #PD = gd.representations.ProkhorovDistance(n_jobs = -1, coefs=coefs)\n",
    "    #PD.fit(train_diag)\n",
    "    #pm = PD.transform(train_diag)\n",
    "    l = len(train_diag)\n",
    "    pm = np.zeros((l,l))\n",
    "\n",
    "    for i in range(l):\n",
    "        for j in range(i):\n",
    "            pm[i,j] = coefs*np.sqrt(gd.bottleneck_profile(train_diag[i], train_diag[j], coefs))\n",
    "    pm = pm + pm.transpose()\n",
    "    #print(time.time()-tic)\n",
    "    #clf = KNeighborsClassifier(metric=\"precomputed\", n_neighbors=3)\n",
    "    \n",
    "    #scores = cross_val_score(clf, pm, train_labels, cv=3)\n",
    "    #print(scores)\n",
    "    #return(-scores.mean())\n",
    "    #return(-metrics.silhouette_score(pm, train_labels, metric='precomputed'))\n",
    "    return -kmedoids_score(pm, train_labels)"
   ]
  },
  {
   "cell_type": "code",
   "execution_count": 35,
   "metadata": {
    "tags": []
   },
   "outputs": [
    {
     "name": "stdout",
     "output_type": "stream",
     "text": [
      "0 0 -0.2 time:  0.21847009658813477\n",
      "1 0 -0.6333333333333333 time:  0.2215414047241211\n",
      "2 0 -0.7 time:  0.26212310791015625\n",
      "3 0 -0.9 time:  0.278003454208374\n",
      "4 0 -0.8333333333333334 time:  0.31218767166137695\n",
      "5 0 -1.0 time:  0.322603702545166\n",
      "6 0 -1.0 time:  0.3285713195800781\n",
      "7 0 -0.9666666666666667 time:  0.34157848358154297\n",
      "8 0 -0.9666666666666667 time:  0.3570568561553955\n",
      "9 0 -0.8333333333333334 time:  0.3532371520996094\n",
      "10 0 -0.7666666666666667 time:  0.3577413558959961\n",
      "11 0 -0.8 time:  0.3543877601623535\n",
      "12 0 -0.8 time:  0.36418771743774414\n",
      "13 0 -0.8 time:  0.3581409454345703\n",
      "14 0 -0.7666666666666667 time:  0.3559849262237549\n",
      "15 0 -0.7333333333333333 time:  0.3573291301727295\n",
      "16 0 -0.7666666666666667 time:  0.36238932609558105\n",
      "17 0 -0.7666666666666667 time:  0.4280374050140381\n",
      "18 0 -0.7666666666666667 time:  0.33855271339416504\n",
      "19 0 -0.7333333333333333 time:  0.33351993560791016\n",
      "20 0 -0.7666666666666667 time:  0.3497953414916992\n",
      "21 0 -0.7666666666666667 time:  0.3188133239746094\n",
      "22 0 -0.6666666666666666 time:  0.32298970222473145\n",
      "23 0 -0.7333333333333333 time:  0.34075021743774414\n",
      "24 0 -0.7666666666666667 time:  0.3225135803222656\n",
      "best 6 0 -1.0\n"
     ]
    }
   ],
   "source": [
    "cur_best = 1\n",
    "best_i = 0\n",
    "best_j =0\n",
    "for i in range(0,25,1):\n",
    "    for j in range(0,1):#,25-i,1):\n",
    "        tic=time.time()\n",
    "        score = score_metric(i/1000)\n",
    "        print(i,j, score, \"time: \", time.time()-tic)\n",
    "        if score<=cur_best:\n",
    "            cur_best = score\n",
    "            best_i = i\n",
    "            best_j = j\n",
    "            \n",
    "print(\"best\", best_i, best_j, cur_best)"
   ]
  },
  {
   "cell_type": "code",
   "execution_count": 42,
   "metadata": {
    "collapsed": true,
    "jupyter": {
     "outputs_hidden": true
    },
    "tags": []
   },
   "outputs": [
    {
     "ename": "KeyboardInterrupt",
     "evalue": "",
     "output_type": "error",
     "traceback": [
      "\u001b[0;31m---------------------------------------------------------------------------\u001b[0m",
      "\u001b[0;31mKeyboardInterrupt\u001b[0m                         Traceback (most recent call last)",
      "\u001b[0;32m<ipython-input-42-0f71de841e62>\u001b[0m in \u001b[0;36m<module>\u001b[0;34m\u001b[0m\n\u001b[1;32m      1\u001b[0m \u001b[0;31m#coefs = np.array([0,best_i,best_j])\u001b[0m\u001b[0;34m\u001b[0m\u001b[0;34m\u001b[0m\u001b[0;34m\u001b[0m\u001b[0m\n\u001b[1;32m      2\u001b[0m \u001b[0mcoefs\u001b[0m \u001b[0;34m=\u001b[0m \u001b[0mnp\u001b[0m\u001b[0;34m.\u001b[0m\u001b[0marray\u001b[0m\u001b[0;34m(\u001b[0m\u001b[0;34m[\u001b[0m\u001b[0;36m0\u001b[0m\u001b[0;34m,\u001b[0m\u001b[0;36m7\u001b[0m\u001b[0;34m]\u001b[0m\u001b[0;34m)\u001b[0m\u001b[0;34m\u001b[0m\u001b[0;34m\u001b[0m\u001b[0m\n\u001b[0;32m----> 3\u001b[0;31m \u001b[0mres\u001b[0m \u001b[0;34m=\u001b[0m \u001b[0mspo\u001b[0m\u001b[0;34m.\u001b[0m\u001b[0mminimize\u001b[0m\u001b[0;34m(\u001b[0m\u001b[0mscore_metric\u001b[0m\u001b[0;34m,\u001b[0m\u001b[0mcoefs\u001b[0m\u001b[0;34m,\u001b[0m \u001b[0mmethod\u001b[0m\u001b[0;34m=\u001b[0m\u001b[0;34m'Nelder-Mead'\u001b[0m\u001b[0;34m,\u001b[0m \u001b[0mtol\u001b[0m\u001b[0;34m=\u001b[0m\u001b[0;36m1e-6\u001b[0m\u001b[0;34m)\u001b[0m\u001b[0;34m\u001b[0m\u001b[0;34m\u001b[0m\u001b[0m\n\u001b[0m\u001b[1;32m      4\u001b[0m \u001b[0mres\u001b[0m\u001b[0;34m\u001b[0m\u001b[0;34m\u001b[0m\u001b[0m\n",
      "\u001b[0;32m/usr/lib64/python3.9/site-packages/scipy/optimize/_minimize.py\u001b[0m in \u001b[0;36mminimize\u001b[0;34m(fun, x0, args, method, jac, hess, hessp, bounds, constraints, tol, callback, options)\u001b[0m\n\u001b[1;32m    604\u001b[0m \u001b[0;34m\u001b[0m\u001b[0m\n\u001b[1;32m    605\u001b[0m     \u001b[0;32mif\u001b[0m \u001b[0mmeth\u001b[0m \u001b[0;34m==\u001b[0m \u001b[0;34m'nelder-mead'\u001b[0m\u001b[0;34m:\u001b[0m\u001b[0;34m\u001b[0m\u001b[0;34m\u001b[0m\u001b[0m\n\u001b[0;32m--> 606\u001b[0;31m         \u001b[0;32mreturn\u001b[0m \u001b[0m_minimize_neldermead\u001b[0m\u001b[0;34m(\u001b[0m\u001b[0mfun\u001b[0m\u001b[0;34m,\u001b[0m \u001b[0mx0\u001b[0m\u001b[0;34m,\u001b[0m \u001b[0margs\u001b[0m\u001b[0;34m,\u001b[0m \u001b[0mcallback\u001b[0m\u001b[0;34m,\u001b[0m \u001b[0;34m**\u001b[0m\u001b[0moptions\u001b[0m\u001b[0;34m)\u001b[0m\u001b[0;34m\u001b[0m\u001b[0;34m\u001b[0m\u001b[0m\n\u001b[0m\u001b[1;32m    607\u001b[0m     \u001b[0;32melif\u001b[0m \u001b[0mmeth\u001b[0m \u001b[0;34m==\u001b[0m \u001b[0;34m'powell'\u001b[0m\u001b[0;34m:\u001b[0m\u001b[0;34m\u001b[0m\u001b[0;34m\u001b[0m\u001b[0m\n\u001b[1;32m    608\u001b[0m         \u001b[0;32mreturn\u001b[0m \u001b[0m_minimize_powell\u001b[0m\u001b[0;34m(\u001b[0m\u001b[0mfun\u001b[0m\u001b[0;34m,\u001b[0m \u001b[0mx0\u001b[0m\u001b[0;34m,\u001b[0m \u001b[0margs\u001b[0m\u001b[0;34m,\u001b[0m \u001b[0mcallback\u001b[0m\u001b[0;34m,\u001b[0m \u001b[0mbounds\u001b[0m\u001b[0;34m,\u001b[0m \u001b[0;34m**\u001b[0m\u001b[0moptions\u001b[0m\u001b[0;34m)\u001b[0m\u001b[0;34m\u001b[0m\u001b[0;34m\u001b[0m\u001b[0m\n",
      "\u001b[0;32m/usr/lib64/python3.9/site-packages/scipy/optimize/optimize.py\u001b[0m in \u001b[0;36m_minimize_neldermead\u001b[0;34m(func, x0, args, callback, maxiter, maxfev, disp, return_all, initial_simplex, xatol, fatol, adaptive, **unknown_options)\u001b[0m\n\u001b[1;32m    687\u001b[0m \u001b[0;34m\u001b[0m\u001b[0m\n\u001b[1;32m    688\u001b[0m     \u001b[0;32mfor\u001b[0m \u001b[0mk\u001b[0m \u001b[0;32min\u001b[0m \u001b[0mrange\u001b[0m\u001b[0;34m(\u001b[0m\u001b[0mN\u001b[0m \u001b[0;34m+\u001b[0m \u001b[0;36m1\u001b[0m\u001b[0;34m)\u001b[0m\u001b[0;34m:\u001b[0m\u001b[0;34m\u001b[0m\u001b[0;34m\u001b[0m\u001b[0m\n\u001b[0;32m--> 689\u001b[0;31m         \u001b[0mfsim\u001b[0m\u001b[0;34m[\u001b[0m\u001b[0mk\u001b[0m\u001b[0;34m]\u001b[0m \u001b[0;34m=\u001b[0m \u001b[0mfunc\u001b[0m\u001b[0;34m(\u001b[0m\u001b[0msim\u001b[0m\u001b[0;34m[\u001b[0m\u001b[0mk\u001b[0m\u001b[0;34m]\u001b[0m\u001b[0;34m)\u001b[0m\u001b[0;34m\u001b[0m\u001b[0;34m\u001b[0m\u001b[0m\n\u001b[0m\u001b[1;32m    690\u001b[0m \u001b[0;34m\u001b[0m\u001b[0m\n\u001b[1;32m    691\u001b[0m     \u001b[0mind\u001b[0m \u001b[0;34m=\u001b[0m \u001b[0mnp\u001b[0m\u001b[0;34m.\u001b[0m\u001b[0margsort\u001b[0m\u001b[0;34m(\u001b[0m\u001b[0mfsim\u001b[0m\u001b[0;34m)\u001b[0m\u001b[0;34m\u001b[0m\u001b[0;34m\u001b[0m\u001b[0m\n",
      "\u001b[0;32m/usr/lib64/python3.9/site-packages/scipy/optimize/optimize.py\u001b[0m in \u001b[0;36mfunction_wrapper\u001b[0;34m(*wrapper_args)\u001b[0m\n\u001b[1;32m    425\u001b[0m     \u001b[0;32mdef\u001b[0m \u001b[0mfunction_wrapper\u001b[0m\u001b[0;34m(\u001b[0m\u001b[0;34m*\u001b[0m\u001b[0mwrapper_args\u001b[0m\u001b[0;34m)\u001b[0m\u001b[0;34m:\u001b[0m\u001b[0;34m\u001b[0m\u001b[0;34m\u001b[0m\u001b[0m\n\u001b[1;32m    426\u001b[0m         \u001b[0mncalls\u001b[0m\u001b[0;34m[\u001b[0m\u001b[0;36m0\u001b[0m\u001b[0;34m]\u001b[0m \u001b[0;34m+=\u001b[0m \u001b[0;36m1\u001b[0m\u001b[0;34m\u001b[0m\u001b[0;34m\u001b[0m\u001b[0m\n\u001b[0;32m--> 427\u001b[0;31m         \u001b[0;32mreturn\u001b[0m \u001b[0mfunction\u001b[0m\u001b[0;34m(\u001b[0m\u001b[0;34m*\u001b[0m\u001b[0;34m(\u001b[0m\u001b[0mwrapper_args\u001b[0m \u001b[0;34m+\u001b[0m \u001b[0margs\u001b[0m\u001b[0;34m)\u001b[0m\u001b[0;34m)\u001b[0m\u001b[0;34m\u001b[0m\u001b[0;34m\u001b[0m\u001b[0m\n\u001b[0m\u001b[1;32m    428\u001b[0m \u001b[0;34m\u001b[0m\u001b[0m\n\u001b[1;32m    429\u001b[0m     \u001b[0;32mreturn\u001b[0m \u001b[0mncalls\u001b[0m\u001b[0;34m,\u001b[0m \u001b[0mfunction_wrapper\u001b[0m\u001b[0;34m\u001b[0m\u001b[0;34m\u001b[0m\u001b[0m\n",
      "\u001b[0;32m<ipython-input-34-374fd69c2e1d>\u001b[0m in \u001b[0;36mscore_metric\u001b[0;34m(coefs)\u001b[0m\n\u001b[1;32m      5\u001b[0m     \u001b[0mPD\u001b[0m \u001b[0;34m=\u001b[0m \u001b[0mgd\u001b[0m\u001b[0;34m.\u001b[0m\u001b[0mrepresentations\u001b[0m\u001b[0;34m.\u001b[0m\u001b[0mProkhorovDistance\u001b[0m\u001b[0;34m(\u001b[0m\u001b[0mn_jobs\u001b[0m \u001b[0;34m=\u001b[0m \u001b[0;34m-\u001b[0m\u001b[0;36m1\u001b[0m\u001b[0;34m,\u001b[0m \u001b[0mcoefs\u001b[0m\u001b[0;34m=\u001b[0m\u001b[0mcoefs\u001b[0m\u001b[0;34m)\u001b[0m\u001b[0;34m\u001b[0m\u001b[0;34m\u001b[0m\u001b[0m\n\u001b[1;32m      6\u001b[0m     \u001b[0mPD\u001b[0m\u001b[0;34m.\u001b[0m\u001b[0mfit\u001b[0m\u001b[0;34m(\u001b[0m\u001b[0mtrain_diag\u001b[0m\u001b[0;34m)\u001b[0m\u001b[0;34m\u001b[0m\u001b[0;34m\u001b[0m\u001b[0m\n\u001b[0;32m----> 7\u001b[0;31m     \u001b[0mpm\u001b[0m \u001b[0;34m=\u001b[0m \u001b[0mPD\u001b[0m\u001b[0;34m.\u001b[0m\u001b[0mtransform\u001b[0m\u001b[0;34m(\u001b[0m\u001b[0mtrain_diag\u001b[0m\u001b[0;34m)\u001b[0m\u001b[0;34m\u001b[0m\u001b[0;34m\u001b[0m\u001b[0m\n\u001b[0m\u001b[1;32m      8\u001b[0m     \u001b[0;31m#print(time.time()-tic)\u001b[0m\u001b[0;34m\u001b[0m\u001b[0;34m\u001b[0m\u001b[0;34m\u001b[0m\u001b[0m\n\u001b[1;32m      9\u001b[0m     \u001b[0;31m#clf = KNeighborsClassifier(metric=\"precomputed\", n_neighbors=3)\u001b[0m\u001b[0;34m\u001b[0m\u001b[0;34m\u001b[0m\u001b[0;34m\u001b[0m\u001b[0m\n",
      "\u001b[0;32m/usr/local/lib64/python3.9/site-packages/gudhi-3.5.0rc1-py3.9-linux-x86_64.egg/gudhi/representations/metrics.py\u001b[0m in \u001b[0;36mtransform\u001b[0;34m(self, X)\u001b[0m\n\u001b[1;32m    346\u001b[0m             \u001b[0mnumpy\u001b[0m \u001b[0marray\u001b[0m \u001b[0mof\u001b[0m \u001b[0mshape\u001b[0m \u001b[0;34m(\u001b[0m\u001b[0mnumber\u001b[0m \u001b[0mof\u001b[0m \u001b[0mdiagrams\u001b[0m \u001b[0;32min\u001b[0m \u001b[0;34m**\u001b[0m\u001b[0mdiagrams\u001b[0m\u001b[0;34m**\u001b[0m\u001b[0;34m)\u001b[0m \u001b[0mx\u001b[0m \u001b[0;34m(\u001b[0m\u001b[0mnumber\u001b[0m \u001b[0mof\u001b[0m \u001b[0mdiagrams\u001b[0m \u001b[0;32min\u001b[0m \u001b[0mX\u001b[0m\u001b[0;34m)\u001b[0m\u001b[0;34m:\u001b[0m \u001b[0mmatrix\u001b[0m \u001b[0mof\u001b[0m \u001b[0mpairwise\u001b[0m \u001b[0mbottleneck\u001b[0m \u001b[0mdistances\u001b[0m\u001b[0;34m.\u001b[0m\u001b[0;34m\u001b[0m\u001b[0;34m\u001b[0m\u001b[0m\n\u001b[1;32m    347\u001b[0m         \"\"\"\n\u001b[0;32m--> 348\u001b[0;31m         \u001b[0mXfit\u001b[0m \u001b[0;34m=\u001b[0m \u001b[0mpairwise_persistence_diagram_distances\u001b[0m\u001b[0;34m(\u001b[0m\u001b[0mX\u001b[0m\u001b[0;34m,\u001b[0m \u001b[0mself\u001b[0m\u001b[0;34m.\u001b[0m\u001b[0mdiagrams_\u001b[0m\u001b[0;34m,\u001b[0m \u001b[0mmetric\u001b[0m\u001b[0;34m=\u001b[0m\u001b[0;34m\"Prokhorov\"\u001b[0m\u001b[0;34m,\u001b[0m \u001b[0mn_jobs\u001b[0m\u001b[0;34m=\u001b[0m\u001b[0mself\u001b[0m\u001b[0;34m.\u001b[0m\u001b[0mn_jobs\u001b[0m\u001b[0;34m,\u001b[0m \u001b[0mcoefs\u001b[0m\u001b[0;34m=\u001b[0m\u001b[0mself\u001b[0m\u001b[0;34m.\u001b[0m\u001b[0mcoefs\u001b[0m\u001b[0;34m)\u001b[0m\u001b[0;34m\u001b[0m\u001b[0;34m\u001b[0m\u001b[0m\n\u001b[0m\u001b[1;32m    349\u001b[0m         \u001b[0;32mreturn\u001b[0m \u001b[0mXfit\u001b[0m\u001b[0;34m\u001b[0m\u001b[0;34m\u001b[0m\u001b[0m\n\u001b[1;32m    350\u001b[0m \u001b[0;34m\u001b[0m\u001b[0m\n",
      "\u001b[0;32m/usr/local/lib64/python3.9/site-packages/gudhi-3.5.0rc1-py3.9-linux-x86_64.egg/gudhi/representations/metrics.py\u001b[0m in \u001b[0;36mpairwise_persistence_diagram_distances\u001b[0;34m(X, Y, metric, n_jobs, **kwargs)\u001b[0m\n\u001b[1;32m    176\u001b[0m         \u001b[0;32mtry\u001b[0m\u001b[0;34m:\u001b[0m\u001b[0;34m\u001b[0m\u001b[0;34m\u001b[0m\u001b[0m\n\u001b[1;32m    177\u001b[0m             \u001b[0;32mfrom\u001b[0m \u001b[0;34m.\u001b[0m\u001b[0;34m.\u001b[0m \u001b[0;32mimport\u001b[0m \u001b[0mprokhorov_distance\u001b[0m\u001b[0;34m\u001b[0m\u001b[0;34m\u001b[0m\u001b[0m\n\u001b[0;32m--> 178\u001b[0;31m             \u001b[0;32mreturn\u001b[0m \u001b[0m_pairwise\u001b[0m\u001b[0;34m(\u001b[0m\u001b[0mpairwise_distances\u001b[0m\u001b[0;34m,\u001b[0m \u001b[0;32mTrue\u001b[0m\u001b[0;34m,\u001b[0m \u001b[0mXX\u001b[0m\u001b[0;34m,\u001b[0m \u001b[0mYY\u001b[0m\u001b[0;34m,\u001b[0m \u001b[0mmetric\u001b[0m\u001b[0;34m=\u001b[0m\u001b[0m_sklearn_wrapper\u001b[0m\u001b[0;34m(\u001b[0m\u001b[0mprokhorov_distance\u001b[0m\u001b[0;34m,\u001b[0m  \u001b[0mX\u001b[0m\u001b[0;34m,\u001b[0m \u001b[0mY\u001b[0m\u001b[0;34m,\u001b[0m \u001b[0;34m**\u001b[0m\u001b[0mkwargs\u001b[0m\u001b[0;34m)\u001b[0m\u001b[0;34m,\u001b[0m \u001b[0mn_jobs\u001b[0m\u001b[0;34m=\u001b[0m\u001b[0mn_jobs\u001b[0m\u001b[0;34m)\u001b[0m\u001b[0;34m\u001b[0m\u001b[0;34m\u001b[0m\u001b[0m\n\u001b[0m\u001b[1;32m    179\u001b[0m         \u001b[0;32mexcept\u001b[0m \u001b[0mImportError\u001b[0m\u001b[0;34m:\u001b[0m\u001b[0;34m\u001b[0m\u001b[0;34m\u001b[0m\u001b[0m\n\u001b[1;32m    180\u001b[0m             \u001b[0mprint\u001b[0m\u001b[0;34m(\u001b[0m\u001b[0;34m\"Prokhorov metric could not be imported. Is CGAL installed?\"\u001b[0m\u001b[0;34m)\u001b[0m\u001b[0;34m\u001b[0m\u001b[0;34m\u001b[0m\u001b[0m\n",
      "\u001b[0;32m/usr/local/lib64/python3.9/site-packages/gudhi-3.5.0rc1-py3.9-linux-x86_64.egg/gudhi/representations/metrics.py\u001b[0m in \u001b[0;36m_pairwise\u001b[0;34m(fallback, skipdiag, X, Y, metric, n_jobs)\u001b[0m\n\u001b[1;32m    124\u001b[0m     \u001b[0mtril\u001b[0m \u001b[0;34m=\u001b[0m \u001b[0;34m(\u001b[0m\u001b[0mtriu\u001b[0m\u001b[0;34m[\u001b[0m\u001b[0;36m1\u001b[0m\u001b[0;34m]\u001b[0m\u001b[0;34m,\u001b[0m \u001b[0mtriu\u001b[0m\u001b[0;34m[\u001b[0m\u001b[0;36m0\u001b[0m\u001b[0;34m]\u001b[0m\u001b[0;34m)\u001b[0m\u001b[0;34m\u001b[0m\u001b[0;34m\u001b[0m\u001b[0m\n\u001b[1;32m    125\u001b[0m     \u001b[0mpar\u001b[0m \u001b[0;34m=\u001b[0m \u001b[0mParallel\u001b[0m\u001b[0;34m(\u001b[0m\u001b[0mn_jobs\u001b[0m\u001b[0;34m=\u001b[0m\u001b[0mn_jobs\u001b[0m\u001b[0;34m,\u001b[0m \u001b[0mprefer\u001b[0m\u001b[0;34m=\u001b[0m\u001b[0;34m\"threads\"\u001b[0m\u001b[0;34m)\u001b[0m\u001b[0;34m\u001b[0m\u001b[0;34m\u001b[0m\u001b[0m\n\u001b[0;32m--> 126\u001b[0;31m     \u001b[0md\u001b[0m \u001b[0;34m=\u001b[0m \u001b[0mpar\u001b[0m\u001b[0;34m(\u001b[0m\u001b[0mdelayed\u001b[0m\u001b[0;34m(\u001b[0m\u001b[0mmetric\u001b[0m\u001b[0;34m)\u001b[0m\u001b[0;34m(\u001b[0m\u001b[0;34m[\u001b[0m\u001b[0mtriu\u001b[0m\u001b[0;34m[\u001b[0m\u001b[0;36m0\u001b[0m\u001b[0;34m]\u001b[0m\u001b[0;34m[\u001b[0m\u001b[0mi\u001b[0m\u001b[0;34m]\u001b[0m\u001b[0;34m]\u001b[0m\u001b[0;34m,\u001b[0m \u001b[0;34m[\u001b[0m\u001b[0mtriu\u001b[0m\u001b[0;34m[\u001b[0m\u001b[0;36m1\u001b[0m\u001b[0;34m]\u001b[0m\u001b[0;34m[\u001b[0m\u001b[0mi\u001b[0m\u001b[0;34m]\u001b[0m\u001b[0;34m]\u001b[0m\u001b[0;34m)\u001b[0m \u001b[0;32mfor\u001b[0m \u001b[0mi\u001b[0m \u001b[0;32min\u001b[0m \u001b[0mrange\u001b[0m\u001b[0;34m(\u001b[0m\u001b[0mlen\u001b[0m\u001b[0;34m(\u001b[0m\u001b[0mtriu\u001b[0m\u001b[0;34m[\u001b[0m\u001b[0;36m0\u001b[0m\u001b[0;34m]\u001b[0m\u001b[0;34m)\u001b[0m\u001b[0;34m)\u001b[0m\u001b[0;34m)\u001b[0m\u001b[0;34m\u001b[0m\u001b[0;34m\u001b[0m\u001b[0m\n\u001b[0m\u001b[1;32m    127\u001b[0m     \u001b[0mm\u001b[0m \u001b[0;34m=\u001b[0m \u001b[0mnp\u001b[0m\u001b[0;34m.\u001b[0m\u001b[0mempty\u001b[0m\u001b[0;34m(\u001b[0m\u001b[0;34m(\u001b[0m\u001b[0mlen\u001b[0m\u001b[0;34m(\u001b[0m\u001b[0mX\u001b[0m\u001b[0;34m)\u001b[0m\u001b[0;34m,\u001b[0m \u001b[0mlen\u001b[0m\u001b[0;34m(\u001b[0m\u001b[0mX\u001b[0m\u001b[0;34m)\u001b[0m\u001b[0;34m)\u001b[0m\u001b[0;34m)\u001b[0m\u001b[0;34m\u001b[0m\u001b[0;34m\u001b[0m\u001b[0m\n\u001b[1;32m    128\u001b[0m     \u001b[0mm\u001b[0m\u001b[0;34m[\u001b[0m\u001b[0mtriu\u001b[0m\u001b[0;34m]\u001b[0m \u001b[0;34m=\u001b[0m \u001b[0md\u001b[0m\u001b[0;34m\u001b[0m\u001b[0;34m\u001b[0m\u001b[0m\n",
      "\u001b[0;32m~/.local/lib/python3.9/site-packages/joblib/parallel.py\u001b[0m in \u001b[0;36m__call__\u001b[0;34m(self, iterable)\u001b[0m\n\u001b[1;32m   1052\u001b[0m \u001b[0;34m\u001b[0m\u001b[0m\n\u001b[1;32m   1053\u001b[0m             \u001b[0;32mwith\u001b[0m \u001b[0mself\u001b[0m\u001b[0;34m.\u001b[0m\u001b[0m_backend\u001b[0m\u001b[0;34m.\u001b[0m\u001b[0mretrieval_context\u001b[0m\u001b[0;34m(\u001b[0m\u001b[0;34m)\u001b[0m\u001b[0;34m:\u001b[0m\u001b[0;34m\u001b[0m\u001b[0;34m\u001b[0m\u001b[0m\n\u001b[0;32m-> 1054\u001b[0;31m                 \u001b[0mself\u001b[0m\u001b[0;34m.\u001b[0m\u001b[0mretrieve\u001b[0m\u001b[0;34m(\u001b[0m\u001b[0;34m)\u001b[0m\u001b[0;34m\u001b[0m\u001b[0;34m\u001b[0m\u001b[0m\n\u001b[0m\u001b[1;32m   1055\u001b[0m             \u001b[0;31m# Make sure that we get a last message telling us we are done\u001b[0m\u001b[0;34m\u001b[0m\u001b[0;34m\u001b[0m\u001b[0;34m\u001b[0m\u001b[0m\n\u001b[1;32m   1056\u001b[0m             \u001b[0melapsed_time\u001b[0m \u001b[0;34m=\u001b[0m \u001b[0mtime\u001b[0m\u001b[0;34m.\u001b[0m\u001b[0mtime\u001b[0m\u001b[0;34m(\u001b[0m\u001b[0;34m)\u001b[0m \u001b[0;34m-\u001b[0m \u001b[0mself\u001b[0m\u001b[0;34m.\u001b[0m\u001b[0m_start_time\u001b[0m\u001b[0;34m\u001b[0m\u001b[0;34m\u001b[0m\u001b[0m\n",
      "\u001b[0;32m~/.local/lib/python3.9/site-packages/joblib/parallel.py\u001b[0m in \u001b[0;36mretrieve\u001b[0;34m(self)\u001b[0m\n\u001b[1;32m    931\u001b[0m             \u001b[0;32mtry\u001b[0m\u001b[0;34m:\u001b[0m\u001b[0;34m\u001b[0m\u001b[0;34m\u001b[0m\u001b[0m\n\u001b[1;32m    932\u001b[0m                 \u001b[0;32mif\u001b[0m \u001b[0mgetattr\u001b[0m\u001b[0;34m(\u001b[0m\u001b[0mself\u001b[0m\u001b[0;34m.\u001b[0m\u001b[0m_backend\u001b[0m\u001b[0;34m,\u001b[0m \u001b[0;34m'supports_timeout'\u001b[0m\u001b[0;34m,\u001b[0m \u001b[0;32mFalse\u001b[0m\u001b[0;34m)\u001b[0m\u001b[0;34m:\u001b[0m\u001b[0;34m\u001b[0m\u001b[0;34m\u001b[0m\u001b[0m\n\u001b[0;32m--> 933\u001b[0;31m                     \u001b[0mself\u001b[0m\u001b[0;34m.\u001b[0m\u001b[0m_output\u001b[0m\u001b[0;34m.\u001b[0m\u001b[0mextend\u001b[0m\u001b[0;34m(\u001b[0m\u001b[0mjob\u001b[0m\u001b[0;34m.\u001b[0m\u001b[0mget\u001b[0m\u001b[0;34m(\u001b[0m\u001b[0mtimeout\u001b[0m\u001b[0;34m=\u001b[0m\u001b[0mself\u001b[0m\u001b[0;34m.\u001b[0m\u001b[0mtimeout\u001b[0m\u001b[0;34m)\u001b[0m\u001b[0;34m)\u001b[0m\u001b[0;34m\u001b[0m\u001b[0;34m\u001b[0m\u001b[0m\n\u001b[0m\u001b[1;32m    934\u001b[0m                 \u001b[0;32melse\u001b[0m\u001b[0;34m:\u001b[0m\u001b[0;34m\u001b[0m\u001b[0;34m\u001b[0m\u001b[0m\n\u001b[1;32m    935\u001b[0m                     \u001b[0mself\u001b[0m\u001b[0;34m.\u001b[0m\u001b[0m_output\u001b[0m\u001b[0;34m.\u001b[0m\u001b[0mextend\u001b[0m\u001b[0;34m(\u001b[0m\u001b[0mjob\u001b[0m\u001b[0;34m.\u001b[0m\u001b[0mget\u001b[0m\u001b[0;34m(\u001b[0m\u001b[0;34m)\u001b[0m\u001b[0;34m)\u001b[0m\u001b[0;34m\u001b[0m\u001b[0;34m\u001b[0m\u001b[0m\n",
      "\u001b[0;32m/usr/lib64/python3.9/multiprocessing/pool.py\u001b[0m in \u001b[0;36mget\u001b[0;34m(self, timeout)\u001b[0m\n\u001b[1;32m    763\u001b[0m \u001b[0;34m\u001b[0m\u001b[0m\n\u001b[1;32m    764\u001b[0m     \u001b[0;32mdef\u001b[0m \u001b[0mget\u001b[0m\u001b[0;34m(\u001b[0m\u001b[0mself\u001b[0m\u001b[0;34m,\u001b[0m \u001b[0mtimeout\u001b[0m\u001b[0;34m=\u001b[0m\u001b[0;32mNone\u001b[0m\u001b[0;34m)\u001b[0m\u001b[0;34m:\u001b[0m\u001b[0;34m\u001b[0m\u001b[0;34m\u001b[0m\u001b[0m\n\u001b[0;32m--> 765\u001b[0;31m         \u001b[0mself\u001b[0m\u001b[0;34m.\u001b[0m\u001b[0mwait\u001b[0m\u001b[0;34m(\u001b[0m\u001b[0mtimeout\u001b[0m\u001b[0;34m)\u001b[0m\u001b[0;34m\u001b[0m\u001b[0;34m\u001b[0m\u001b[0m\n\u001b[0m\u001b[1;32m    766\u001b[0m         \u001b[0;32mif\u001b[0m \u001b[0;32mnot\u001b[0m \u001b[0mself\u001b[0m\u001b[0;34m.\u001b[0m\u001b[0mready\u001b[0m\u001b[0;34m(\u001b[0m\u001b[0;34m)\u001b[0m\u001b[0;34m:\u001b[0m\u001b[0;34m\u001b[0m\u001b[0;34m\u001b[0m\u001b[0m\n\u001b[1;32m    767\u001b[0m             \u001b[0;32mraise\u001b[0m \u001b[0mTimeoutError\u001b[0m\u001b[0;34m\u001b[0m\u001b[0;34m\u001b[0m\u001b[0m\n",
      "\u001b[0;32m/usr/lib64/python3.9/multiprocessing/pool.py\u001b[0m in \u001b[0;36mwait\u001b[0;34m(self, timeout)\u001b[0m\n\u001b[1;32m    760\u001b[0m \u001b[0;34m\u001b[0m\u001b[0m\n\u001b[1;32m    761\u001b[0m     \u001b[0;32mdef\u001b[0m \u001b[0mwait\u001b[0m\u001b[0;34m(\u001b[0m\u001b[0mself\u001b[0m\u001b[0;34m,\u001b[0m \u001b[0mtimeout\u001b[0m\u001b[0;34m=\u001b[0m\u001b[0;32mNone\u001b[0m\u001b[0;34m)\u001b[0m\u001b[0;34m:\u001b[0m\u001b[0;34m\u001b[0m\u001b[0;34m\u001b[0m\u001b[0m\n\u001b[0;32m--> 762\u001b[0;31m         \u001b[0mself\u001b[0m\u001b[0;34m.\u001b[0m\u001b[0m_event\u001b[0m\u001b[0;34m.\u001b[0m\u001b[0mwait\u001b[0m\u001b[0;34m(\u001b[0m\u001b[0mtimeout\u001b[0m\u001b[0;34m)\u001b[0m\u001b[0;34m\u001b[0m\u001b[0;34m\u001b[0m\u001b[0m\n\u001b[0m\u001b[1;32m    763\u001b[0m \u001b[0;34m\u001b[0m\u001b[0m\n\u001b[1;32m    764\u001b[0m     \u001b[0;32mdef\u001b[0m \u001b[0mget\u001b[0m\u001b[0;34m(\u001b[0m\u001b[0mself\u001b[0m\u001b[0;34m,\u001b[0m \u001b[0mtimeout\u001b[0m\u001b[0;34m=\u001b[0m\u001b[0;32mNone\u001b[0m\u001b[0;34m)\u001b[0m\u001b[0;34m:\u001b[0m\u001b[0;34m\u001b[0m\u001b[0;34m\u001b[0m\u001b[0m\n",
      "\u001b[0;32m/usr/lib64/python3.9/threading.py\u001b[0m in \u001b[0;36mwait\u001b[0;34m(self, timeout)\u001b[0m\n\u001b[1;32m    572\u001b[0m             \u001b[0msignaled\u001b[0m \u001b[0;34m=\u001b[0m \u001b[0mself\u001b[0m\u001b[0;34m.\u001b[0m\u001b[0m_flag\u001b[0m\u001b[0;34m\u001b[0m\u001b[0;34m\u001b[0m\u001b[0m\n\u001b[1;32m    573\u001b[0m             \u001b[0;32mif\u001b[0m \u001b[0;32mnot\u001b[0m \u001b[0msignaled\u001b[0m\u001b[0;34m:\u001b[0m\u001b[0;34m\u001b[0m\u001b[0;34m\u001b[0m\u001b[0m\n\u001b[0;32m--> 574\u001b[0;31m                 \u001b[0msignaled\u001b[0m \u001b[0;34m=\u001b[0m \u001b[0mself\u001b[0m\u001b[0;34m.\u001b[0m\u001b[0m_cond\u001b[0m\u001b[0;34m.\u001b[0m\u001b[0mwait\u001b[0m\u001b[0;34m(\u001b[0m\u001b[0mtimeout\u001b[0m\u001b[0;34m)\u001b[0m\u001b[0;34m\u001b[0m\u001b[0;34m\u001b[0m\u001b[0m\n\u001b[0m\u001b[1;32m    575\u001b[0m             \u001b[0;32mreturn\u001b[0m \u001b[0msignaled\u001b[0m\u001b[0;34m\u001b[0m\u001b[0;34m\u001b[0m\u001b[0m\n\u001b[1;32m    576\u001b[0m \u001b[0;34m\u001b[0m\u001b[0m\n",
      "\u001b[0;32m/usr/lib64/python3.9/threading.py\u001b[0m in \u001b[0;36mwait\u001b[0;34m(self, timeout)\u001b[0m\n\u001b[1;32m    310\u001b[0m         \u001b[0;32mtry\u001b[0m\u001b[0;34m:\u001b[0m    \u001b[0;31m# restore state no matter what (e.g., KeyboardInterrupt)\u001b[0m\u001b[0;34m\u001b[0m\u001b[0;34m\u001b[0m\u001b[0m\n\u001b[1;32m    311\u001b[0m             \u001b[0;32mif\u001b[0m \u001b[0mtimeout\u001b[0m \u001b[0;32mis\u001b[0m \u001b[0;32mNone\u001b[0m\u001b[0;34m:\u001b[0m\u001b[0;34m\u001b[0m\u001b[0;34m\u001b[0m\u001b[0m\n\u001b[0;32m--> 312\u001b[0;31m                 \u001b[0mwaiter\u001b[0m\u001b[0;34m.\u001b[0m\u001b[0macquire\u001b[0m\u001b[0;34m(\u001b[0m\u001b[0;34m)\u001b[0m\u001b[0;34m\u001b[0m\u001b[0;34m\u001b[0m\u001b[0m\n\u001b[0m\u001b[1;32m    313\u001b[0m                 \u001b[0mgotit\u001b[0m \u001b[0;34m=\u001b[0m \u001b[0;32mTrue\u001b[0m\u001b[0;34m\u001b[0m\u001b[0;34m\u001b[0m\u001b[0m\n\u001b[1;32m    314\u001b[0m             \u001b[0;32melse\u001b[0m\u001b[0;34m:\u001b[0m\u001b[0;34m\u001b[0m\u001b[0;34m\u001b[0m\u001b[0m\n",
      "\u001b[0;31mKeyboardInterrupt\u001b[0m: "
     ]
    }
   ],
   "source": [
    "#coefs = np.array([0,best_i,best_j])\n",
    "res = spo.minimize(score_metric,coefs, method='Nelder-Mead', tol=1e-6)\n",
    "res"
   ]
  },
  {
   "cell_type": "code",
   "execution_count": 55,
   "metadata": {},
   "outputs": [],
   "source": [
    "coefs = np.array([0,0,2500])"
   ]
  },
  {
   "cell_type": "code",
   "execution_count": 56,
   "metadata": {},
   "outputs": [
    {
     "name": "stdout",
     "output_type": "stream",
     "text": [
      "Prokhorov done in  10.046008825302124\n"
     ]
    }
   ],
   "source": [
    "tic = time.time()\n",
    "PD = gd.representations.ProkhorovDistance(n_jobs = -1, coefs=coefs)#res.x)\n",
    "PD.fit(train_diag)\n",
    "pm = PD.transform(test_diag)\n",
    "print(\"Prokhorov done in \",time.time()-tic)"
   ]
  },
  {
   "cell_type": "code",
   "execution_count": 58,
   "metadata": {},
   "outputs": [
    {
     "name": "stdout",
     "output_type": "stream",
     "text": [
      "Bottleneck done in  9.193149328231812\n",
      "1-Wasserstein done in  11.346757173538208\n",
      "2-Wasserstein done in  57.62056088447571\n"
     ]
    }
   ],
   "source": [
    "tic = time.time()\n",
    "BD = gd.representations.BottleneckDistance(n_jobs = -1)\n",
    "BD.fit(train_diag)\n",
    "bd = BD.transform(test_diag)\n",
    "print(\"Bottleneck done in \",time.time()-tic)\n",
    "\n",
    "tic = time.time()\n",
    "WD1 = gd.representations.WassersteinDistance(n_jobs = -1, internal_p=1, order=1)\n",
    "WD1.fit(train_diag)\n",
    "wd1 = WD1.transform(test_diag)\n",
    "print(\"1-Wasserstein done in \",time.time()-tic)\n",
    "\n",
    "tic = time.time()\n",
    "WD2 = gd.representations.WassersteinDistance(n_jobs = -1, internal_p=2, order=2)\n",
    "WD2.fit(train_diag)\n",
    "wd2 = WD2.transform(test_diag)\n",
    "print(\"2-Wasserstein done in \",time.time()-tic)"
   ]
  },
  {
   "cell_type": "code",
   "execution_count": 59,
   "metadata": {},
   "outputs": [
    {
     "name": "stdout",
     "output_type": "stream",
     "text": [
      "Prokhorov score  0.975\n",
      "Bottleneck score  0.925\n",
      "1-Wasserstein score  1.0\n",
      "2-Wasserstein score  1.0\n"
     ]
    }
   ],
   "source": [
    "clf = KNeighborsClassifier(metric=\"precomputed\")\n",
    "clf.fit(P1, train_labels)\n",
    "print(\"Prokhorov score \",clf.score(pm,test_labels))\n",
    "\n",
    "clf.fit(B1, train_labels)\n",
    "print(\"Bottleneck score \",clf.score(bd,test_labels))\n",
    "\n",
    "clf.fit(W1, train_labels)\n",
    "print(\"1-Wasserstein score \",clf.score(wd1,test_labels))\n",
    "\n",
    "clf.fit(W2, train_labels)\n",
    "print(\"2-Wasserstein score \",clf.score(wd2,test_labels))"
   ]
  },
  {
   "cell_type": "code",
   "execution_count": 20,
   "metadata": {},
   "outputs": [
    {
     "name": "stdout",
     "output_type": "stream",
     "text": [
      "Prokhorov done in  20.860697031021118\n",
      "Bottleneck done in  19.182024717330933\n"
     ]
    }
   ],
   "source": [
    "tic = time.time()\n",
    "PD = gd.representations.ProkhorovDistance(n_jobs = -1, coefs=coefs)\n",
    "PD.fit(test_diag)\n",
    "pm = PD.transform(test_diag)\n",
    "print(\"Prokhorov done in \",time.time()-tic)\n",
    "\n",
    "tic = time.time()\n",
    "BD = gd.representations.BottleneckDistance(n_jobs = -1)\n",
    "BD.fit(test_diag)\n",
    "bd = BD.transform(test_diag)\n",
    "print(\"Bottleneck done in \",time.time()-tic)"
   ]
  },
  {
   "cell_type": "code",
   "execution_count": 36,
   "metadata": {},
   "outputs": [
    {
     "name": "stdout",
     "output_type": "stream",
     "text": [
      "Approx W2 done in  5.747106075286865\n"
     ]
    }
   ],
   "source": [
    "tic = time.time()\n",
    "coefs = 0.006\n",
    "l = len(test_diag)\n",
    "BP = np.zeros((l,l))\n",
    "\n",
    "for i in range(l):\n",
    "    for j in range(i):\n",
    "        BP[i,j] = coefs*np.sqrt(gd.bottleneck_profile(test_diag[i], test_diag[j], coefs))\n",
    "BP = BP + BP.transpose()\n",
    "print(\"Lower bound W2 done in \",time.time()-tic)\n",
    "\n",
    "UP = np.zeros((l,l))\n",
    "\n",
    "tic = time.time()\n",
    "for i in range(l):\n",
    "    for j in range(i):\n",
    "        UP[i,j] = coefs*np.sqrt(gd.bottleneck_profile(test_diag[i], test_diag[j], coefs)*(BD[i][j]**2-coefs**2)+t**2*(len(test_diag[i])+len(test_diag[j])))\n",
    "UP = UP + UP.transpose()\n",
    "print(\"Upper bound W2 done in \",time.time()-tic)\n",
    "\n",
    "tic = time.time()\n",
    "AW = 0.5*(BP+UP)\n",
    "print(\"Approx W2 done in \",time.time()-tic)\n"
   ]
  },
  {
   "cell_type": "code",
   "execution_count": 22,
   "metadata": {},
   "outputs": [
    {
     "name": "stdout",
     "output_type": "stream",
     "text": [
      "1-Wasserstein done in  26.41602635383606\n",
      "2-Wasserstein done in  140.7768542766571\n"
     ]
    }
   ],
   "source": [
    "tic = time.time()\n",
    "WD1 = gd.representations.WassersteinDistance(n_jobs = -1, internal_p=1, order=1)\n",
    "WD1.fit(test_diag)\n",
    "wd1 = WD1.transform(test_diag)\n",
    "print(\"1-Wasserstein done in \",time.time()-tic)\n",
    "\n",
    "tic = time.time()\n",
    "WD2 = gd.representations.WassersteinDistance(n_jobs = -1, internal_p=2, order=2)\n",
    "WD2.fit(test_diag)\n",
    "wd2 = WD2.transform(test_diag)\n",
    "print(\"2-Wasserstein done in \",time.time()-tic)"
   ]
  },
  {
   "cell_type": "code",
   "execution_count": 37,
   "metadata": {},
   "outputs": [
    {
     "name": "stdout",
     "output_type": "stream",
     "text": [
      "Prokhorov score  0.6833333333333333\n",
      "Bottleneck score  0.6833333333333333\n",
      "Approx W2 score  0.9166666666666666\n",
      "1-Wasserstein score  0.9416666666666667\n",
      "2-Wasserstein score  0.95\n"
     ]
    }
   ],
   "source": [
    "\n",
    "print(\"Prokhorov score \",kmedoids_score(pm,test_labels))\n",
    "\n",
    "print(\"Bottleneck score \",kmedoids_score(bd,test_labels))\n",
    "\n",
    "print(\"Approx W2 score \",kmedoids_score(BP,test_labels))\n",
    "\n",
    "print(\"1-Wasserstein score \",kmedoids_score(wd1,test_labels))\n",
    "\n",
    "print(\"2-Wasserstein score \",kmedoids_score(wd2,test_labels))"
   ]
  },
  {
   "cell_type": "code",
   "execution_count": 63,
   "metadata": {},
   "outputs": [
    {
     "name": "stdout",
     "output_type": "stream",
     "text": [
      "Prokhorov score  0.23854885986917668\n",
      "Bottleneck score  0.37850633548613916\n",
      "1-Wasserstein score  0.6365006460772956\n",
      "2-Wasserstein score  0.5997947023173017\n"
     ]
    }
   ],
   "source": [
    "\n",
    "print(\"Prokhorov score \",metrics.silhouette_score(pm,test_labels, metric='precomputed'))\n",
    "\n",
    "print(\"Bottleneck score \",metrics.silhouette_score(bd,test_labels, metric='precomputed'))\n",
    "\n",
    "print(\"1-Wasserstein score \",metrics.silhouette_score(wd1,test_labels, metric='precomputed'))\n",
    "\n",
    "print(\"2-Wasserstein score \",metrics.silhouette_score(wd2,test_labels, metric='precomputed'))"
   ]
  },
  {
   "cell_type": "code",
   "execution_count": 65,
   "metadata": {},
   "outputs": [
    {
     "data": {
      "text/plain": [
       "array([   0,    0, 2500])"
      ]
     },
     "execution_count": 65,
     "metadata": {},
     "output_type": "execute_result"
    }
   ],
   "source": [
    "coefs"
   ]
  },
  {
   "cell_type": "code",
   "execution_count": 79,
   "metadata": {},
   "outputs": [
    {
     "data": {
      "text/plain": [
       "0.6"
      ]
     },
     "execution_count": 79,
     "metadata": {},
     "output_type": "execute_result"
    }
   ],
   "source": [
    "kmedoids_score(W2, train_labels)"
   ]
  }
 ],
 "metadata": {
  "kernelspec": {
   "display_name": "Python 3 (ipykernel)",
   "language": "python",
   "name": "python3"
  },
  "language_info": {
   "codemirror_mode": {
    "name": "ipython",
    "version": 3
   },
   "file_extension": ".py",
   "mimetype": "text/x-python",
   "name": "python",
   "nbconvert_exporter": "python",
   "pygments_lexer": "ipython3",
   "version": "3.9.7"
  }
 },
 "nbformat": 4,
 "nbformat_minor": 4
}
