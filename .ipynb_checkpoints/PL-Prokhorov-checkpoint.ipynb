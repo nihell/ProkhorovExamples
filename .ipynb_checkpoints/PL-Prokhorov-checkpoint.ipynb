{
 "cells": [
  {
   "cell_type": "code",
   "execution_count": 9,
   "id": "c1c65fde-e64d-43e6-be0c-4e5bf8bfe502",
   "metadata": {},
   "outputs": [],
   "source": [
    "%matplotlib inline\n",
    "import matplotlib.pyplot as plt\n",
    "import numpy as np\n",
    "from scipy.interpolate import interp1d\n",
    "import gudhi as gd"
   ]
  },
  {
   "cell_type": "code",
   "execution_count": 2,
   "id": "79a53acf-bc1a-4f17-9263-c0bf0a912c3a",
   "metadata": {},
   "outputs": [],
   "source": [
    "xs=np.array([0,1,2,4])\n",
    "ys=np.array([3,1,4,1])\n",
    "f=interp1d(xs,ys)"
   ]
  },
  {
   "cell_type": "code",
   "execution_count": 4,
   "id": "5cae3e6a-f133-4822-9178-b44aacb1fa59",
   "metadata": {},
   "outputs": [
    {
     "data": {
      "image/png": "[encoded data removed]",
      "text/plain": [
       "<Figure size 432x288 with 1 Axes>"
      ]
     },
     "metadata": {
      "needs_background": "light"
     },
     "output_type": "display_data"
    }
   ],
   "source": [
    "xnew=np.linspace(0,4)\n",
    "plt.plot(xs, ys, 'o', xnew, f(xnew), '-')\n",
    "plt.show()"
   ]
  },
  {
   "cell_type": "code",
   "execution_count": 22,
   "id": "614dcbbb-ea47-4cfe-a356-816bdce5bc9d",
   "metadata": {},
   "outputs": [],
   "source": [
    "def pl_prokhorov(X, Y, xs, ys, eps):\n",
    "    l=0\n",
    "    r=max(xs)\n",
    "    f=interp1d(xs,ys)\n",
    "    while (r-l>eps):\n",
    "        m = (r+l)/2\n",
    "        Dt = gd.bottleneck_profile(X,Y, m)\n",
    "        #print(m ,Dt, f(m))\n",
    "        if (Dt<=f(m)):\n",
    "            r=m\n",
    "        else:\n",
    "            l=m\n",
    "    return m"
   ]
  },
  {
   "cell_type": "code",
   "execution_count": 23,
   "id": "9dfc87ce-910f-43c6-9934-aff83ed35d26",
   "metadata": {},
   "outputs": [
    {
     "data": {
      "text/plain": [
       "0.498046875"
      ]
     },
     "execution_count": 23,
     "metadata": {},
     "output_type": "execute_result"
    }
   ],
   "source": [
    "X= np.array([[0,1],[1,2],[3,4]])\n",
    "Y= np.array([[0,.5],[1,2.5],[3,5]])\n",
    "xs = np.array([0,5])\n",
    "ys = np.array([0,10])\n",
    "\n",
    "pl_prokhorov(X,Y,xs,ys,0.01)"
   ]
  }
 ],
 "metadata": {
  "kernelspec": {
   "display_name": "Python 3 (ipykernel)",
   "language": "python",
   "name": "python3"
  },
  "language_info": {
   "codemirror_mode": {
    "name": "ipython",
    "version": 3
   },
   "file_extension": ".py",
   "mimetype": "text/x-python",
   "name": "python",
   "nbconvert_exporter": "python",
   "pygments_lexer": "ipython3",
   "version": "3.9.7"
  }
 },
 "nbformat": 4,
 "nbformat_minor": 5
}
