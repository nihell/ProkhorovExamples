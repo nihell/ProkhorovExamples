{
 "cells": [
  {
   "cell_type": "markdown",
   "metadata": {},
   "source": [
    "# Prokhorov metric\n",
    "\n",
    "The prokhorov metric can be fine-tuned on training data to better capture the geometry.\n",
    "First, import the necessary tools:"
   ]
  },
  {
   "cell_type": "code",
   "execution_count": 5,
   "metadata": {},
   "outputs": [],
   "source": [
    "%matplotlib widget\n",
    "import gudhi as gd\n",
    "import matplotlib.pyplot as plt\n",
    "import numpy as np\n",
    "from igraph import *\n",
    "from scipy import sparse\n",
    "import ripser\n",
    "import cechmate as cm\n",
    "import persim\n",
    "from persim import plot_diagrams\n",
    "import gudhi.hera.wasserstein\n",
    "from sklearn import manifold"
   ]
  },
  {
   "cell_type": "markdown",
   "metadata": {},
   "source": [
    "We will study three different point clouds, containing one, two and three noisy circles.\n",
    "Look at the persistence diagrams below.\n",
    "We would like to find the persistence diagram for the two circles to be in between one and three circles in some sense."
   ]
  },
  {
   "cell_type": "code",
   "execution_count": 6,
   "metadata": {},
   "outputs": [
    {
     "name": "stdout",
     "output_type": "stream",
     "text": [
      "Doing spatial.Delaunay triangulation...\n",
      "Finished spatial.Delaunay triangulation (Elapsed Time 0.00187)\n",
      "Building alpha filtration...\n",
      "Finished building alpha filtration (Elapsed Time 0.143)\n",
      "Constructing boundary matrix...\n",
      "Finished constructing boundary matrix (Elapsed Time 0.0199)\n",
      "Computing persistence pairs...\n",
      "Finished computing persistence pairs (Elapsed Time 0.00233)\n",
      "Doing spatial.Delaunay triangulation...\n",
      "Finished spatial.Delaunay triangulation (Elapsed Time 0.00263)\n",
      "Building alpha filtration...\n",
      "Finished building alpha filtration (Elapsed Time 0.393)\n",
      "Constructing boundary matrix...\n",
      "Finished constructing boundary matrix (Elapsed Time 0.0584)\n",
      "Computing persistence pairs...\n",
      "Finished computing persistence pairs (Elapsed Time 0.00608)\n",
      "Doing spatial.Delaunay triangulation...\n",
      "Finished spatial.Delaunay triangulation (Elapsed Time 0.000906)\n",
      "Building alpha filtration...\n",
      "Finished building alpha filtration (Elapsed Time 0.122)\n",
      "Constructing boundary matrix...\n",
      "Finished constructing boundary matrix (Elapsed Time 0.0201)\n",
      "Computing persistence pairs...\n",
      "Finished computing persistence pairs (Elapsed Time 0.00203)\n",
      "3.5488670664163817\n",
      "3.325603544395117\n",
      "3.133636765601772\n"
     ]
    },
    {
     "data": {
      "application/vnd.jupyter.widget-view+json": {
       "model_id": "00b972a0e53e41dbbab7cda5208243a8",
       "version_major": 2,
       "version_minor": 0
      },
      "text/plain": [
       "Canvas(toolbar=Toolbar(toolitems=[('Home', 'Reset original view', 'home', 'home'), ('Back', 'Back to previous …"
      ]
     },
     "metadata": {},
     "output_type": "display_data"
    }
   ],
   "source": [
    "alpha = cm.Alpha()\n",
    "t1 = np.linspace(0, 2*np.pi,300)\n",
    "one_circle = np.zeros((300,2))\n",
    "one_circle[:,0]=6*np.cos(t1)\n",
    "one_circle[:,1]=6*np.sin(t1)\n",
    "\n",
    "t2 = np.linspace(0, 2*np.pi,600)\n",
    "two_circles = np.zeros((900,2))\n",
    "two_circles[0:600,0] = 6*np.cos(t2)\n",
    "two_circles[0:600,1] = 6*np.sin(t2)\n",
    "t2 = np.linspace(0, 2*np.pi,300)\n",
    "two_circles[600:,0] = 4*np.cos(t2)+15\n",
    "two_circles[600:,1] = 4*np.sin(t2)\n",
    "\n",
    "\n",
    "t3 = np.linspace(0, 2*np.pi,150)\n",
    "three_circles = np.zeros((300,2))\n",
    "three_circles[0:150,0] = 6*np.cos(t3)\n",
    "three_circles[0:150,1] = 6*np.sin(t3)\n",
    "t3 = np.linspace(0, 2*np.pi,100)\n",
    "three_circles[150:250,0] = 4*np.cos(t3)+15\n",
    "three_circles[150:250,1] = 4*np.sin(t3)\n",
    "t3 = np.linspace(0, 2*np.pi,50)\n",
    "three_circles[250:,0] = 2*np.cos(t3)+24\n",
    "three_circles[250:,1] = 2*np.sin(t3)\n",
    "\n",
    "one_circle += 0.2*np.random.randn(300,2)\n",
    "two_circles += 0.2*np.random.randn(900,2)\n",
    "three_circles += 0.2*np.random.randn(300,2)\n",
    "\n",
    "fil1 = alpha.build(one_circle)\n",
    "D1 = alpha.diagrams(fil1)[1]\n",
    "fil2 = alpha.build(two_circles)\n",
    "D2 = alpha.diagrams(fil2)[1]\n",
    "fil3 = alpha.build(three_circles)\n",
    "D3 = alpha.diagrams(fil3)[1]\n",
    "\n",
    "print(gd.hera.wasserstein_distance(D1,D2,order = 1, internal_p = float(\"inf\")))\n",
    "print(gd.hera.wasserstein_distance(D2,D3,order = 1, internal_p = float(\"inf\")))\n",
    "print(gd.hera.wasserstein_distance(D1,D3,order = 1, internal_p = float(\"inf\")))\n",
    "\n",
    "f, ((ax1,ax3,ax5),(ax2,ax4,ax6)) = plt.subplots(2,3, figsize=(9,6))\n",
    "ax1.scatter(one_circle[:,0],one_circle[:,1], color='blue')\n",
    "ax3.scatter(two_circles[:,0],two_circles[:,1], color='red')\n",
    "ax5.scatter(three_circles[:,0],three_circles[:,1], color='green')\n",
    "\n",
    "ax2.scatter(D1[:,0],D1[:,1])\n",
    "#ax2.axline((0,0), slope=1, ls='--', c='k')\n",
    "ax4.scatter(D2[:,0],D2[:,1])\n",
    "ax6.scatter(D3[:,0],D3[:,1])\n",
    "\n",
    "plt.show()"
   ]
  },
  {
   "cell_type": "markdown",
   "metadata": {},
   "source": [
    "We sample persitence diagrams as above with some random noise.\n",
    "Input parameters are the sizes of the point clouds and the scale of the noise."
   ]
  },
  {
   "cell_type": "code",
   "execution_count": 7,
   "metadata": {},
   "outputs": [],
   "source": [
    "def ThreePDs(n_samples, noise):\n",
    "    alpha = cm.Alpha()\n",
    "    t1 = np.linspace(0, 2*np.pi,n_samples[0])\n",
    "    one_circle = np.zeros((n_samples[0],2))\n",
    "    one_circle[:,0]=6*np.cos(t1)\n",
    "    one_circle[:,1]=6*np.sin(t1)\n",
    "\n",
    "    t2 = np.linspace(0, 2*np.pi,(2*n_samples[1])//3)\n",
    "    two_circles = np.zeros((n_samples[1],2))\n",
    "    two_circles[0:(2*n_samples[1])//3,0] = 6*np.cos(t2)\n",
    "    two_circles[0:(2*n_samples[1])//3,1] = 6*np.sin(t2)\n",
    "    t2 = np.linspace(0, 2*np.pi,(n_samples[1])//3)\n",
    "    two_circles[(2*n_samples[1])//3:,0] = 4*np.cos(t2)+15\n",
    "    two_circles[(2*n_samples[1])//3:,1] = 4*np.sin(t2)\n",
    "\n",
    "    t3 = np.linspace(0, 2*np.pi,n_samples[2]//2)\n",
    "    three_circles = np.zeros((n_samples[2],2))\n",
    "    three_circles[0:n_samples[2]//2,0] = 6*np.cos(t3)+15\n",
    "    three_circles[0:n_samples[2]//2,1] = 6*np.sin(t3)\n",
    "    t3 = np.linspace(0, 2*np.pi,n_samples[2]//3)\n",
    "    three_circles[n_samples[2]//2:n_samples[2]//2+n_samples[2]//3,0] = 4*np.cos(t3)\n",
    "    three_circles[n_samples[2]//2:n_samples[2]//2+n_samples[2]//3,1] = 4*np.sin(t3)\n",
    "    t3 = np.linspace(0, 2*np.pi,n_samples[2]//6)\n",
    "    three_circles[(5*n_samples[2])//6:,0] = 2*np.cos(t3)+24\n",
    "    three_circles[(5*n_samples[2])//6:,1] = 2*np.sin(t3)\n",
    "\n",
    "    one_circle += noise[0]*np.random.randn(n_samples[0],2)\n",
    "    two_circles += noise[1]*np.random.randn(n_samples[1],2)\n",
    "    three_circles += noise[2]*np.random.randn(n_samples[2],2)\n",
    "\n",
    "    fil1 = alpha.build(one_circle)\n",
    "    D1 = alpha.diagrams(fil1)[1]\n",
    "    fil2 = alpha.build(two_circles)\n",
    "    D2 = alpha.diagrams(fil2)[1]\n",
    "    fil3 = alpha.build(three_circles)\n",
    "    D3 = alpha.diagrams(fil3)[1]\n",
    "\n",
    "    return [D1,D2,D3]"
   ]
  },
  {
   "cell_type": "markdown",
   "metadata": {},
   "source": [
    "Let us sample five persistence diagrams of all three types, so fifteen in total."
   ]
  },
  {
   "cell_type": "code",
   "execution_count": 9,
   "metadata": {},
   "outputs": [
    {
     "name": "stdout",
     "output_type": "stream",
     "text": [
      "Doing spatial.Delaunay triangulation...\n",
      "Finished spatial.Delaunay triangulation (Elapsed Time 0.000716)\n",
      "Building alpha filtration...\n",
      "Finished building alpha filtration (Elapsed Time 0.0626)\n",
      "Constructing boundary matrix...\n",
      "Finished constructing boundary matrix (Elapsed Time 0.00781)\n",
      "Computing persistence pairs...\n",
      "Finished computing persistence pairs (Elapsed Time 0.00108)\n",
      "Doing spatial.Delaunay triangulation...\n",
      "Finished spatial.Delaunay triangulation (Elapsed Time 0.000947)\n",
      "Building alpha filtration...\n",
      "Finished building alpha filtration (Elapsed Time 0.126)\n",
      "Constructing boundary matrix...\n",
      "Finished constructing boundary matrix (Elapsed Time 0.0201)\n",
      "Computing persistence pairs...\n",
      "Finished computing persistence pairs (Elapsed Time 0.00196)\n",
      "Doing spatial.Delaunay triangulation...\n",
      "Finished spatial.Delaunay triangulation (Elapsed Time 0.000529)\n",
      "Building alpha filtration...\n",
      "Finished building alpha filtration (Elapsed Time 0.0537)\n",
      "Constructing boundary matrix...\n",
      "Finished constructing boundary matrix (Elapsed Time 0.00764)\n",
      "Computing persistence pairs...\n",
      "Finished computing persistence pairs (Elapsed Time 0.00078)\n",
      "Doing spatial.Delaunay triangulation...\n",
      "Finished spatial.Delaunay triangulation (Elapsed Time 0.000419)\n",
      "Building alpha filtration...\n",
      "Finished building alpha filtration (Elapsed Time 0.047)\n",
      "Constructing boundary matrix...\n",
      "Finished constructing boundary matrix (Elapsed Time 0.00765)\n",
      "Computing persistence pairs...\n",
      "Finished computing persistence pairs (Elapsed Time 0.000791)\n",
      "Doing spatial.Delaunay triangulation...\n",
      "Finished spatial.Delaunay triangulation (Elapsed Time 0.000839)\n",
      "Building alpha filtration...\n",
      "Finished building alpha filtration (Elapsed Time 0.134)\n",
      "Constructing boundary matrix...\n",
      "Finished constructing boundary matrix (Elapsed Time 0.0197)\n",
      "Computing persistence pairs...\n",
      "Finished computing persistence pairs (Elapsed Time 0.00225)\n",
      "Doing spatial.Delaunay triangulation...\n",
      "Finished spatial.Delaunay triangulation (Elapsed Time 0.000453)\n",
      "Building alpha filtration...\n",
      "Finished building alpha filtration (Elapsed Time 0.0467)\n",
      "Constructing boundary matrix...\n",
      "Finished constructing boundary matrix (Elapsed Time 0.00747)\n",
      "Computing persistence pairs...\n",
      "Finished computing persistence pairs (Elapsed Time 0.000812)\n",
      "Doing spatial.Delaunay triangulation...\n",
      "Finished spatial.Delaunay triangulation (Elapsed Time 0.000387)\n",
      "Building alpha filtration...\n",
      "Finished building alpha filtration (Elapsed Time 0.0466)\n",
      "Constructing boundary matrix...\n",
      "Finished constructing boundary matrix (Elapsed Time 0.00745)\n",
      "Computing persistence pairs...\n",
      "Finished computing persistence pairs (Elapsed Time 0.000784)\n",
      "Doing spatial.Delaunay triangulation...\n",
      "Finished spatial.Delaunay triangulation (Elapsed Time 0.000836)\n",
      "Building alpha filtration...\n",
      "Finished building alpha filtration (Elapsed Time 0.136)\n",
      "Constructing boundary matrix...\n",
      "Finished constructing boundary matrix (Elapsed Time 0.02)\n",
      "Computing persistence pairs...\n",
      "Finished computing persistence pairs (Elapsed Time 0.00199)\n",
      "Doing spatial.Delaunay triangulation...\n",
      "Finished spatial.Delaunay triangulation (Elapsed Time 0.000465)\n",
      "Building alpha filtration...\n",
      "Finished building alpha filtration (Elapsed Time 0.0476)\n",
      "Constructing boundary matrix...\n",
      "Finished constructing boundary matrix (Elapsed Time 0.0078)\n",
      "Computing persistence pairs...\n",
      "Finished computing persistence pairs (Elapsed Time 0.00079)\n",
      "Doing spatial.Delaunay triangulation...\n",
      "Finished spatial.Delaunay triangulation (Elapsed Time 0.000365)\n",
      "Building alpha filtration...\n",
      "Finished building alpha filtration (Elapsed Time 0.0489)\n",
      "Constructing boundary matrix...\n",
      "Finished constructing boundary matrix (Elapsed Time 0.0078)\n",
      "Computing persistence pairs...\n",
      "Finished computing persistence pairs (Elapsed Time 0.000798)\n",
      "Doing spatial.Delaunay triangulation...\n",
      "Finished spatial.Delaunay triangulation (Elapsed Time 0.00094)\n",
      "Building alpha filtration...\n",
      "Finished building alpha filtration (Elapsed Time 0.131)\n",
      "Constructing boundary matrix...\n",
      "Finished constructing boundary matrix (Elapsed Time 0.0202)\n",
      "Computing persistence pairs...\n",
      "Finished computing persistence pairs (Elapsed Time 0.00203)\n",
      "Doing spatial.Delaunay triangulation...\n",
      "Finished spatial.Delaunay triangulation (Elapsed Time 0.000457)\n",
      "Building alpha filtration...\n",
      "Finished building alpha filtration (Elapsed Time 0.0465)\n",
      "Constructing boundary matrix...\n",
      "Finished constructing boundary matrix (Elapsed Time 0.00777)\n",
      "Computing persistence pairs...\n",
      "Finished computing persistence pairs (Elapsed Time 0.000782)\n",
      "Doing spatial.Delaunay triangulation...\n",
      "Finished spatial.Delaunay triangulation (Elapsed Time 0.000367)\n",
      "Building alpha filtration...\n",
      "Finished building alpha filtration (Elapsed Time 0.0581)\n",
      "Constructing boundary matrix...\n",
      "Finished constructing boundary matrix (Elapsed Time 0.00777)\n",
      "Computing persistence pairs...\n",
      "Finished computing persistence pairs (Elapsed Time 0.000793)\n",
      "Doing spatial.Delaunay triangulation...\n",
      "Finished spatial.Delaunay triangulation (Elapsed Time 0.00107)\n",
      "Building alpha filtration...\n",
      "Finished building alpha filtration (Elapsed Time 0.157)\n",
      "Constructing boundary matrix...\n",
      "Finished constructing boundary matrix (Elapsed Time 0.0223)\n",
      "Computing persistence pairs...\n",
      "Finished computing persistence pairs (Elapsed Time 0.00359)\n",
      "Doing spatial.Delaunay triangulation...\n",
      "Finished spatial.Delaunay triangulation (Elapsed Time 0.000569)\n",
      "Building alpha filtration...\n",
      "Finished building alpha filtration (Elapsed Time 0.054)\n",
      "Constructing boundary matrix...\n",
      "Finished constructing boundary matrix (Elapsed Time 0.00991)\n",
      "Computing persistence pairs...\n",
      "Finished computing persistence pairs (Elapsed Time 0.000932)\n"
     ]
    }
   ],
   "source": [
    "np.random.seed(0)\n",
    "n_iter = 5\n",
    "pl1 = []\n",
    "pl2 = []\n",
    "pl3 = []\n",
    "for i in range(0,n_iter):\n",
    "    pds=ThreePDs([120,300,120],[0.2,0.23,0.2])\n",
    "    pl1.append(pds[0])\n",
    "    pl2.append(pds[1])\n",
    "    pl3.append(pds[2])\n",
    "\n",
    "persistence_list = pl1+pl2+pl3\n"
   ]
  },
  {
   "cell_type": "code",
   "execution_count": 10,
   "metadata": {},
   "outputs": [
    {
     "data": {
      "text/plain": [
       "15"
      ]
     },
     "execution_count": 10,
     "metadata": {},
     "output_type": "execute_result"
    }
   ],
   "source": [
    "len(persistence_list)"
   ]
  },
  {
   "cell_type": "markdown",
   "metadata": {},
   "source": [
    "Recall $D_{X,Y} = \\inf\\limits_{M:X\\to Y} |\\{d(x,M(x))>t\\}|$, where $M$ ranges over all matchings."
   ]
  },
  {
   "cell_type": "code",
   "execution_count": 11,
   "metadata": {},
   "outputs": [],
   "source": [
    "def D(r_vals, t):\n",
    "    return np.min(np.where(np.array(r_vals)<=t))"
   ]
  },
  {
   "cell_type": "markdown",
   "metadata": {},
   "source": [
    "We are going to compute the average $D$ and display the error bars. This takes some time for big sample sizes."
   ]
  },
  {
   "cell_type": "code",
   "execution_count": 12,
   "metadata": {},
   "outputs": [],
   "source": [
    "r_vals12 = [None]*(n_iter*n_iter)\n",
    "index = 0\n",
    "for i in range(0,n_iter):\n",
    "    for j in range(0,n_iter):\n",
    "        n_points=len(persistence_list[i])+len(persistence_list[n_iter+j])\n",
    "        #compute the D function\n",
    "        d_vals = np.linspace(0,n_points,n_points+1)\n",
    "        r_vals12[index] = [gd.prokhorov_distance(persistence_list[i], persistence_list[n_iter+j], np.array([r])) for r in d_vals]\n",
    "        index = index + 1\n",
    "\n",
    "r_vals13 = [None]*(n_iter*n_iter)\n",
    "index = 0\n",
    "for i in range(0,n_iter):\n",
    "    for j in range(0,n_iter):\n",
    "        n_points=len(persistence_list[i])+len(persistence_list[2*n_iter+j])\n",
    "        #compute the D function\n",
    "        d_vals = np.linspace(0,n_points,n_points+1)\n",
    "        r_vals13[index] = [gd.prokhorov_distance(persistence_list[i], persistence_list[2*n_iter+j], np.array([r])) for r in d_vals]\n",
    "        index = index + 1\n",
    "        \n",
    "r_vals23 = [None]*(n_iter*n_iter)\n",
    "index = 0\n",
    "for i in range(0, n_iter):\n",
    "    for j in range(0,n_iter):\n",
    "        n_points=len(persistence_list[n_iter+i])+len(persistence_list[2*n_iter+j])\n",
    "        #compute the D function\n",
    "        d_vals = np.linspace(0,n_points,n_points+1)\n",
    "        r_vals23[index] = [gd.prokhorov_distance(persistence_list[n_iter+i], persistence_list[2*n_iter+j], np.array([r])) for r in d_vals]\n",
    "        index = index + 1"
   ]
  },
  {
   "cell_type": "code",
   "execution_count": 31,
   "metadata": {},
   "outputs": [
    {
     "data": {
      "application/vnd.jupyter.widget-view+json": {
       "model_id": "5d0cd70d75ff404d886fa31e2d4fbcae",
       "version_major": 2,
       "version_minor": 0
      },
      "text/plain": [
       "Canvas(toolbar=Toolbar(toolitems=[('Home', 'Reset original view', 'home', 'home'), ('Back', 'Back to previous …"
      ]
     },
     "metadata": {},
     "output_type": "display_data"
    }
   ],
   "source": [
    "fig = plt.figure(figsize = (10,5))\n",
    "ts = np.linspace(0,2,100)\n",
    "Dmean = np.array([np.mean([D(r,t) for r in r_vals12]) for t in ts])\n",
    "Dstd = np.array([np.std([D(r,t) for r in r_vals12]) for t in ts])\n",
    "plt.errorbar(ts,Dmean,Dstd, linestyle='None', marker='o', ms = 2, label = \"1 vs 2\")\n",
    "\n",
    "Dmean = np.array([np.mean([D(r,t) for r in r_vals13]) for t in ts])\n",
    "Dstd = np.array([np.std([D(r,t) for r in r_vals13]) for t in ts])\n",
    "plt.errorbar(ts,Dmean,Dstd, linestyle='None', marker='o', ms = 2, label = \"1 vs 3\")\n",
    "\n",
    "Dmean = np.array([np.mean([D(r,t) for r in r_vals23]) for t in ts])\n",
    "Dstd = np.array([np.std([D(r,t) for r in r_vals23]) for t in ts])\n",
    "plt.errorbar(ts,Dmean,Dstd, linestyle='None', marker='o', ms = 2, label = \"2 vs 3\")\n",
    "\n",
    "plt.plot(ts,9**ts -1, c='k', ls='--', label=\"$9^t-1$\")\n",
    "#plt.plot(ts,1.64**ts -1, c='k', ls='--', label=\"$1.64^t-1$\")\n",
    "\n",
    "handles, labels = plt.gca().get_legend_handles_labels()\n",
    "by_label = dict(zip(labels, handles))\n",
    "plt.legend(by_label.values(), by_label.keys(), loc=\"upper right\")\n",
    "\n",
    "plt.gca().set_ylim((-1,40))\n",
    "\n",
    "#plt.plot(ts,np.log(141)*ts+np.log(141)/2**2*ts**2+np.log(141)/6**3*ts**3+np.log(141)/24**4*ts**4, color='grey', ls='--')\n",
    "\n",
    "plt.show()"
   ]
  },
  {
   "cell_type": "code",
   "execution_count": 21,
   "metadata": {},
   "outputs": [],
   "source": [
    "r_vals11 = [None]*((n_iter*(n_iter+1))//2)\n",
    "index = 0\n",
    "for i in range(0,n_iter):\n",
    "    for j in range(i,n_iter):\n",
    "        n_points=len(persistence_list[i])+len(persistence_list[j])\n",
    "        #compute the D function\n",
    "        d_vals = np.linspace(0,n_points,n_points+1)\n",
    "        r_vals11[index] = [gd.prokhorov_distance(persistence_list[i], persistence_list[j], np.array([r])) for r in d_vals]\n",
    "        index = index + 1\n",
    "\n",
    "r_vals22 = [None]*((n_iter*(n_iter+1))//2)\n",
    "index = 0\n",
    "for i in range(0,n_iter):\n",
    "    for j in range(i,n_iter):\n",
    "        n_points=len(persistence_list[n_iter+i])+len(persistence_list[n_iter+j])\n",
    "        #compute the D function\n",
    "        d_vals = np.linspace(0,n_points,n_points+1)\n",
    "        r_vals22[index] = [gd.prokhorov_distance(persistence_list[n_iter+i], persistence_list[n_iter+j], np.array([r])) for r in d_vals]\n",
    "        index = index + 1\n",
    "        \n",
    "r_vals33 = [None]*((n_iter*(n_iter+1))//2)\n",
    "index = 0\n",
    "for i in range(0, n_iter):\n",
    "    for j in range(i,n_iter):\n",
    "        n_points=len(persistence_list[2*n_iter+i])+len(persistence_list[2*n_iter+j])\n",
    "        #compute the D function\n",
    "        d_vals = np.linspace(0,n_points,n_points+1)\n",
    "        r_vals33[index] = [gd.prokhorov_distance(persistence_list[2*n_iter+i], persistence_list[2*n_iter+j], np.array([r])) for r in d_vals]\n",
    "        index = index + 1"
   ]
  },
  {
   "cell_type": "code",
   "execution_count": 22,
   "metadata": {},
   "outputs": [
    {
     "data": {
      "application/vnd.jupyter.widget-view+json": {
       "model_id": "b0c64bbdcf4a481284455b44f61bd8a2",
       "version_major": 2,
       "version_minor": 0
      },
      "text/plain": [
       "Canvas(toolbar=Toolbar(toolitems=[('Home', 'Reset original view', 'home', 'home'), ('Back', 'Back to previous …"
      ]
     },
     "metadata": {},
     "output_type": "display_data"
    }
   ],
   "source": [
    "fig = plt.figure(figsize = (10,5))\n",
    "ts = np.linspace(0,0.33,100)\n",
    "Dmean = np.array([np.mean([D(r,t) for r in r_vals11]) for t in ts])\n",
    "Dstd = np.array([np.std([D(r,t) for r in r_vals11]) for t in ts])\n",
    "plt.errorbar(ts,Dmean,Dstd, linestyle='None', marker='o', ms = 2, label = \"1 vs 1\")\n",
    "\n",
    "Dmean = np.array([np.mean([D(r,t) for r in r_vals22]) for t in ts])\n",
    "Dstd = np.array([np.std([D(r,t) for r in r_vals22]) for t in ts])\n",
    "plt.errorbar(ts,Dmean,Dstd, linestyle='None', marker='o', ms = 2, label = \"2 vs 2\")\n",
    "\n",
    "Dmean = np.array([np.mean([D(r,t) for r in r_vals33]) for t in ts])\n",
    "Dstd = np.array([np.std([D(r,t) for r in r_vals33]) for t in ts])\n",
    "plt.errorbar(ts,Dmean,Dstd, linestyle='None', marker='o', ms = 2, label = \"3 vs 3\")\n",
    "\n",
    "#plt.plot(ts,141**ts - 1, c='k', ls='--')\n",
    "#plt.plot(ts,np.log(141)*ts+np.log(141)/2**2*ts**2+np.log(141)/6**3*ts**3+np.log(141)/24**4*ts**4, color='grey', ls='--')\n",
    "plt.plot(ts,9**ts -1, c='k', ls='--', label=\"$9^t-1$\")\n",
    "\n",
    "handles, labels = plt.gca().get_legend_handles_labels()\n",
    "by_label = dict(zip(labels, handles))\n",
    "plt.legend(by_label.values(), by_label.keys(), loc=\"upper right\")\n",
    "\n",
    "\n",
    "\n",
    "plt.show()"
   ]
  },
  {
   "cell_type": "code",
   "execution_count": 23,
   "metadata": {},
   "outputs": [
    {
     "name": "stdout",
     "output_type": "stream",
     "text": [
      "[0.00000000e+00 2.19722458e+00 2.41389792e+00 1.76795861e+00\n",
      " 9.71150529e-01 4.26767162e-01 1.56283883e-01 4.90558270e-02\n",
      " 1.34733336e-02 3.28932663e-03 7.22738932e-04]\n"
     ]
    }
   ],
   "source": [
    "l = 3*n_iter\n",
    "B1 = np.zeros((l,l))\n",
    "P1 = np.zeros((l,l))\n",
    "W1 = np.zeros((l,l))\n",
    "\n",
    "base = 9\n",
    "coefs = [np.log(base)**k/math.factorial(k) for k in range(1,11)]\n",
    "coefs = np.array([0]+coefs)\n",
    "print(coefs)\n",
    "\n",
    "for i in range(l):\n",
    "    for j in range(i):\n",
    "        B1[i,j] = gd.bottleneck_distance(persistence_list[i], persistence_list[j])\n",
    "        P1[i,j] = gd.prokhorov_distance(persistence_list[i], persistence_list[j], coefs)\n",
    "        W1[i,j] = gd.hera.wasserstein_distance(persistence_list[i], persistence_list[j],order = 1, internal_p = float(\"inf\"))\n",
    "        \n",
    "    "
   ]
  },
  {
   "cell_type": "code",
   "execution_count": 24,
   "metadata": {},
   "outputs": [],
   "source": [
    "B1 = B1 + B1.transpose()\n",
    "P1 = P1 + P1.transpose()\n",
    "W1 = W1 + W1.transpose()"
   ]
  },
  {
   "cell_type": "code",
   "execution_count": 25,
   "metadata": {},
   "outputs": [
    {
     "data": {
      "application/vnd.jupyter.widget-view+json": {
       "model_id": "38234f875f074962bd6ea0d658dfcae0",
       "version_major": 2,
       "version_minor": 0
      },
      "text/plain": [
       "Canvas(toolbar=Toolbar(toolitems=[('Home', 'Reset original view', 'home', 'home'), ('Back', 'Back to previous …"
      ]
     },
     "metadata": {},
     "output_type": "display_data"
    }
   ],
   "source": [
    "mds = manifold.MDS(n_components=2, max_iter=5000, eps=1e-12,\n",
    "                   dissimilarity=\"precomputed\", n_jobs=1)\n",
    "pos = mds.fit(P1).embedding_\n",
    "plt.figure(figsize=(5,5))\n",
    "for i in range(0,3):\n",
    "    plt.scatter(pos[i*n_iter:(i+1)*n_iter,0], pos[i*n_iter:(i+1)*n_iter, 1], label=\"{} features\".format(i+1))\n",
    "    #plt.scatter(pos[i*n_iter:(i+1)*n_iter,0], [0]*5, label=\"{} features\".format(i+1))\n",
    "    \n",
    "#plt.gca().set_xlim((-0.2,0.2))\n",
    "plt.gca().set_aspect('equal', adjustable='box')\n",
    "\n",
    "#plt.legend(bbox_to_anchor=(0, 1, 1, 0), loc=\"lower left\", mode=\"expand\", ncol=3)\n",
    "plt.xlabel(\"MDS from Prokhorov\")\n",
    "plt.show()"
   ]
  },
  {
   "cell_type": "code",
   "execution_count": 26,
   "metadata": {},
   "outputs": [
    {
     "data": {
      "application/vnd.jupyter.widget-view+json": {
       "model_id": "f4f35a456a834e35951192f6851629f3",
       "version_major": 2,
       "version_minor": 0
      },
      "text/plain": [
       "Canvas(toolbar=Toolbar(toolitems=[('Home', 'Reset original view', 'home', 'home'), ('Back', 'Back to previous …"
      ]
     },
     "metadata": {},
     "output_type": "display_data"
    }
   ],
   "source": [
    "mds = manifold.MDS(n_components=2, max_iter=5000, eps=1e-12,\n",
    "                   dissimilarity=\"precomputed\", n_jobs=1)\n",
    "pos = mds.fit(B1).embedding_\n",
    "plt.figure(figsize=(5,5))\n",
    "for i in range(0,3):\n",
    "    plt.scatter(pos[i*n_iter:(i+1)*n_iter,0], pos[i*n_iter:(i+1)*n_iter, 1], label=\"{} features\".format(i+1))\n",
    "    #plt.scatter(pos[i*n_iter:(i+1)*n_iter,0], [0]*5 , label=\"{} features\".format(i+1))\n",
    "\n",
    "plt.gca().set_aspect('equal', adjustable='box')\n",
    "#plt.legend(bbox_to_anchor=(0, 1, 1, 0), loc=\"lower left\", mode=\"expand\", ncol=3)\n",
    "plt.xlabel(\"MDS from Bottleneck\")\n",
    "plt.show()"
   ]
  },
  {
   "cell_type": "code",
   "execution_count": 27,
   "metadata": {},
   "outputs": [
    {
     "data": {
      "application/vnd.jupyter.widget-view+json": {
       "model_id": "a0cc4b1d9a344fbaacfe5e9f8067024d",
       "version_major": 2,
       "version_minor": 0
      },
      "text/plain": [
       "Canvas(toolbar=Toolbar(toolitems=[('Home', 'Reset original view', 'home', 'home'), ('Back', 'Back to previous …"
      ]
     },
     "metadata": {},
     "output_type": "display_data"
    }
   ],
   "source": [
    "mds = manifold.MDS(n_components=2, max_iter=5000, eps=1e-12,\n",
    "                   dissimilarity=\"precomputed\", n_jobs=1)\n",
    "pos = mds.fit(W1).embedding_\n",
    "plt.figure(figsize=(5,5))\n",
    "for i in range(0,3):\n",
    "    #plt.scatter(pos[i*n_iter:(i+1)*n_iter,0], [0]*5, label=\"{} features\".format(i+1))\n",
    "    plt.scatter(pos[i*n_iter:(i+1)*n_iter,0], pos[i*n_iter:(i+1)*n_iter, 1], label=\"{} features\".format(i+1))\n",
    "\n",
    "plt.gca().set_aspect('equal', adjustable='box')    \n",
    "#plt.legend(bbox_to_anchor=(0, 1, 1, 0), loc=\"lower left\", mode=\"expand\", ncol=3)\n",
    "plt.xlabel(\"MDS from Wasserstein\")\n",
    "\n",
    "plt.show()"
   ]
  },
  {
   "cell_type": "code",
   "execution_count": 28,
   "metadata": {},
   "outputs": [
    {
     "data": {
      "application/vnd.jupyter.widget-view+json": {
       "model_id": "af3407a702f9491584667e7aeef48372",
       "version_major": 2,
       "version_minor": 0
      },
      "text/plain": [
       "Canvas(toolbar=Toolbar(toolitems=[('Home', 'Reset original view', 'home', 'home'), ('Back', 'Back to previous …"
      ]
     },
     "metadata": {},
     "output_type": "display_data"
    }
   ],
   "source": [
    "f, (ax1,ax2,ax3) = plt.subplots(1,3,figsize=(9,3))\n",
    "\n",
    "ax1.matshow(B1)\n",
    "ax1.set_title(\"Bottleneck\")\n",
    "ax2.matshow(P1)\n",
    "ax2.set_title(\"Prokhorov\")\n",
    "ax3.matshow(W1)\n",
    "ax3.set_title(\"Wasserstein\")\n",
    "plt.show()"
   ]
  },
  {
   "cell_type": "code",
   "execution_count": null,
   "metadata": {},
   "outputs": [],
   "source": []
  }
 ],
 "metadata": {
  "kernelspec": {
   "display_name": "Python 3",
   "language": "python",
   "name": "python3"
  },
  "language_info": {
   "codemirror_mode": {
    "name": "ipython",
    "version": 3
   },
   "file_extension": ".py",
   "mimetype": "text/x-python",
   "name": "python",
   "nbconvert_exporter": "python",
   "pygments_lexer": "ipython3",
   "version": "3.8.6"
  }
 },
 "nbformat": 4,
 "nbformat_minor": 4
}
