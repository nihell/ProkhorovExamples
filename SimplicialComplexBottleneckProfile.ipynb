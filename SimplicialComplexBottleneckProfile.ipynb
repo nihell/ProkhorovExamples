{
 "cells": [
  {
   "cell_type": "code",
   "execution_count": 1,
   "metadata": {},
   "outputs": [],
   "source": [
    "\n",
    "import ipywidgets as widgets\n",
    "%matplotlib widget\n",
    "\n",
    "import numpy as np\n",
    "import gudhi as gd\n",
    "from gudhi import hera\n",
    "\n",
    "from numpy.random import default_rng\n",
    "import matplotlib.pyplot as plt\n",
    "from matplotlib.widgets import Slider\n",
    "import matplotlib.cm as cm\n",
    "from matplotlib.colors import ListedColormap, LinearSegmentedColormap\n",
    "import matplotlib.animation as animation\n",
    "import persim\n",
    "import math\n",
    "from celluloid import Camera\n",
    "from cycler import cycler"
   ]
  },
  {
   "cell_type": "code",
   "execution_count": 2,
   "metadata": {},
   "outputs": [],
   "source": [
    "st1 = gd.SimplexTree()\n",
    "with open(\"Complex1\") as f:\n",
    "    content = f.readlines()    \n",
    "for line in content:\n",
    "    st1.insert(eval(line)[0], filtration = eval(line)[1])\n",
    "\n",
    "st2 = gd.SimplexTree()\n",
    "with open(\"Complex2\") as f:\n",
    "    content = f.readlines()    \n",
    "for line in content:\n",
    "    st2.insert(eval(line)[0], filtration = eval(line)[1])"
   ]
  },
  {
   "cell_type": "code",
   "execution_count": 3,
   "metadata": {},
   "outputs": [
    {
     "data": {
      "text/plain": [
       "True"
      ]
     },
     "execution_count": 3,
     "metadata": {},
     "output_type": "execute_result"
    }
   ],
   "source": [
    "st1 = gd.SimplexTree()\n",
    "st2 = gd.SimplexTree()\n",
    "\n",
    "st1.insert([3],filtration=0)\n",
    "st2.insert([3],filtration=0)\n",
    "st1.insert([1],filtration=2/4)\n",
    "st2.insert([1],filtration=2/4)\n",
    "st1.insert([2],filtration=1/4)\n",
    "st2.insert([2],filtration=1/4)\n",
    "st1.insert([0],filtration=3/4)\n",
    "st2.insert([0],filtration=3/4)\n",
    "\n",
    "\n",
    "st1.insert([0,3], filtration = 1.2)\n",
    "st1.insert([0,1], filtration = 1)\n",
    "st1.insert([0,2], filtration = 1.4)\n",
    "st1.insert([1,3], filtration = 1.6)\n",
    "st1.insert([1,2], filtration = 1.8)\n",
    "\n",
    "\n",
    "st2.insert([1,3], filtration = 1.6)\n",
    "st2.insert([1,2], filtration = 1.8)\n",
    "st2.insert([0,1], filtration=2)\n",
    "st2.insert([0,3], filtration=6/5)\n",
    "st2.insert([0,2], filtration=7/5)\n",
    "    \n",
    "st1.insert([0,1,2], filtration = 3)\n",
    "st2.insert([0,1,2], filtration = 3)\n",
    "st1.insert([0,1,3], filtration = 3.5)\n",
    "st2.insert([0,1,3], filtration = 3.5)"
   ]
  },
  {
   "cell_type": "code",
   "execution_count": 4,
   "metadata": {},
   "outputs": [
    {
     "data": {
      "text/plain": [
       "False"
      ]
     },
     "execution_count": 4,
     "metadata": {},
     "output_type": "execute_result"
    }
   ],
   "source": [
    "rng = default_rng()\n",
    "\n",
    "st1 = gd.SimplexTree()\n",
    "st2 = gd.SimplexTree()\n",
    "\n",
    "for i in range(0,4):\n",
    "    st1.insert([i],filtration=rng.random()/2)\n",
    "    st2.insert([i],filtration=(rng.random()/2)+0.5)\n",
    "    for j in range(0,i):\n",
    "        st1.insert([i,j],filtration=(rng.random()/2)+2)\n",
    "        st2.insert([i,j],filtration=(rng.random()/2)+2.5)\n",
    "        for k in range(0,j):\n",
    "            st1.insert([i,j,0],filtration=(rng.random()/2)+4)\n",
    "            st2.insert([i,j,0],filtration=(rng.random()/2)+4.5)\n",
    "\n",
    "st1.make_filtration_non_decreasing()\n",
    "st2.make_filtration_non_decreasing()"
   ]
  },
  {
   "cell_type": "code",
   "execution_count": 5,
   "metadata": {},
   "outputs": [
    {
     "data": {
      "text/plain": [
       "True"
      ]
     },
     "execution_count": 5,
     "metadata": {},
     "output_type": "execute_result"
    }
   ],
   "source": [
    "st1 = gd.SimplexTree()\n",
    "st2 = gd.SimplexTree()\n",
    "\n",
    "for i in range(0,4):\n",
    "    st1.insert([i],filtration=rng.random()/2)\n",
    "    st2.insert([i],filtration=(rng.random()/2)+0.5)\n",
    "    for j in range(0,i):\n",
    "        st1.insert([i,j],filtration=(rng.random()/2)+2)\n",
    "        st2.insert([i,j],filtration=(rng.random()/2)+2.5)\n",
    "\n",
    "st1.insert([0,1,2],filtration=4.0)\n",
    "st1.insert([0,1,3],filtration=4.1)\n",
    "st1.insert([0,2,3],filtration=4.25)\n",
    "st1.insert([1,2,3],filtration=4.4)\n",
    "\n",
    "st2.insert([0,1,2],filtration=4.9)\n",
    "st2.insert([0,1,3],filtration=4.7)\n",
    "st2.insert([0,2,3],filtration=4.55)\n",
    "st2.insert([1,2,3],filtration=4.45)\n",
    "\n",
    "#st1.make_filtration_non_decreasing()\n",
    "#st2.make_filtration_non_decreasing()"
   ]
  },
  {
   "cell_type": "code",
   "execution_count": 12,
   "metadata": {},
   "outputs": [],
   "source": [
    "#extending the above example to n instead of 2\n",
    "st1 = gd.SimplexTree()\n",
    "st2 = gd.SimplexTree()\n",
    "n = 4\n",
    "\n",
    "for i in range(0,n+2):\n",
    "    st1.insert([i],filtration = ((n+1-i)%(n+2))/(n+2))\n",
    "    st2.insert([i],filtration = ((n+1-i)%(n+2))/(n+2))\n",
    "    \n",
    "st1.insert([0,1],filtration = 1)\n",
    "st2.insert([0,1],filtration = 2)\n",
    "\n",
    "for i in range(2,n+2):\n",
    "    st1.insert([0,i],filtration = (4*n-2*i+4)/(2*n+1))\n",
    "    st2.insert([0,i],filtration = (4*n-2*i+4)/(2*n+1))\n",
    "    st1.insert([1,i],filtration = (4*n-2*i+5)/(2*n+1))\n",
    "    st2.insert([1,i],filtration = (4*n-2*i+5)/(2*n+1))\n",
    "    \n",
    "for i in range(2,n+2):\n",
    "    st1.insert([0,1,i],filtration = 3+(i-2)/n)\n",
    "    st2.insert([0,1,i],filtration = 3+(i-2)/n)"
   ]
  },
  {
   "cell_type": "code",
   "execution_count": 7,
   "metadata": {},
   "outputs": [],
   "source": [
    "st1 = gd.SimplexTree()\n",
    "st2 = gd.SimplexTree()\n",
    "n = 4\n",
    "\n",
    "st1.insert([0],filtration = 0)\n",
    "st2.insert([0],filtration = 1)\n",
    "\n",
    "for i in range(1,n+1):\n",
    "    st1.insert([i],filtration = i/(n+1))\n",
    "    st2.insert([i],filtration = i/(n+1))\n",
    "\n",
    "for i in range(1,n+1):\n",
    "    st1.insert([0,i],filtration = 1+i/(n+1))\n",
    "    st2.insert([0,i],filtration = 1+i/(n+1))"
   ]
  },
  {
   "cell_type": "code",
   "execution_count": 13,
   "metadata": {
    "tags": []
   },
   "outputs": [
    {
     "name": "stdout",
     "output_type": "stream",
     "text": [
      "([5], 0.0)\n",
      "([4], 0.16666666666666666)\n",
      "([3], 0.3333333333333333)\n",
      "([2], 0.5)\n",
      "([1], 0.6666666666666666)\n",
      "([0], 0.8333333333333334)\n",
      "([0, 1], 1.0)\n",
      "([0, 5], 1.1111111111111112)\n",
      "([1, 5], 1.2222222222222223)\n",
      "([0, 4], 1.3333333333333333)\n",
      "([1, 4], 1.4444444444444444)\n",
      "([0, 3], 1.5555555555555556)\n",
      "([1, 3], 1.6666666666666667)\n",
      "([0, 2], 1.7777777777777777)\n",
      "([1, 2], 1.8888888888888888)\n",
      "([0, 1, 2], 3.0)\n",
      "([0, 1, 3], 3.25)\n",
      "([0, 1, 4], 3.5)\n",
      "([0, 1, 5], 3.75)\n"
     ]
    }
   ],
   "source": [
    "st1_gen  = st1.get_filtration() \n",
    "sc1_dict = {}\n",
    "for splx in st1_gen :\n",
    "    sc1_dict.update({str(splx[0]):splx[1]})\n",
    "    print(splx)"
   ]
  },
  {
   "cell_type": "code",
   "execution_count": 14,
   "metadata": {
    "tags": []
   },
   "outputs": [
    {
     "name": "stdout",
     "output_type": "stream",
     "text": [
      "([5], 0.0)\n",
      "([4], 0.16666666666666666)\n",
      "([3], 0.3333333333333333)\n",
      "([2], 0.5)\n",
      "([1], 0.6666666666666666)\n",
      "([0], 0.8333333333333334)\n",
      "([0, 5], 1.1111111111111112)\n",
      "([1, 5], 1.2222222222222223)\n",
      "([0, 4], 1.3333333333333333)\n",
      "([1, 4], 1.4444444444444444)\n",
      "([0, 3], 1.5555555555555556)\n",
      "([1, 3], 1.6666666666666667)\n",
      "([0, 2], 1.7777777777777777)\n",
      "([1, 2], 1.8888888888888888)\n",
      "([0, 1], 2.0)\n",
      "([0, 1, 2], 3.0)\n",
      "([0, 1, 3], 3.25)\n",
      "([0, 1, 4], 3.5)\n",
      "([0, 1, 5], 3.75)\n"
     ]
    }
   ],
   "source": [
    "st2_gen= st2.get_filtration() \n",
    "sc2_dict = {}\n",
    "for splx in st2_gen :\n",
    "    sc2_dict.update({str(splx[0]):splx[1]})\n",
    "    print(splx)"
   ]
  },
  {
   "cell_type": "code",
   "execution_count": 21,
   "metadata": {},
   "outputs": [
    {
     "name": "stdout",
     "output_type": "stream",
     "text": [
      "{'[0, 1]': 1.0, '[0, 9]': 0.0, '[1, 9]': 0.0, '[0, 8]': 0.0, '[1, 8]': 0.0, '[0, 7]': 0.0, '[1, 7]': 0.0, '[0, 6]': 0.0, '[1, 6]': 0.0, '[0, 5]': 0.0, '[1, 5]': 0.0, '[0, 4]': 0.0, '[1, 4]': 0.0, '[0, 3]': 0.0, '[1, 3]': 0.0, '[0, 2]': 0.0, '[1, 2]': 0.0, '[0, 1, 2]': 0.0, '[0, 1, 3]': 0.0, '[0, 1, 4]': 0.0, '[0, 1, 5]': 0.0, '[0, 1, 6]': 0.0, '[0, 1, 7]': 0.0, '[0, 1, 8]': 0.0, '[0, 1, 9]': 0.0}\n"
     ]
    }
   ],
   "source": [
    "dists_simplices = {k:np.abs(sc1_dict[k]- sc2_dict[k]) for k in sc1_dict.keys() if len(k)>3}\n",
    "dists = np.unique(list(dists_simplices.values()))\n",
    "dists = np.sort(dists)\n",
    "\n",
    "far_simplices = [(sum(x >= d for x in dists_simplices.values())) for d in dists]\n",
    "print(dists_simplices)"
   ]
  },
  {
   "cell_type": "code",
   "execution_count": 22,
   "metadata": {},
   "outputs": [
    {
     "name": "stdout",
     "output_type": "stream",
     "text": [
      "{'([0], [1, 0])': {'dim': 0, 'birth': 0.9, 'death': 1.0}, '([1], [9, 0])': {'dim': 0, 'birth': 0.8, 'death': 1.0588235294117647}, '([8], [8, 0])': {'dim': 0, 'birth': 0.1, 'death': 1.1764705882352942}, '([7], [7, 0])': {'dim': 0, 'birth': 0.2, 'death': 1.2941176470588236}, '([6], [6, 0])': {'dim': 0, 'birth': 0.3, 'death': 1.411764705882353}, '([5], [5, 0])': {'dim': 0, 'birth': 0.4, 'death': 1.5294117647058822}, '([4], [4, 0])': {'dim': 0, 'birth': 0.5, 'death': 1.6470588235294117}, '([3], [3, 0])': {'dim': 0, 'birth': 0.6, 'death': 1.7647058823529411}, '([2], [2, 0])': {'dim': 0, 'birth': 0.7, 'death': 1.8823529411764706}, '([2, 1], [2, 1, 0])': {'dim': 1, 'birth': 1.9411764705882353, 'death': 3.0}, '([3, 1], [3, 1, 0])': {'dim': 1, 'birth': 1.8235294117647058, 'death': 3.125}, '([4, 1], [4, 1, 0])': {'dim': 1, 'birth': 1.7058823529411764, 'death': 3.25}, '([5, 1], [5, 1, 0])': {'dim': 1, 'birth': 1.588235294117647, 'death': 3.375}, '([6, 1], [6, 1, 0])': {'dim': 1, 'birth': 1.4705882352941178, 'death': 3.5}, '([7, 1], [7, 1, 0])': {'dim': 1, 'birth': 1.3529411764705883, 'death': 3.625}, '([8, 1], [8, 1, 0])': {'dim': 1, 'birth': 1.2352941176470589, 'death': 3.75}, '([9, 1], [9, 1, 0])': {'dim': 1, 'birth': 1.1176470588235294, 'death': 3.875}, '([9], [])': {'dim': 0, 'birth': 0.0, 'death': inf}}\n",
      "{'([0], [9, 0])': {'dim': 0, 'birth': 0.9, 'death': 1.0588235294117647}, '([1], [9, 1])': {'dim': 0, 'birth': 0.8, 'death': 1.1176470588235294}, '([8], [8, 0])': {'dim': 0, 'birth': 0.1, 'death': 1.1764705882352942}, '([7], [7, 0])': {'dim': 0, 'birth': 0.2, 'death': 1.2941176470588236}, '([6], [6, 0])': {'dim': 0, 'birth': 0.3, 'death': 1.411764705882353}, '([5], [5, 0])': {'dim': 0, 'birth': 0.4, 'death': 1.5294117647058822}, '([4], [4, 0])': {'dim': 0, 'birth': 0.5, 'death': 1.6470588235294117}, '([3], [3, 0])': {'dim': 0, 'birth': 0.6, 'death': 1.7647058823529411}, '([2], [2, 0])': {'dim': 0, 'birth': 0.7, 'death': 1.8823529411764706}, '([1, 0], [2, 1, 0])': {'dim': 1, 'birth': 2.0, 'death': 3.0}, '([2, 1], [3, 1, 0])': {'dim': 1, 'birth': 1.9411764705882353, 'death': 3.125}, '([3, 1], [4, 1, 0])': {'dim': 1, 'birth': 1.8235294117647058, 'death': 3.25}, '([4, 1], [5, 1, 0])': {'dim': 1, 'birth': 1.7058823529411764, 'death': 3.375}, '([5, 1], [6, 1, 0])': {'dim': 1, 'birth': 1.588235294117647, 'death': 3.5}, '([6, 1], [7, 1, 0])': {'dim': 1, 'birth': 1.4705882352941178, 'death': 3.625}, '([7, 1], [8, 1, 0])': {'dim': 1, 'birth': 1.3529411764705883, 'death': 3.75}, '([8, 1], [9, 1, 0])': {'dim': 1, 'birth': 1.2352941176470589, 'death': 3.875}, '([9], [])': {'dim': 0, 'birth': 0.0, 'death': inf}}\n"
     ]
    }
   ],
   "source": [
    "st1.compute_persistence()\n",
    "st2.compute_persistence()\n",
    "\n",
    "st1P0 = st1.persistence_intervals_in_dimension(0)\n",
    "st2P0 = st2.persistence_intervals_in_dimension(0)\n",
    "\n",
    "st1P1 = st1.persistence_intervals_in_dimension(1)\n",
    "st2P1 = st2.persistence_intervals_in_dimension(1)\n",
    "\n",
    "PP1= {}\n",
    "for p in st1.persistence_pairs():\n",
    "    PP1.update({str(p):{\"dim\":len(p[0])-1, \"birth\":st1.filtration(p[0]),\"death\":st1.filtration(p[1])}})\n",
    "\n",
    "PP2= {}\n",
    "for p in st2.persistence_pairs():\n",
    "    PP2.update({str(p):{\"dim\":len(p[0])-1, \"birth\":st2.filtration(p[0]),\"death\":st2.filtration(p[1])}})\n",
    "    \n",
    "print(PP1)\n",
    "print(PP2)"
   ]
  },
  {
   "cell_type": "code",
   "execution_count": 23,
   "metadata": {},
   "outputs": [
    {
     "data": {
      "application/vnd.jupyter.widget-view+json": {
       "model_id": "99c0898f78534028b4ca4fa053bdb461",
       "version_major": 2,
       "version_minor": 0
      },
      "text/html": [
       "\n",
       "            <div style=\"display: inline-block;\">\n",
       "                <div class=\"jupyter-widgets widget-label\" style=\"text-align: center;\">\n",
       "                    Figure\n",
       "                </div>\n",
       "                <img src='data:image/png;base64,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' width=640.0/>\n",
       "            </div>\n",
       "        "
      ],
      "text/plain": [
       "Canvas(toolbar=Toolbar(toolitems=[('Home', 'Reset original view', 'home', 'home'), ('Back', 'Back to previous …"
      ]
     },
     "metadata": {},
     "output_type": "display_data"
    },
    {
     "name": "stdout",
     "output_type": "stream",
     "text": [
      "[0.05882352941176472, 0.05882352941176472, 0.0, 0.0, 0.0, 0.0, 0.0, 0.0, 0.0, 0.0, 0.0, 0.0, 0.0, 0.0, 0.0, 0.0, 0.0, 0.0, 0.0, 0.0, 0.0]\n",
      "[0.11764705882352944, 0.11764705882352944, 0.11764705882352944, 0.11764705882352944, 0.11764705882352944, 0.11764705882352944, 0.11764705882352922, 0.05882352941176472, 0.0, 0.0, 0.0, 0.0, 0.0, 0.0, 0.0, 0.0, 0.0]\n"
     ]
    }
   ],
   "source": [
    "n_points0 = len(st1P0)+len(st2P0)\n",
    "d_vals0 = np.linspace(0,n_points0,n_points0+1)\n",
    "r_vals0 = [gd.prokhorov_distance(st1P0, st2P0, np.array([r])) for r in d_vals0]\n",
    "n_points1 = len(st1P1)+len(st2P1)\n",
    "d_vals1 = np.linspace(0,n_points1,n_points1+1)\n",
    "r_vals1 = [gd.prokhorov_distance(st1P1, st2P1, np.array([r])) for r in d_vals1]\n",
    "n_points=n_points0+n_points1\n",
    "r_vals=np.sort(np.append(r_vals0,r_vals1))[::-1]\n",
    "\n",
    "f,(ax,ax2) = plt.subplots(1,2)\n",
    "\n",
    "ax.plot((0,dists[0]),(far_simplices[0],far_simplices[0]), c='r')\n",
    "for i in range(0,len(dists)-1):\n",
    "    ax.plot((dists[i],dists[i+1]),(far_simplices[i+1],far_simplices[i+1]), c='r')\n",
    "    \n",
    "for i in range(1,n_points1+1):\n",
    "    ax.plot((r_vals1[i],r_vals1[i-1]),(i, i), c='c', label='$D_{X,Y}$', ls=\"--\")\n",
    "ax.plot((r_vals1[-1],0),(n_points1, n_points1), c='c', label='$D_{X,Y}$', ls=\"--\")\n",
    "for i in range(1,n_points0+1):\n",
    "    ax.plot((r_vals0[i],r_vals0[i-1]),(i, i), c='b', label='$D_{X,Y}$', ls=\"--\")\n",
    "ax.plot((r_vals0[-1],0),(n_points0, n_points0), c='b', label='$D_{X,Y}$', ls=\"--\")\n",
    "for i in range(1,n_points+1):\n",
    "    ax.plot((r_vals[i],r_vals[i-1]),(i, i), color='tab:blue', label='$D_{X,Y}$', ls=\"--\")\n",
    "ax.plot((r_vals[-1],0),(n_points, n_points), color='tab:blue', label='$D_{X,Y}$', ls=\"--\")\n",
    "\n",
    "#bp = np.array([gd.bottleneck_profile(st1P0, st2P0,r0) for r0 in np.sort(r_vals0)])\n",
    "#ax.plot(np.sort(r_vals0),bp)\n",
    "\n",
    "\n",
    "#diag_dists=np.sort(np.append((st1P[:,1]-st1P[:,0])/2,(st2P[:,1]-st2P[:,0])/2))\n",
    "#for i in range(1,len(diag_dists)):\n",
    "#    ax.plot((diag_dists[i-1],diag_dists[i]),(len(diag_dists)-i, len(diag_dists)-i), color='tab:orange', label='$D_{X,Y}$', ls=\"--\")\n",
    "#ax.plot((0,diag_dists[0]),(len(diag_dists), len(diag_dists)), color='tab:orange', label='$D_{X,Y}$', ls=\"--\")    \n",
    "X = np.concatenate((st1P0,st1P1), axis=0)\n",
    "Y = np.concatenate((st2P0,st2P1), axis=0)\n",
    "\n",
    "rs=np.linspace(0.1,1,1001)\n",
    "#Bottleneck_counts=[gd.bottleneck_profile(st1P1,st2P1,r)+gd.bottleneck_profile(st1P0,st2P0,r) for r in rs]\n",
    "#for p in range(1,6):\n",
    "#    ax.plot(rs,np.floor(gd.hera.wasserstein_distance(X, Y, order=p, internal_p=np.inf)/(rs**p)), label = \"$W_1(X,Y)/\\varepsilon$\")\n",
    "#for r in rs:\n",
    "#    ax.scatter(r,gd.bottleneck_profile(st1P,st2P,r))\n",
    "ax.set_ylim((-0.2,n_points+1))\n",
    "plt.show()\n",
    "print(r_vals0)\n",
    "print(r_vals1)"
   ]
  },
  {
   "cell_type": "code",
   "execution_count": 24,
   "metadata": {},
   "outputs": [
    {
     "data": {
      "application/vnd.jupyter.widget-view+json": {
       "model_id": "ea1975d3b0b64b6a940ed4879d0c4491",
       "version_major": 2,
       "version_minor": 0
      },
      "text/html": [
       "\n",
       "            <div style=\"display: inline-block;\">\n",
       "                <div class=\"jupyter-widgets widget-label\" style=\"text-align: center;\">\n",
       "                    Figure\n",
       "                </div>\n",
       "                <img src='data:image/png;base64,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' width=640.0/>\n",
       "            </div>\n",
       "        "
      ],
      "text/plain": [
       "Canvas(toolbar=Toolbar(toolitems=[('Home', 'Reset original view', 'home', 'home'), ('Back', 'Back to previous …"
      ]
     },
     "metadata": {},
     "output_type": "display_data"
    }
   ],
   "source": [
    "f, ax = plt.subplots()\n",
    "ax.scatter(st1P0[:,0], st1P0[:,1])\n",
    "ax.scatter(st2P0[:,0], st2P0[:,1])\n",
    "#ax.set_xlim((0,2))\n",
    "#ax.set_ylim((0,2))\n",
    "ax.axline((0,0), slope=1)\n",
    "plt.show()"
   ]
  },
  {
   "cell_type": "code",
   "execution_count": 25,
   "metadata": {},
   "outputs": [
    {
     "data": {
      "application/vnd.jupyter.widget-view+json": {
       "model_id": "e3520af20e1a43de8d32942f252d3d97",
       "version_major": 2,
       "version_minor": 0
      },
      "text/html": [
       "\n",
       "            <div style=\"display: inline-block;\">\n",
       "                <div class=\"jupyter-widgets widget-label\" style=\"text-align: center;\">\n",
       "                    Figure\n",
       "                </div>\n",
       "                <img src='data:image/png;base64,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' width=1200.0/>\n",
       "            </div>\n",
       "        "
      ],
      "text/plain": [
       "Canvas(toolbar=Toolbar(toolitems=[('Home', 'Reset original view', 'home', 'home'), ('Back', 'Back to previous …"
      ]
     },
     "metadata": {},
     "output_type": "display_data"
    }
   ],
   "source": [
    "f,(ax, ax2) = plt.subplots(1,2,figsize=(12,6))\n",
    "plt.subplots_adjust(left=0.25, bottom=0.25)\n",
    "axeps = plt.axes([0.25, 0.1, 0.65, 0.03])\n",
    "seps2 = Slider(axeps, 't', 0.0, 1, valinit=0, valstep=0.01)\n",
    "\n",
    "def update(val):\n",
    "    ax.clear()\n",
    "    ax2.clear()\n",
    "    ax2.set_prop_cycle(cycler('color', plt.cm.jet(np.linspace(0, 1, n+2+2*n+1+n))))\n",
    "    st1_gen  = st1.get_filtration() \n",
    "    stt = gd.SimplexTree()\n",
    "    for splx in st1_gen :\n",
    "        stt.insert(splx[0],filtration = val*st2.filtration(splx[0])+(1-val)*splx[1])\n",
    "        ax2.plot((0,1),(splx[1],st2.filtration(splx[0])), label = splx[0])\n",
    "    stt.compute_persistence()\n",
    "    PPt= {}\n",
    "    for p in stt.persistence_pairs():\n",
    "        PPt.update({str(p):{\"dim\":len(p[0])-1, \"birth\":stt.filtration(p[0]),\"death\":stt.filtration(p[1])}})\n",
    "    \n",
    "    sttP0 = stt.persistence_intervals_in_dimension(0)\n",
    "    sttP1 = stt.persistence_intervals_in_dimension(1)\n",
    "    ax.scatter(st1P0[:,0],st1P0[:,1],label='$Dgm(f_0)$',color=\"tab:blue\")\n",
    "    ax.scatter(st2P0[:,0],st2P0[:,1],label='$Dgm(f_1)$',color=\"tab:orange\")\n",
    "    ax.scatter(sttP0[:,0],sttP0[:,1],label='$Dgm(f_t)$',color=\"tab:green\")\n",
    "    ax.scatter(st1P1[:,0],st1P1[:,1],label='$Dgm(f_0)$',color=\"tab:blue\", marker=\"^\")\n",
    "    ax.scatter(st2P1[:,0],st2P1[:,1],label='$Dgm(f_1)$',color=\"tab:orange\", marker=\"^\")\n",
    "    ax.scatter(sttP1[:,0],sttP1[:,1],label='$Dgm(f_t)$',color=\"tab:green\", marker=\"^\")\n",
    "    ax.axline((0,0), slope=1,ls=\"--\",color=\"black\")\n",
    "    (bottom,top) = ax.get_ylim()\n",
    "    PPdicts=[PP1,PPt,PP2]\n",
    "    \n",
    "    for PP in PPdicts:\n",
    "        for (k,v) in PP.items():\n",
    "            if(not math.isinf(v[\"death\"])):\n",
    "                ax.annotate(k, (v[\"birth\"],v[\"death\"]),fontsize=5)\n",
    "            else:\n",
    "                ax.annotate(k, (v[\"birth\"],0.95*top),fontsize=5)\n",
    "\n",
    "    ax2.vlines(val, 0,4,ls=\"--\", color=\"black\")\n",
    "    \n",
    "    handles, labels = ax.get_legend_handles_labels()\n",
    "    by_label = dict(zip(labels, handles))\n",
    "    ax.legend(by_label.values(), by_label.keys(), loc=\"lower right\")\n",
    "    ax2.legend(bbox_to_anchor=(1,1), loc=\"upper left\")    \n",
    "    f.canvas.draw_idle()\n",
    "    \n",
    "seps2.on_changed(update)\n",
    "\n",
    "plt.show()"
   ]
  },
  {
   "cell_type": "code",
   "execution_count": 26,
   "metadata": {},
   "outputs": [
    {
     "name": "stdout",
     "output_type": "stream",
     "text": [
      "0.11764705882352944\n",
      "0.8823529411764706\n"
     ]
    }
   ],
   "source": [
    "print(gd.bottleneck_distance(st1P1,st2P1))\n",
    "print(gd.hera.wasserstein_distance(st1P1,st2P1, order=1, internal_p=1))\n"
   ]
  },
  {
   "cell_type": "code",
   "execution_count": 17,
   "metadata": {},
   "outputs": [
    {
     "name": "stdout",
     "output_type": "stream",
     "text": [
      "{'([0], [1])': 0.2, '([0], [2])': 0.4, '([0], [3])': 0.6, '([0], [4])': 0.8}\n"
     ]
    }
   ],
   "source": [
    "st1_gen  = st1.get_filtration() \n",
    "st2_gen  = st2.get_filtration() \n",
    "Intersection_times = {}\n",
    "for sigma in st1_gen :\n",
    "    st2_gen  = st2.get_filtration() \n",
    "    for tau in st2_gen :\n",
    "        if(st2.filtration(sigma[0])-st1.filtration(sigma[0])-st2.filtration(tau[0])+st1.filtration(tau[0])!=0):\n",
    "            time = (st1.filtration(tau[0])-st1.filtration(sigma[0]))/(st2.filtration(sigma[0])-st1.filtration(sigma[0])-st2.filtration(tau[0])+st1.filtration(tau[0]))\n",
    "            #print((sigma[0],tau[0]),time)\n",
    "            if(len(sigma[0])==len(tau[0])) and time>0 and time<1 and sigma[0]!=tau[0] and str((tau[0],sigma[0])) not in Intersection_times.keys():\n",
    "                Intersection_times.update({str((sigma[0],tau[0])): time})\n",
    "\n",
    "Intersection_times = dict(sorted(Intersection_times.items(), key=lambda item: item[1]))\n",
    "                \n",
    "print(Intersection_times)"
   ]
  },
  {
   "cell_type": "code",
   "execution_count": 18,
   "metadata": {},
   "outputs": [
    {
     "ename": "IndexError",
     "evalue": "too many indices for array: array is 1-dimensional, but 2 were indexed",
     "output_type": "error",
     "traceback": [
      "\u001b[0;31m---------------------------------------------------------------------------\u001b[0m",
      "\u001b[0;31mIndexError\u001b[0m                                Traceback (most recent call last)",
      "\u001b[0;32m/tmp/ipykernel_24229/441261979.py\u001b[0m in \u001b[0;36m<module>\u001b[0;34m\u001b[0m\n\u001b[1;32m     12\u001b[0m \u001b[0max\u001b[0m\u001b[0;34m.\u001b[0m\u001b[0mscatter\u001b[0m\u001b[0;34m(\u001b[0m\u001b[0mst2P0\u001b[0m\u001b[0;34m[\u001b[0m\u001b[0;34m:\u001b[0m\u001b[0;34m,\u001b[0m\u001b[0;36m0\u001b[0m\u001b[0;34m]\u001b[0m\u001b[0;34m,\u001b[0m\u001b[0mst2P0\u001b[0m\u001b[0;34m[\u001b[0m\u001b[0;34m:\u001b[0m\u001b[0;34m,\u001b[0m\u001b[0;36m1\u001b[0m\u001b[0;34m]\u001b[0m\u001b[0;34m,\u001b[0m\u001b[0mlabel\u001b[0m\u001b[0;34m=\u001b[0m\u001b[0;34m'$Dgm(f_1)$'\u001b[0m\u001b[0;34m,\u001b[0m\u001b[0mcolor\u001b[0m\u001b[0;34m=\u001b[0m\u001b[0;34m\"tab:orange\"\u001b[0m\u001b[0;34m)\u001b[0m\u001b[0;34m\u001b[0m\u001b[0;34m\u001b[0m\u001b[0m\n\u001b[1;32m     13\u001b[0m \u001b[0;31m#ax.scatter(sttP0[:,0],sttP0[:,1],label='$Dgm(f_t)$',color=\"tab:green\")\u001b[0m\u001b[0;34m\u001b[0m\u001b[0;34m\u001b[0m\u001b[0m\n\u001b[0;32m---> 14\u001b[0;31m \u001b[0max\u001b[0m\u001b[0;34m.\u001b[0m\u001b[0mscatter\u001b[0m\u001b[0;34m(\u001b[0m\u001b[0mst1P1\u001b[0m\u001b[0;34m[\u001b[0m\u001b[0;34m:\u001b[0m\u001b[0;34m,\u001b[0m\u001b[0;36m0\u001b[0m\u001b[0;34m]\u001b[0m\u001b[0;34m,\u001b[0m\u001b[0mst1P1\u001b[0m\u001b[0;34m[\u001b[0m\u001b[0;34m:\u001b[0m\u001b[0;34m,\u001b[0m\u001b[0;36m1\u001b[0m\u001b[0;34m]\u001b[0m\u001b[0;34m,\u001b[0m\u001b[0mlabel\u001b[0m\u001b[0;34m=\u001b[0m\u001b[0;34m'$Dgm(f_0)$'\u001b[0m\u001b[0;34m,\u001b[0m\u001b[0mcolor\u001b[0m\u001b[0;34m=\u001b[0m\u001b[0;34m\"tab:blue\"\u001b[0m\u001b[0;34m,\u001b[0m \u001b[0mmarker\u001b[0m\u001b[0;34m=\u001b[0m\u001b[0;34m\"^\"\u001b[0m\u001b[0;34m)\u001b[0m\u001b[0;34m\u001b[0m\u001b[0;34m\u001b[0m\u001b[0m\n\u001b[0m\u001b[1;32m     15\u001b[0m \u001b[0max\u001b[0m\u001b[0;34m.\u001b[0m\u001b[0mscatter\u001b[0m\u001b[0;34m(\u001b[0m\u001b[0mst2P1\u001b[0m\u001b[0;34m[\u001b[0m\u001b[0;34m:\u001b[0m\u001b[0;34m,\u001b[0m\u001b[0;36m0\u001b[0m\u001b[0;34m]\u001b[0m\u001b[0;34m,\u001b[0m\u001b[0mst2P1\u001b[0m\u001b[0;34m[\u001b[0m\u001b[0;34m:\u001b[0m\u001b[0;34m,\u001b[0m\u001b[0;36m1\u001b[0m\u001b[0;34m]\u001b[0m\u001b[0;34m,\u001b[0m\u001b[0mlabel\u001b[0m\u001b[0;34m=\u001b[0m\u001b[0;34m'$Dgm(f_1)$'\u001b[0m\u001b[0;34m,\u001b[0m\u001b[0mcolor\u001b[0m\u001b[0;34m=\u001b[0m\u001b[0;34m\"tab:orange\"\u001b[0m\u001b[0;34m,\u001b[0m \u001b[0mmarker\u001b[0m\u001b[0;34m=\u001b[0m\u001b[0;34m\"^\"\u001b[0m\u001b[0;34m)\u001b[0m\u001b[0;34m\u001b[0m\u001b[0;34m\u001b[0m\u001b[0m\n\u001b[1;32m     16\u001b[0m \u001b[0;31m#ax.scatter(sttP1[:,0],sttP1[:,1],label='$Dgm(f_t)$',color=\"tab:green\", marker=\"^\")\u001b[0m\u001b[0;34m\u001b[0m\u001b[0;34m\u001b[0m\u001b[0m\n",
      "\u001b[0;31mIndexError\u001b[0m: too many indices for array: array is 1-dimensional, but 2 were indexed"
     ]
    },
    {
     "data": {
      "application/vnd.jupyter.widget-view+json": {
       "model_id": "7c7c72b9bcd74c9c8db4701eb98899be",
       "version_major": 2,
       "version_minor": 0
      },
      "text/html": [
       "\n",
       "            <div style=\"display: inline-block;\">\n",
       "                <div class=\"jupyter-widgets widget-label\" style=\"text-align: center;\">\n",
       "                    Figure\n",
       "                </div>\n",
       "                <img src='data:image/png;base64,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' width=1400.0/>\n",
       "            </div>\n",
       "        "
      ],
      "text/plain": [
       "Canvas(toolbar=Toolbar(toolitems=[('Home', 'Reset original view', 'home', 'home'), ('Back', 'Back to previous …"
      ]
     },
     "metadata": {},
     "output_type": "display_data"
    }
   ],
   "source": [
    "f,(ax, ax2) = plt.subplots(2,1,figsize=(14,28))\n",
    "ax2.set_ylim((-0.5,5.5))\n",
    "\n",
    "viridis = cm.get_cmap('hsv')#, len(Intersection_times)+1)\n",
    "colormap = plt.cm.gist_ncar\n",
    "ax2.set_prop_cycle(cycler('color', plt.cm.jet(np.linspace(0, 1, 13))))\n",
    "\n",
    "\n",
    "eps=0.0001\n",
    "\n",
    "ax.scatter(st1P0[:,0],st1P0[:,1],label='$Dgm(f_0)$',color=\"tab:blue\")\n",
    "ax.scatter(st2P0[:,0],st2P0[:,1],label='$Dgm(f_1)$',color=\"tab:orange\")\n",
    "#ax.scatter(sttP0[:,0],sttP0[:,1],label='$Dgm(f_t)$',color=\"tab:green\")\n",
    "ax.scatter(st1P1[:,0],st1P1[:,1],label='$Dgm(f_0)$',color=\"tab:blue\", marker=\"^\")\n",
    "ax.scatter(st2P1[:,0],st2P1[:,1],label='$Dgm(f_1)$',color=\"tab:orange\", marker=\"^\")\n",
    "#ax.scatter(sttP1[:,0],sttP1[:,1],label='$Dgm(f_t)$',color=\"tab:green\", marker=\"^\")\n",
    "ax.axline((0,0), slope=1,ls=\"--\",color=\"black\")\n",
    "    \n",
    "    \n",
    "(bottom,top) = ax.get_ylim()\n",
    "PPdicts=[PP1,PP2]\n",
    "    \n",
    "#annotate points in PDs with persistence pairs\n",
    "for PP in PPdicts:\n",
    "    for (k,v) in PP.items():\n",
    "        if(not math.isinf(v[\"death\"])):\n",
    "            ax.annotate(k, (v[\"birth\"],v[\"death\"]),fontsize=5)\n",
    "        else:\n",
    "            ax.annotate(k, (v[\"birth\"],0.95*top),fontsize=5)\n",
    "\n",
    "st1_gen  = st1.get_filtration() \n",
    "for splx in st1_gen :\n",
    "    ax2.plot((0,1),(splx[1],st2.filtration(splx[0])), label = splx[0])\n",
    "            \n",
    "oldPP = PP1\n",
    "for (key,val) in Intersection_times.items():\n",
    "    #ax.clear()\n",
    "    #ax2.clear()\n",
    "\n",
    "    stt = gd.SimplexTree()\n",
    "    st1_gen  = st1.get_filtration() \n",
    "    for splx in st1_gen :\n",
    "        stt.insert(splx[0],filtration = (val-eps)*st2.filtration(splx[0])+(1-(val-eps))*splx[1])\n",
    "    stt.compute_persistence()\n",
    "    PPt= {}\n",
    "    for p in stt.persistence_pairs():\n",
    "        PPt.update({str(p):{\"dim\":len(p[0])-1, \"birth\":stt.filtration(p[0]),\"death\":stt.filtration(p[1])}})\n",
    "    sttP0 = stt.persistence_intervals_in_dimension(0)\n",
    "    sttP1 = stt.persistence_intervals_in_dimension(1)\n",
    "    \n",
    "    for (k,v) in oldPP.items():\n",
    "        ax.plot((v[\"birth\"],PPt[k][\"birth\"]),(v[\"death\"],PPt[k][\"death\"]), color=\"gray\")\n",
    "    \n",
    "    \n",
    "    stt = gd.SimplexTree()\n",
    "    st1_gen  = st1.get_filtration() \n",
    "    for splx in st1_gen :\n",
    "        stt.insert(splx[0],filtration = (val+eps)*st2.filtration(splx[0])+(1-(val+eps))*splx[1])\n",
    "    stt.compute_persistence()\n",
    "    PPt= {}\n",
    "    for p in stt.persistence_pairs():\n",
    "        PPt.update({str(p):{\"dim\":len(p[0])-1, \"birth\":stt.filtration(p[0]),\"death\":stt.filtration(p[1])}})\n",
    "    sttP0 = stt.persistence_intervals_in_dimension(0)\n",
    "    sttP1 = stt.persistence_intervals_in_dimension(1)\n",
    "    \n",
    "    for (k,v) in PPt.items():\n",
    "        #if eval(key)[0] in eval(k) or eval(key)[1] in eval(k):\n",
    "        col = viridis(val)\n",
    "        ax.scatter(v[\"birth\"],v[\"death\"],label='$Dgm(f_t)$', color=col, cmap= \"viridis\")\n",
    "        ax.annotate(k, (v[\"birth\"],v[\"death\"]), fontsize=5)\n",
    "\n",
    "    \n",
    "    oldPP = PPt\n",
    "    #Vlines at intersections\n",
    "    ax2.vlines(val, 0,5,ls=\"--\", color=\"black\")\n",
    "    ax2.annotate(key, (val,-0.5),fontsize=10, rotation=\"90\")\n",
    "    ax2.annotate(key, (val,5),fontsize=10, rotation=\"90\")\n",
    "    \n",
    "    #legends\n",
    "    handles, labels = ax.get_legend_handles_labels()\n",
    "    by_label = dict(zip(labels, handles))\n",
    "    ax.legend(by_label.values(), by_label.keys(), loc=\"lower right\")\n",
    "    handles, labels = ax2.get_legend_handles_labels()\n",
    "    by_label = dict(zip(labels, handles))\n",
    "    ax2.legend(by_label.values(), by_label.keys(),bbox_to_anchor=(1,1), loc=\"upper left\")    \n",
    "    #plt.pause(0.1)\n",
    "    #camera.snap()\n",
    "\n",
    "for (k,v) in oldPP.items():\n",
    "    ax.plot((v[\"birth\"],PP2[k][\"birth\"]),(v[\"death\"],PP2[k][\"death\"]), color=\"gray\")"
   ]
  },
  {
   "cell_type": "code",
   "execution_count": 29,
   "metadata": {},
   "outputs": [
    {
     "ename": "IndexError",
     "evalue": "too many indices for array: array is 1-dimensional, but 2 were indexed",
     "output_type": "error",
     "traceback": [
      "\u001b[0;31m---------------------------------------------------------------------------\u001b[0m",
      "\u001b[0;31mIndexError\u001b[0m                                Traceback (most recent call last)",
      "\u001b[0;32m/tmp/ipykernel_6187/4081185668.py\u001b[0m in \u001b[0;36m<module>\u001b[0;34m\u001b[0m\n\u001b[1;32m     25\u001b[0m     \u001b[0max\u001b[0m\u001b[0;34m.\u001b[0m\u001b[0mscatter\u001b[0m\u001b[0;34m(\u001b[0m\u001b[0mst2P0\u001b[0m\u001b[0;34m[\u001b[0m\u001b[0;34m:\u001b[0m\u001b[0;34m,\u001b[0m\u001b[0;36m0\u001b[0m\u001b[0;34m]\u001b[0m\u001b[0;34m,\u001b[0m\u001b[0mst2P0\u001b[0m\u001b[0;34m[\u001b[0m\u001b[0;34m:\u001b[0m\u001b[0;34m,\u001b[0m\u001b[0;36m1\u001b[0m\u001b[0;34m]\u001b[0m\u001b[0;34m,\u001b[0m\u001b[0mlabel\u001b[0m\u001b[0;34m=\u001b[0m\u001b[0;34m'$Dgm(f_1)$'\u001b[0m\u001b[0;34m,\u001b[0m\u001b[0mcolor\u001b[0m\u001b[0;34m=\u001b[0m\u001b[0;34m\"tab:orange\"\u001b[0m\u001b[0;34m)\u001b[0m\u001b[0;34m\u001b[0m\u001b[0;34m\u001b[0m\u001b[0m\n\u001b[1;32m     26\u001b[0m     \u001b[0max\u001b[0m\u001b[0;34m.\u001b[0m\u001b[0mscatter\u001b[0m\u001b[0;34m(\u001b[0m\u001b[0msttP0\u001b[0m\u001b[0;34m[\u001b[0m\u001b[0;34m:\u001b[0m\u001b[0;34m,\u001b[0m\u001b[0;36m0\u001b[0m\u001b[0;34m]\u001b[0m\u001b[0;34m,\u001b[0m\u001b[0msttP0\u001b[0m\u001b[0;34m[\u001b[0m\u001b[0;34m:\u001b[0m\u001b[0;34m,\u001b[0m\u001b[0;36m1\u001b[0m\u001b[0;34m]\u001b[0m\u001b[0;34m,\u001b[0m\u001b[0mlabel\u001b[0m\u001b[0;34m=\u001b[0m\u001b[0;34m'$Dgm(f_t)$'\u001b[0m\u001b[0;34m,\u001b[0m\u001b[0mcolor\u001b[0m\u001b[0;34m=\u001b[0m\u001b[0;34m\"tab:green\"\u001b[0m\u001b[0;34m)\u001b[0m\u001b[0;34m\u001b[0m\u001b[0;34m\u001b[0m\u001b[0m\n\u001b[0;32m---> 27\u001b[0;31m     \u001b[0max\u001b[0m\u001b[0;34m.\u001b[0m\u001b[0mscatter\u001b[0m\u001b[0;34m(\u001b[0m\u001b[0mst1P1\u001b[0m\u001b[0;34m[\u001b[0m\u001b[0;34m:\u001b[0m\u001b[0;34m,\u001b[0m\u001b[0;36m0\u001b[0m\u001b[0;34m]\u001b[0m\u001b[0;34m,\u001b[0m\u001b[0mst1P1\u001b[0m\u001b[0;34m[\u001b[0m\u001b[0;34m:\u001b[0m\u001b[0;34m,\u001b[0m\u001b[0;36m1\u001b[0m\u001b[0;34m]\u001b[0m\u001b[0;34m,\u001b[0m\u001b[0mlabel\u001b[0m\u001b[0;34m=\u001b[0m\u001b[0;34m'$Dgm(f_0)$'\u001b[0m\u001b[0;34m,\u001b[0m\u001b[0mcolor\u001b[0m\u001b[0;34m=\u001b[0m\u001b[0;34m\"tab:blue\"\u001b[0m\u001b[0;34m,\u001b[0m \u001b[0mmarker\u001b[0m\u001b[0;34m=\u001b[0m\u001b[0;34m\"^\"\u001b[0m\u001b[0;34m)\u001b[0m\u001b[0;34m\u001b[0m\u001b[0;34m\u001b[0m\u001b[0m\n\u001b[0m\u001b[1;32m     28\u001b[0m     \u001b[0max\u001b[0m\u001b[0;34m.\u001b[0m\u001b[0mscatter\u001b[0m\u001b[0;34m(\u001b[0m\u001b[0mst2P1\u001b[0m\u001b[0;34m[\u001b[0m\u001b[0;34m:\u001b[0m\u001b[0;34m,\u001b[0m\u001b[0;36m0\u001b[0m\u001b[0;34m]\u001b[0m\u001b[0;34m,\u001b[0m\u001b[0mst2P1\u001b[0m\u001b[0;34m[\u001b[0m\u001b[0;34m:\u001b[0m\u001b[0;34m,\u001b[0m\u001b[0;36m1\u001b[0m\u001b[0;34m]\u001b[0m\u001b[0;34m,\u001b[0m\u001b[0mlabel\u001b[0m\u001b[0;34m=\u001b[0m\u001b[0;34m'$Dgm(f_1)$'\u001b[0m\u001b[0;34m,\u001b[0m\u001b[0mcolor\u001b[0m\u001b[0;34m=\u001b[0m\u001b[0;34m\"tab:orange\"\u001b[0m\u001b[0;34m,\u001b[0m \u001b[0mmarker\u001b[0m\u001b[0;34m=\u001b[0m\u001b[0;34m\"^\"\u001b[0m\u001b[0;34m)\u001b[0m\u001b[0;34m\u001b[0m\u001b[0;34m\u001b[0m\u001b[0m\n\u001b[1;32m     29\u001b[0m     \u001b[0max\u001b[0m\u001b[0;34m.\u001b[0m\u001b[0mscatter\u001b[0m\u001b[0;34m(\u001b[0m\u001b[0msttP1\u001b[0m\u001b[0;34m[\u001b[0m\u001b[0;34m:\u001b[0m\u001b[0;34m,\u001b[0m\u001b[0;36m0\u001b[0m\u001b[0;34m]\u001b[0m\u001b[0;34m,\u001b[0m\u001b[0msttP1\u001b[0m\u001b[0;34m[\u001b[0m\u001b[0;34m:\u001b[0m\u001b[0;34m,\u001b[0m\u001b[0;36m1\u001b[0m\u001b[0;34m]\u001b[0m\u001b[0;34m,\u001b[0m\u001b[0mlabel\u001b[0m\u001b[0;34m=\u001b[0m\u001b[0;34m'$Dgm(f_t)$'\u001b[0m\u001b[0;34m,\u001b[0m\u001b[0mcolor\u001b[0m\u001b[0;34m=\u001b[0m\u001b[0;34m\"tab:green\"\u001b[0m\u001b[0;34m,\u001b[0m \u001b[0mmarker\u001b[0m\u001b[0;34m=\u001b[0m\u001b[0;34m\"^\"\u001b[0m\u001b[0;34m)\u001b[0m\u001b[0;34m\u001b[0m\u001b[0;34m\u001b[0m\u001b[0m\n",
      "\u001b[0;31mIndexError\u001b[0m: too many indices for array: array is 1-dimensional, but 2 were indexed"
     ]
    },
    {
     "data": {
      "application/vnd.jupyter.widget-view+json": {
       "model_id": "2c1003082e224317a97041133506c2ca",
       "version_major": 2,
       "version_minor": 0
      },
      "text/html": [
       "\n",
       "            <div style=\"display: inline-block;\">\n",
       "                <div class=\"jupyter-widgets widget-label\" style=\"text-align: center;\">\n",
       "                    Figure\n",
       "                </div>\n",
       "                <img src='data:image/png;base64,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' width=1200.0/>\n",
       "            </div>\n",
       "        "
      ],
      "text/plain": [
       "Canvas(toolbar=Toolbar(toolitems=[('Home', 'Reset original view', 'home', 'home'), ('Back', 'Back to previous …"
      ]
     },
     "metadata": {},
     "output_type": "display_data"
    }
   ],
   "source": [
    "ts=np.linspace(0,1,51)\n",
    "\n",
    "f,(ax, ax2) = plt.subplots(1,2,figsize=(12,6))\n",
    "camera = Camera(f)\n",
    "colormap = plt.cm.gist_ncar\n",
    "\n",
    "\n",
    "for val in ts:\n",
    "    #ax.clear()\n",
    "    #ax2.clear()\n",
    "    ax2.set_prop_cycle(cycler('color', plt.cm.jet(np.linspace(0, 1, 13))))\n",
    "    stt = gd.SimplexTree()\n",
    "    st1_gen  = st1.get_filtration() \n",
    "    for splx in st1_gen :\n",
    "        stt.insert(splx[0],filtration = val*st2.filtration(splx[0])+(1-val)*splx[1])\n",
    "        ax2.plot((0,1),(splx[1],st2.filtration(splx[0])), label = splx[0])\n",
    "    stt.compute_persistence()\n",
    "    PPt= {}\n",
    "    for p in stt.persistence_pairs():\n",
    "        PPt.update({str(p):{\"dim\":len(p[0])-1, \"birth\":stt.filtration(p[0]),\"death\":stt.filtration(p[1])}})\n",
    "    \n",
    "    sttP0 = stt.persistence_intervals_in_dimension(0)\n",
    "    sttP1 = stt.persistence_intervals_in_dimension(1)\n",
    "    ax.scatter(st1P0[:,0],st1P0[:,1],label='$Dgm(f_0)$',color=\"tab:blue\")\n",
    "    ax.scatter(st2P0[:,0],st2P0[:,1],label='$Dgm(f_1)$',color=\"tab:orange\")\n",
    "    ax.scatter(sttP0[:,0],sttP0[:,1],label='$Dgm(f_t)$',color=\"tab:green\")\n",
    "    ax.scatter(st1P1[:,0],st1P1[:,1],label='$Dgm(f_0)$',color=\"tab:blue\", marker=\"^\")\n",
    "    ax.scatter(st2P1[:,0],st2P1[:,1],label='$Dgm(f_1)$',color=\"tab:orange\", marker=\"^\")\n",
    "    ax.scatter(sttP1[:,0],sttP1[:,1],label='$Dgm(f_t)$',color=\"tab:green\", marker=\"^\")\n",
    "    ax.axline((0,0), slope=1,ls=\"--\",color=\"black\")\n",
    "    \n",
    "    \n",
    "    (bottom,top) = ax.get_ylim()\n",
    "    PPdicts=[PP1,PPt,PP2]\n",
    "    \n",
    "    for PP in PPdicts:\n",
    "        for (k,v) in PP.items():\n",
    "            if(not math.isinf(v[\"death\"])):\n",
    "                ax.annotate(k, (v[\"birth\"],v[\"death\"]),fontsize=5)\n",
    "            else:\n",
    "                ax.annotate(k, (v[\"birth\"],0.95*top),fontsize=5)\n",
    "\n",
    "    ax2.vlines(val, 0,3,ls=\"--\", color=\"black\")\n",
    "    \n",
    "    #legends\n",
    "    handles, labels = ax.get_legend_handles_labels()\n",
    "    by_label = dict(zip(labels, handles))\n",
    "    ax.legend(by_label.values(), by_label.keys(), loc=\"lower right\")\n",
    "    handles, labels = ax2.get_legend_handles_labels()\n",
    "    by_label = dict(zip(labels, handles))\n",
    "    ax2.legend(by_label.values(), by_label.keys(),bbox_to_anchor=(1,1), loc=\"upper left\")    \n",
    "    plt.pause(0.1)\n",
    "    camera.snap()\n",
    "    #f.canvas.draw_idle()\n",
    "\n",
    "\n"
   ]
  },
  {
   "cell_type": "code",
   "execution_count": 30,
   "metadata": {},
   "outputs": [],
   "source": [
    "animation = camera.animate()\n",
    "animation.save('animation.mp4', fps=10)"
   ]
  },
  {
   "cell_type": "code",
   "execution_count": 66,
   "metadata": {},
   "outputs": [
    {
     "data": {
      "application/vnd.jupyter.widget-view+json": {
       "model_id": "edefa370e709445881ff89f74a6c87d5",
       "version_major": 2,
       "version_minor": 0
      },
      "text/plain": [
       "Canvas(toolbar=Toolbar(toolitems=[('Home', 'Reset original view', 'home', 'home'), ('Back', 'Back to previous …"
      ]
     },
     "metadata": {},
     "output_type": "display_data"
    }
   ],
   "source": [
    "f,ax = plt.subplots()\n",
    "persim.plot_diagrams([st1.persistence_intervals_in_dimension(0),st1.persistence_intervals_in_dimension(1),st2.persistence_intervals_in_dimension(0),st2.persistence_intervals_in_dimension(1)], ax=ax)\n",
    "plt.show()"
   ]
  }
 ],
 "metadata": {
  "kernelspec": {
   "display_name": "Python 3 (ipykernel)",
   "language": "python",
   "name": "python3"
  },
  "language_info": {
   "codemirror_mode": {
    "name": "ipython",
    "version": 3
   },
   "file_extension": ".py",
   "mimetype": "text/x-python",
   "name": "python",
   "nbconvert_exporter": "python",
   "pygments_lexer": "ipython3",
   "version": "3.9.7"
  }
 },
 "nbformat": 4,
 "nbformat_minor": 4
}
