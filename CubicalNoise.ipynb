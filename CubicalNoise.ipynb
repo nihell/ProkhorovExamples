{
 "cells": [
  {
   "cell_type": "code",
   "execution_count": 287,
   "id": "a54e06a0-b549-43ce-8c6a-c9bf5fe521c5",
   "metadata": {},
   "outputs": [],
   "source": [
    "%matplotlib widget\n",
    "import gudhi as gd\n",
    "from gudhi import hera\n",
    "from gudhi import representations\n",
    "import matplotlib.pyplot as plt\n",
    "import numpy as np\n",
    "from sklearn.neighbors import KernelDensity\n",
    "from numpy.random import default_rng\n",
    "from sklearn.datasets import fetch_openml\n",
    "from sklearn import manifold\n",
    "from sklearn.neighbors import KNeighborsClassifier\n",
    "from sklearn.model_selection import cross_val_score\n",
    "from sklearn.model_selection import GridSearchCV\n",
    "from sklearn.model_selection import train_test_split\n",
    "import time"
   ]
  },
  {
   "cell_type": "code",
   "execution_count": 288,
   "id": "96e2c9db-88a9-4f83-b49e-5fc53d33b2a6",
   "metadata": {},
   "outputs": [],
   "source": [
    "rng = default_rng(seed=42)\n",
    "#X, y = fetch_openml(\"mnist_784\", version=1, return_X_y=True, as_frame=False)\n",
    "#zeros = np.array([x.reshape((28,28)) for x in X[y=='0']])\n",
    "\n",
    "#ones = np.array([x.reshape((28,28)) for x in X[y=='8']])"
   ]
  },
  {
   "cell_type": "code",
   "execution_count": 289,
   "id": "832153f9-03a0-4c45-8473-09553dd47c42",
   "metadata": {},
   "outputs": [],
   "source": [
    "\n",
    "def gkern(l=5, sig=1.):\n",
    "    \"\"\"\\\n",
    "    creates gaussian kernel with side length `l` and a sigma of `sig`\n",
    "    \"\"\"\n",
    "    ax = np.linspace(-(l - 1) / 2., (l - 1) / 2., l)\n",
    "    gauss = np.exp(-0.5 * np.square(ax) / np.square(sig))\n",
    "    kernel = np.outer(gauss, gauss)\n",
    "    return kernel / np.sum(kernel)"
   ]
  },
  {
   "cell_type": "code",
   "execution_count": 290,
   "id": "373ebc6b-459e-418f-aeda-7103a10b857e",
   "metadata": {},
   "outputs": [],
   "source": [
    "def CreateComplex(nPoints, NoiseLevel):\n",
    "    #t = np.linspace(0.001,nCircles,1000)\n",
    "    #xs = np.ceil(t)*np.cos(2*np.pi*t)+0.05*rng.random(len(t))\n",
    "    #ys = np.ceil(t)*np.sin(2*np.pi*t)+0.05*rng.random(len(t))\n",
    "    sig = 3\n",
    "    rad = 3*sig\n",
    "    ker = gkern( l = 2*rad+1 , sig = 3)\n",
    "    \n",
    "    xs = rng.integers(low = rad, high = 100-rad, size = nPoints)\n",
    "    ys = rng.integers(low = rad, high = 100-rad, size = nPoints)\n",
    "\n",
    "    \n",
    "    bitmap = np.zeros((100,100))\n",
    "    \n",
    "    for i in range(nPoints):\n",
    "        for j in range(-rad, rad+1):\n",
    "            for k in range(-rad,rad+1):\n",
    "                bitmap[xs[i]+j][ys[i]+k] = bitmap[xs[i]+j][ys[i]+k] + ker[rad+j][rad+k]\n",
    "\n",
    "        \n",
    "    #return bitmap\n",
    "    offset = 64\n",
    "    \n",
    "    bitmap = bitmap-np.min(bitmap)\n",
    "    bitmap = bitmap / np.max(bitmap)\n",
    "    bitmap = 2*bitmap+offset\n",
    "    noise = np.zeros_like(bitmap)\n",
    "    for i in range(0,NoiseLevel):\n",
    "        x = rng.integers(low=1, high = 99)\n",
    "        y = rng.integers(low=1, high = 99)\n",
    "        bitmap[x,y]=offset+(offset-1)*(2*rng.random()-1)\n",
    "        bitmap[x+1,y] = 0\n",
    "        bitmap[x+1,y-1] = 0\n",
    "        bitmap[x,y-1] = 0\n",
    "        bitmap[x-1,y-1] = 0\n",
    "        bitmap[x-1,y] = 0\n",
    "        bitmap[x-1,y+1] = 0\n",
    "        bitmap[x,y+1] = 0\n",
    "        bitmap[x+1,y+1] = 0\n",
    "    #noise = np.random.choice([0, 1], size=bitmap.shape, p=[1-NoiseLevel, NoiseLevel])\n",
    "    #noise = noise * (rng.exponential(scale=1.0, size=bitmap.shape)+2)\n",
    "    #noise=noise*5\n",
    "    #bitmap = bitmap + noise\n",
    "    #bitmap = bitmap-np.min(bitmap)\n",
    "    #bitmap = bitmap / np.max(bitmap)\n",
    "    return bitmap"
   ]
  },
  {
   "cell_type": "code",
   "execution_count": 312,
   "id": "27d992b1-ed43-46d1-87db-174346cd05b3",
   "metadata": {},
   "outputs": [],
   "source": [
    "def CreatePD(nPoints, NoiseLevel):\n",
    "    cplx = CreateComplex(nPoints,NoiseLevel)\n",
    "    cc = gd.CubicalComplex(dimensions = list(cplx.shape),top_dimensional_cells = np.reshape(cplx,-1))\n",
    "\n",
    "    cc.compute_persistence()\n",
    "\n",
    "    PD = cc.persistence_intervals_in_dimension(0)\n",
    "    return PD"
   ]
  },
  {
   "cell_type": "code",
   "execution_count": 313,
   "id": "b40bdbea-9ebf-4300-a5f2-9635cbce305e",
   "metadata": {},
   "outputs": [
    {
     "data": {
      "application/vnd.jupyter.widget-view+json": {
       "model_id": "dea6f3ed144e4c31b48f090748aeb8bc",
       "version_major": 2,
       "version_minor": 0
      },
      "text/html": [
       "\n",
       "            <div style=\"display: inline-block;\">\n",
       "                <div class=\"jupyter-widgets widget-label\" style=\"text-align: center;\">\n",
       "                    Figure\n",
       "                </div>\n",
       "                <img src='data:image/png;base64,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' width=432.0/>\n",
       "            </div>\n",
       "        "
      ],
      "text/plain": [
       "Canvas(toolbar=Toolbar(toolitems=[('Home', 'Reset original view', 'home', 'home'), ('Back', 'Back to previous …"
      ]
     },
     "metadata": {},
     "output_type": "display_data"
    }
   ],
   "source": [
    "cplx = CreateComplex(20,5)\n",
    "f,ax = plt.subplots()\n",
    "ax.matshow(cplx)\n",
    "plt.show()"
   ]
  },
  {
   "cell_type": "code",
   "execution_count": 314,
   "id": "4f2c4cb4-8920-4439-8f70-77ad716c016d",
   "metadata": {},
   "outputs": [
    {
     "data": {
      "application/vnd.jupyter.widget-view+json": {
       "model_id": "e70ab0ec4a4549e49c856fd604c0c332",
       "version_major": 2,
       "version_minor": 0
      },
      "text/html": [
       "\n",
       "            <div style=\"display: inline-block;\">\n",
       "                <div class=\"jupyter-widgets widget-label\" style=\"text-align: center;\">\n",
       "                    Figure\n",
       "                </div>\n",
       "                <img src='data:image/png;base64,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' width=432.0/>\n",
       "            </div>\n",
       "        "
      ],
      "text/plain": [
       "Canvas(toolbar=Toolbar(toolitems=[('Home', 'Reset original view', 'home', 'home'), ('Back', 'Back to previous …"
      ]
     },
     "metadata": {},
     "output_type": "display_data"
    },
    {
     "name": "stdout",
     "output_type": "stream",
     "text": [
      "[[ 0.         64.        ]\n",
      " [ 0.         64.        ]\n",
      " [64.         64.00013067]\n",
      " [ 0.         64.00198801]\n",
      " [64.00892899 64.0102826 ]\n",
      " [64.02225375 64.03670115]\n",
      " [ 0.         64.102487  ]\n",
      " [ 0.                 inf]]\n"
     ]
    }
   ],
   "source": [
    "PD = CreatePD(20,5)\n",
    "f,ax = plt.subplots()\n",
    "ax.axline((0,0),slope=1)\n",
    "ax.scatter(PD[:,0], PD[:,1])\n",
    "#ax.set_xlim((0,1.1))\n",
    "#ax.set_ylim((0,1.1))\n",
    "plt.show()\n",
    "print(PD)"
   ]
  },
  {
   "cell_type": "code",
   "execution_count": 315,
   "id": "c7fe8d93-c789-46d1-abfc-bed5c2fa4caf",
   "metadata": {},
   "outputs": [
    {
     "data": {
      "application/vnd.jupyter.widget-view+json": {
       "model_id": "5f19e357af124234afbf9f504bdcfc24",
       "version_major": 2,
       "version_minor": 0
      },
      "text/html": [
       "\n",
       "            <div style=\"display: inline-block;\">\n",
       "                <div class=\"jupyter-widgets widget-label\" style=\"text-align: center;\">\n",
       "                    Figure\n",
       "                </div>\n",
       "                <img src='data:image/png;base64,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' width=864.0/>\n",
       "            </div>\n",
       "        "
      ],
      "text/plain": [
       "Canvas(toolbar=Toolbar(toolitems=[('Home', 'Reset original view', 'home', 'home'), ('Back', 'Back to previous …"
      ]
     },
     "metadata": {},
     "output_type": "display_data"
    }
   ],
   "source": [
    "#5 features\n",
    "PD11 = CreatePD(20,3)\n",
    "PD12 = CreatePD(20,5)\n",
    "\n",
    "#2 features\n",
    "PD21 = CreatePD(30,3)\n",
    "PD22 = CreatePD(30,5)\n",
    "\n",
    "#r= np.linspace(0,1,1000)\n",
    "#bp11 = np.array([gd.bottleneck_profile(PD11,PD12, r0) for r0 in r])\n",
    "#bp22 = np.array([gd.bottleneck_profile(PD21,PD22, r0) for r0 in r])\n",
    "#bp12 = np.array([gd.bottleneck_profile(PD11,PD21, r0) for r0 in r])\n",
    "#bp21 = np.array([gd.bottleneck_profile(PD12,PD22, r0) for r0 in r])\n",
    "\n",
    "n_points = 2*max([len(PD11),len(PD12),len(PD21),len(PD22)])\n",
    "d_vals = np.linspace(0,n_points,n_points+1)\n",
    "\n",
    "r_vals11 = [gd.prokhorov_distance(PD11, PD12, np.array([r])) for r in d_vals]\n",
    "r_vals22 = [gd.prokhorov_distance(PD21, PD22, np.array([r])) for r in d_vals]\n",
    "r_vals12 = [gd.prokhorov_distance(PD11, PD21, np.array([r])) for r in d_vals]\n",
    "r_vals21 = [gd.prokhorov_distance(PD12, PD22, np.array([r])) for r in d_vals]\n",
    "\n",
    "f,ax=plt.subplots(figsize=(12,12))\n",
    "#ax.plot(r,bp11, label = \"5 vs 5 points\")\n",
    "#ax.plot(r,bp22, label = \"2 vs 2 points\")\n",
    "#ax.plot(r,bp12, label = \"5 vs 2 points\")\n",
    "#ax.plot(r,bp21, label = \"5 vs 2 points\")\n",
    "for i in range(1,n_points+1):\n",
    "    ax.plot((r_vals11[i],r_vals11[i-1]),(i, i), c='tab:orange', ls='-', linewidth = 4.0, label = '20,3 vs 20,5')\n",
    "    ax.plot((r_vals22[i],r_vals22[i-1]),(i, i), c='tab:blue', ls='-', linewidth = 3.0, label = '30,3 vs 30,5')\n",
    "    ax.plot((r_vals12[i],r_vals12[i-1]),(i, i), c='tab:green', ls='-', linewidth = 2.0, label = '20,3 vs 30,3')\n",
    "    ax.plot((r_vals21[i],r_vals21[i-1]),(i, i), c='tab:red', ls='-', linewidth = 1.0, label = '20,5 vs 30,5')\n",
    "\n",
    "\n",
    "#ax.set_ylim((-1,12))\n",
    "#ax.set_xlim((-0.05,0.1))\n",
    "plt.axline((0,0),(1,46))\n",
    "\n",
    "handles, labels = ax.get_legend_handles_labels()\n",
    "by_label = dict(zip(labels, handles))\n",
    "ax.legend(by_label.values(), by_label.keys())\n",
    "plt.show()"
   ]
  },
  {
   "cell_type": "code",
   "execution_count": 316,
   "id": "547c8515-1a31-41c2-bd73-b7e47d9fab0e",
   "metadata": {},
   "outputs": [
    {
     "data": {
      "application/vnd.jupyter.widget-view+json": {
       "model_id": "274ec521af3b4fc48db24decffdcf1e1",
       "version_major": 2,
       "version_minor": 0
      },
      "text/html": [
       "\n",
       "            <div style=\"display: inline-block;\">\n",
       "                <div class=\"jupyter-widgets widget-label\" style=\"text-align: center;\">\n",
       "                    Figure\n",
       "                </div>\n",
       "                <img src='data:image/png;base64,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' width=432.0/>\n",
       "            </div>\n",
       "        "
      ],
      "text/plain": [
       "Canvas(toolbar=Toolbar(toolitems=[('Home', 'Reset original view', 'home', 'home'), ('Back', 'Back to previous …"
      ]
     },
     "metadata": {},
     "output_type": "display_data"
    }
   ],
   "source": [
    "f,ax = plt.subplots()\n",
    "ax.scatter(PD11[:,0], PD11[:,1])\n",
    "ax.scatter(PD12[:,0], PD12[:,1])\n",
    "ax.scatter(PD21[:,0], PD21[:,1])\n",
    "ax.scatter(PD22[:,0], PD22[:,1])\n",
    "\n",
    "\n",
    "plt.axline((0,0),slope=1.0)\n",
    "plt.show()"
   ]
  },
  {
   "cell_type": "code",
   "execution_count": 317,
   "id": "86e761cb-8f39-4876-b6c1-8e70ba0e11ed",
   "metadata": {},
   "outputs": [
    {
     "name": "stdout",
     "output_type": "stream",
     "text": [
      "32.00106788686797\n",
      "32.001889170192456\n",
      "0.2928809026916781\n",
      "0.07013341126896933\n"
     ]
    }
   ],
   "source": [
    "print(gd.bottleneck_distance(PD11,PD12))\n",
    "print(gd.bottleneck_distance(PD21,PD22))\n",
    "print(gd.bottleneck_distance(PD11,PD21))\n",
    "print(gd.bottleneck_distance(PD12,PD22))"
   ]
  },
  {
   "cell_type": "code",
   "execution_count": 318,
   "id": "c4031048-5466-460d-b8f9-e718375b8088",
   "metadata": {},
   "outputs": [
    {
     "name": "stdout",
     "output_type": "stream",
     "text": [
      "128.21327156984063\n",
      "128.18195067355444\n",
      "0.3373034203006142\n",
      "0.10908896608655994\n"
     ]
    }
   ],
   "source": [
    "print(gd.hera.wasserstein_distance(PD11,PD12, order = 1, internal_p=1))\n",
    "print(gd.hera.wasserstein_distance(PD21,PD22, order = 1, internal_p=1))\n",
    "print(gd.hera.wasserstein_distance(PD11,PD21, order = 1, internal_p=1))\n",
    "print(gd.hera.wasserstein_distance(PD12,PD22, order = 1, internal_p=1))\n"
   ]
  },
  {
   "cell_type": "code",
   "execution_count": 319,
   "id": "86dea8c6-06b3-419c-a8f8-3519307b5b90",
   "metadata": {},
   "outputs": [],
   "source": [
    "n_samples = 50\n",
    "n_gaussians1 = 20\n",
    "n_gaussians2 = 15\n",
    "n_noise1 = 3\n",
    "n_noise2 = 5\n",
    "PDs = []\n",
    "for i in range(0,n_samples):\n",
    "    PDs.append(CreatePD(n_gaussians1,n_noise1))\n",
    "for i in range(0,n_samples):\n",
    "    PDs.append(CreatePD(n_gaussians1,n_noise2))\n",
    "for i in range(0,n_samples):\n",
    "    PDs.append(CreatePD(n_gaussians2,n_noise1))\n",
    "for i in range(0,n_samples):\n",
    "    PDs.append(CreatePD(n_gaussians2,n_noise2))\n",
    "    \n",
    "y = [i//(2*n_samples) for i in range(0,len(PDs))]"
   ]
  },
  {
   "cell_type": "code",
   "execution_count": 321,
   "id": "2055c32d-174c-4634-a4bd-608756f623eb",
   "metadata": {},
   "outputs": [],
   "source": [
    "\n",
    "X_train, X_test, y_train, y_test = train_test_split(PDs, y, test_size=0.4, random_state=42)\n",
    "knn = KNeighborsClassifier(n_neighbors=5, metric = \"precomputed\")\n"
   ]
  },
  {
   "cell_type": "code",
   "execution_count": 322,
   "id": "bc17b41a-f047-4183-aebc-0b7e39cc0a9f",
   "metadata": {},
   "outputs": [
    {
     "name": "stdout",
     "output_type": "stream",
     "text": [
      "Bottleneck done in  1.1282293796539307\n",
      "Bottleneck training accuracy:  0.6\n",
      "Bottleneck test accuracy:  0.55\n"
     ]
    }
   ],
   "source": [
    "tic = time.time()\n",
    "BD = gd.representations.BottleneckDistance(n_jobs=-1)\n",
    "BD.fit(X_train)\n",
    "B_train = BD.transform(X_train)\n",
    "B_test = BD.transform(X_test)\n",
    "print(\"Bottleneck done in \", time.time()-tic)\n",
    "knn.fit(B_train, y_train)\n",
    "cv_scores = cross_val_score(knn, B_train, y_train, cv=5)\n",
    "print(\"Bottleneck training accuracy: \",np.mean(cv_scores))\n",
    "score = knn.score(B_test, y_test)\n",
    "print(\"Bottleneck test accuracy: \",score)"
   ]
  },
  {
   "cell_type": "code",
   "execution_count": 323,
   "id": "b1352282-bf5f-49ac-b8d5-250239449429",
   "metadata": {},
   "outputs": [
    {
     "name": "stdout",
     "output_type": "stream",
     "text": [
      "1-Wasserstein done in  0.6035330295562744\n",
      "1-Wasserstein training accuracy:  0.5833333333333333\n",
      "1-Wasserstein test accuracy:  0.5875\n"
     ]
    }
   ],
   "source": [
    "tic = time.time()\n",
    "W1D = gd.representations.WassersteinDistance(n_jobs=-1, order=1, internal_p =1)\n",
    "W1D.fit(X_train)\n",
    "W1_train = W1D.transform(X_train)\n",
    "W1_test = W1D.transform(X_test)\n",
    "print(\"1-Wasserstein done in \", time.time()-tic)\n",
    "knn.fit(W1_train, y_train)\n",
    "cv_scores = cross_val_score(knn, W1_train, y_train, cv=5)\n",
    "print(\"1-Wasserstein training accuracy: \",np.mean(cv_scores))\n",
    "score = knn.score(W1_test, y_test)\n",
    "print(\"1-Wasserstein test accuracy: \",score)"
   ]
  },
  {
   "cell_type": "code",
   "execution_count": 324,
   "id": "39fa5edc-444a-4cc0-987b-9f17f0c5926a",
   "metadata": {},
   "outputs": [
    {
     "name": "stdout",
     "output_type": "stream",
     "text": [
      "2-Wasserstein done in  1.3809597492218018\n",
      "2-Wasserstein training accuracy:  0.5416666666666667\n",
      "2-Wasserstein test accuracy:  0.6\n"
     ]
    }
   ],
   "source": [
    "tic = time.time()\n",
    "W2D = gd.representations.WassersteinDistance(n_jobs=-1, order=2, internal_p =2)\n",
    "W2D.fit(X_train)\n",
    "W2_train = W2D.transform(X_train)\n",
    "W2_test = W2D.transform(X_test)\n",
    "print(\"2-Wasserstein done in \", time.time()-tic)\n",
    "knn.fit(W2_train, y_train)\n",
    "cv_scores = cross_val_score(knn, W2_train, y_train, cv=5)\n",
    "print(\"2-Wasserstein training accuracy: \",np.mean(cv_scores))\n",
    "score = knn.score(W2_test, y_test)\n",
    "print(\"2-Wasserstein test accuracy: \",score)"
   ]
  },
  {
   "cell_type": "code",
   "execution_count": 325,
   "id": "63e1313b-71b7-4335-a0aa-c661770f3552",
   "metadata": {
    "tags": []
   },
   "outputs": [
    {
     "name": "stdout",
     "output_type": "stream",
     "text": [
      "10.0 0.5416666666666667\n",
      "11.0 0.5416666666666666\n",
      "12.0 0.55\n",
      "13.0 0.575\n",
      "14.0 0.5333333333333333\n",
      "15.0 0.5166666666666667\n",
      "16.0 0.5333333333333333\n",
      "17.0 0.5833333333333333\n",
      "18.0 0.5666666666666667\n",
      "19.0 0.5583333333333333\n",
      "20.0 0.5666666666666667\n",
      "21.0 0.6083333333333333\n",
      "22.0 0.5333333333333334\n",
      "23.0 0.5333333333333333\n",
      "24.0 0.4916666666666667\n",
      "25.0 0.5416666666666667\n",
      "26.0 0.5833333333333333\n",
      "27.0 0.5416666666666666\n",
      "28.0 0.525\n",
      "29.0 0.5499999999999999\n",
      "30.0 0.5416666666666667\n",
      "31.0 0.5583333333333333\n",
      "32.0 0.5666666666666667\n",
      "33.0 0.5333333333333333\n",
      "34.0 0.5\n",
      "35.0 0.5333333333333333\n",
      "36.0 0.5333333333333333\n",
      "37.0 0.5666666666666667\n",
      "38.0 0.575\n",
      "39.0 0.575\n",
      "40.0 0.5583333333333333\n",
      "41.0 0.5583333333333333\n",
      "42.0 0.575\n",
      "43.0 0.55\n",
      "44.0 0.5583333333333333\n",
      "45.0 0.5583333333333333\n",
      "46.0 0.5166666666666667\n",
      "47.0 0.5416666666666666\n",
      "48.0 0.4916666666666667\n",
      "49.0 0.5166666666666667\n",
      "50.0 0.5166666666666667\n",
      "51.0 0.4916666666666666\n",
      "52.0 0.525\n",
      "53.0 0.5916666666666667\n",
      "54.0 0.5666666666666667\n",
      "55.0 0.55\n",
      "56.0 0.5666666666666667\n",
      "57.0 0.575\n",
      "58.0 0.55\n",
      "59.0 0.5666666666666667\n",
      "60.0 0.5583333333333333\n",
      "61.0 0.5416666666666666\n",
      "62.0 0.5333333333333333\n",
      "63.0 0.525\n",
      "64.0 0.5166666666666666\n",
      "65.0 0.5333333333333333\n",
      "66.0 0.5166666666666666\n",
      "67.0 0.5333333333333333\n",
      "68.0 0.5416666666666667\n",
      "69.0 0.5416666666666667\n",
      "70.0 0.5333333333333334\n",
      "71.0 0.5083333333333333\n",
      "72.0 0.5166666666666667\n",
      "73.0 0.5166666666666667\n",
      "74.0 0.5250000000000001\n",
      "75.0 0.4916666666666667\n",
      "76.0 0.5083333333333333\n",
      "77.0 0.525\n",
      "78.0 0.5083333333333333\n",
      "79.0 0.525\n",
      "80.0 0.5249999999999999\n",
      "81.0 0.5166666666666666\n",
      "82.0 0.5083333333333333\n",
      "83.0 0.5333333333333333\n",
      "84.0 0.5166666666666667\n",
      "85.0 0.5166666666666667\n",
      "86.0 0.5333333333333334\n",
      "87.0 0.5583333333333333\n",
      "88.0 0.5916666666666667\n",
      "89.0 0.5583333333333333\n",
      "90.0 0.5666666666666667\n",
      "91.0 0.5833333333333333\n",
      "92.0 0.5833333333333333\n",
      "93.0 0.575\n",
      "94.0 0.575\n",
      "95.0 0.5583333333333333\n",
      "96.0 0.55\n",
      "97.0 0.5666666666666667\n",
      "98.0 0.5583333333333333\n",
      "99.0 0.5583333333333333\n",
      "100.0 0.5333333333333333\n",
      "101.0 0.525\n",
      "102.0 0.525\n",
      "103.0 0.5416666666666666\n",
      "104.0 0.5333333333333333\n",
      "105.0 0.5\n",
      "106.0 0.5166666666666667\n",
      "107.0 0.525\n",
      "108.0 0.5166666666666667\n",
      "109.0 0.5166666666666667\n",
      "110.0 0.5333333333333334\n",
      "111.0 0.5333333333333334\n",
      "112.0 0.55\n",
      "113.0 0.5583333333333333\n",
      "114.0 0.55\n",
      "115.0 0.5416666666666667\n",
      "116.0 0.5583333333333333\n",
      "117.0 0.5583333333333333\n",
      "118.0 0.5583333333333333\n",
      "119.0 0.5583333333333333\n",
      "120.0 0.5416666666666667\n",
      "121.0 0.525\n",
      "122.0 0.5333333333333333\n",
      "123.0 0.5333333333333334\n",
      "124.0 0.5333333333333334\n",
      "125.0 0.5333333333333333\n",
      "126.0 0.5333333333333333\n",
      "127.0 0.5416666666666667\n",
      "128.0 0.55\n",
      "129.0 0.5583333333333333\n",
      "130.0 0.575\n",
      "131.0 0.575\n",
      "132.0 0.5666666666666667\n",
      "133.0 0.5666666666666667\n",
      "134.0 0.5833333333333333\n",
      "135.0 0.5583333333333333\n",
      "136.0 0.5833333333333333\n",
      "137.0 0.55\n",
      "138.0 0.5583333333333333\n",
      "139.0 0.55\n",
      "140.0 0.5583333333333333\n",
      "141.0 0.5583333333333333\n",
      "142.0 0.5666666666666667\n",
      "143.0 0.5666666666666667\n",
      "144.0 0.55\n",
      "145.0 0.55\n",
      "146.0 0.5583333333333333\n",
      "147.0 0.55\n",
      "148.0 0.55\n",
      "149.0 0.5416666666666667\n",
      "150.0 0.55\n",
      "best slope:  21.0\n"
     ]
    }
   ],
   "source": [
    "slopes = np.linspace(10,150, 141)\n",
    "argmax = 0\n",
    "maxi = 0\n",
    "\n",
    "for s in slopes:\n",
    "    PD = gd.representations.ProkhorovDistance(n_jobs = -1, coefs = np.array([0,s]))\n",
    "    PD.fit(X_train)\n",
    "    P_train = PD.transform(X_train)\n",
    "    knn.fit(P_train, y_train)\n",
    "    cv_scores = cross_val_score(knn, P_train, y_train, cv=5)\n",
    "    print(s, np.mean(cv_scores))\n",
    "    if(np.mean(cv_scores)>maxi):\n",
    "        argmax = s\n",
    "        maxi = np.mean(cv_scores)\n",
    "        \n",
    "print(\"best slope: \",argmax)"
   ]
  },
  {
   "cell_type": "code",
   "execution_count": 326,
   "id": "cafb19fe-1778-431a-88e4-9be8e8248a5f",
   "metadata": {},
   "outputs": [
    {
     "name": "stdout",
     "output_type": "stream",
     "text": [
      "Prokhorov done in  0.6402537822723389\n",
      "Prokhorov training accuracy:  0.6083333333333333\n",
      "Prokhorov test accuracy:  0.5375\n"
     ]
    }
   ],
   "source": [
    "tic = time.time()\n",
    "PD = gd.representations.ProkhorovDistance(n_jobs=-1, coefs = np.array([0,argmax]))\n",
    "PD.fit(X_train)\n",
    "P_train = PD.transform(X_train)\n",
    "P_test = PD.transform(X_test)\n",
    "print(\"Prokhorov done in \", time.time()-tic)\n",
    "cv_scores = cross_val_score(knn, P_train, y_train, cv=5)\n",
    "print(\"Prokhorov training accuracy: \",np.mean(cv_scores))\n",
    "score = knn.score(P_test, y_test)\n",
    "print(\"Prokhorov test accuracy: \",score)"
   ]
  },
  {
   "cell_type": "code",
   "execution_count": null,
   "id": "5396282a-5de5-4491-a8e6-f2c3216da789",
   "metadata": {},
   "outputs": [],
   "source": []
  }
 ],
 "metadata": {
  "kernelspec": {
   "display_name": "Python 3 (ipykernel)",
   "language": "python",
   "name": "python3"
  },
  "language_info": {
   "codemirror_mode": {
    "name": "ipython",
    "version": 3
   },
   "file_extension": ".py",
   "mimetype": "text/x-python",
   "name": "python",
   "nbconvert_exporter": "python",
   "pygments_lexer": "ipython3",
   "version": "3.9.7"
  }
 },
 "nbformat": 4,
 "nbformat_minor": 5
}
