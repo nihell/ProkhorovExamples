{
 "cells": [
  {
   "cell_type": "code",
   "execution_count": 8,
   "metadata": {},
   "outputs": [],
   "source": [
    "%matplotlib inline\n",
    "import gudhi as gd\n",
    "from gudhi import hera\n",
    "from gudhi import representations\n",
    "import matplotlib.pyplot as plt\n",
    "import numpy as np\n",
    "import pandas as pd\n",
    "import h5py\n",
    "import sklearn\n",
    "from sklearn import manifold\n",
    "from sklearn_extra.cluster import KMedoids\n",
    "from sklearn.svm import SVC\n",
    "from sklearn.cluster import DBSCAN\n",
    "from sklearn import metrics\n",
    "from sklearn.model_selection import cross_val_score\n",
    "import scipy.optimize as spo \n",
    "from scipy.optimize import minimize\n",
    "import kmedoids\n",
    "import networkx as nx\n",
    "from networkx import bipartite\n",
    "import persim\n",
    "\n",
    "import os\n",
    "import math\n",
    "import time"
   ]
  },
  {
   "cell_type": "code",
   "execution_count": 2,
   "metadata": {},
   "outputs": [],
   "source": [
    "\n",
    "def diag_to_array(data):\n",
    "    dataset, num_diag = [], len(data[\"0\"].keys())\n",
    "    for dim in data.keys():\n",
    "        X = []\n",
    "        for diag in range(num_diag):\n",
    "            pers_diag = np.array(data[dim][str(diag)])\n",
    "            X.append(pers_diag)\n",
    "        dataset.append(X)\n",
    "    return dataset\n",
    "\n",
    "def diag_to_dict(D):\n",
    "    X = dict()\n",
    "    for f in D.keys():\n",
    "        df = diag_to_array(D[f])\n",
    "        for dim in range(len(df)):\n",
    "            X[str(dim) + \"_\" + f] = df[dim]\n",
    "    return X "
   ]
  },
  {
   "cell_type": "code",
   "execution_count": 3,
   "metadata": {},
   "outputs": [],
   "source": [
    "path = \"../sklearn-tda/example/3DSeg/\"\n",
    "train_lab  = pd.read_csv(path+\"train.csv\")\n",
    "train_diag = diag_to_dict(h5py.File(path+\"train_diag.hdf5\", \"r\"))"
   ]
  },
  {
   "cell_type": "code",
   "execution_count": 4,
   "metadata": {},
   "outputs": [
    {
     "name": "stdout",
     "output_type": "stream",
     "text": [
      "Number of train points = 285\n",
      "Number of test  points = 5415\n",
      "[1436  748 4596 ... 5226 5390  860]\n"
     ]
    },
    {
     "name": "stderr",
     "output_type": "stream",
     "text": [
      "/tmp/ipykernel_9589/1934562253.py:9: DeprecationWarning: `np.int` is a deprecated alias for the builtin `int`. To silence this warning, use `int` by itself. Doing this will not modify any behavior and is safe. When replacing `np.int`, you may wish to use e.g. `np.int64` or `np.int32` to specify the precision. If you wish to review your current use, check the release note link for additional information.\n",
      "Deprecated in NumPy 1.20; for more details and guidance: https://numpy.org/devdocs/release/1.20.0-notes.html#deprecations\n",
      "  limit                = np.int(test_size * train_num_pts)\n"
     ]
    }
   ],
   "source": [
    "from sklearn.preprocessing import LabelEncoder\n",
    "\n",
    "# Size of test set\n",
    "test_size = 0.95\n",
    "\n",
    "# Shuffle dataset and pick points for test set\n",
    "train_num_pts        = train_lab.shape[0]    \n",
    "perm                 = np.random.RandomState(seed=42).permutation(train_num_pts)\n",
    "limit                = np.int(test_size * train_num_pts)\n",
    "test_sub, train_sub  = perm[:limit], perm[limit:]\n",
    "\n",
    "# Create train and test labels with LabelEncoder from scikit-learn\n",
    "train_full_labels  = train_lab[\"part\"]\n",
    "le                 = LabelEncoder()\n",
    "train_labels       = np.array(le.fit_transform(train_full_labels[train_sub]))\n",
    "test_labels        = np.array(le.transform(train_full_labels[test_sub]))\n",
    "\n",
    "# Create train and test sets of persistence diagrams\n",
    "train_full_diag    = train_diag[\"1_geodesic\"]\n",
    "train_diag         = [train_full_diag[i] for i in train_sub]\n",
    "test_diag          = [train_full_diag[i] for i in test_sub]\n",
    "\n",
    "# Print sizes\n",
    "train_num_pts, test_num_pts = len(train_sub), len(test_sub)\n",
    "print(\"Number of train points = \" + str(train_num_pts))\n",
    "print(\"Number of test  points = \" + str(test_num_pts))\n",
    "print(perm)"
   ]
  },
  {
   "cell_type": "code",
   "execution_count": 5,
   "metadata": {},
   "outputs": [],
   "source": [
    "#return the projection to the diagonal of x\n",
    "def DiagProj(x):\n",
    "    return[(x[0]+x[1])/2]*2"
   ]
  },
  {
   "cell_type": "code",
   "execution_count": 6,
   "metadata": {},
   "outputs": [],
   "source": [
    "def WassersteinProfile(X,Y,p=1):\n",
    "    Xprime = np.array([DiagProj(y) for y in Y])\n",
    "    Yprime = np.array([DiagProj(x) for x in X])\n",
    "    U = np.append(X,Yprime, axis=0)\n",
    "    V = np.append(Y,Xprime, axis=0)\n",
    "    #print(U)\n",
    "    #print(V)\n",
    "    D1 = sklearn.metrics.pairwise_distances(X,Y, metric= \"chebyshev\")\n",
    "    D2 = sklearn.metrics.pairwise_distances(X,Yprime, metric= \"chebyshev\")\n",
    "    D3 = sklearn.metrics.pairwise_distances(Xprime, Y, metric= \"chebyshev\")\n",
    "    D=np.block([[D1,D2],[D3,np.zeros_like(D1).T]])\n",
    "    #print(D)\n",
    "    sortedD = np.sort(D.flatten())\n",
    "    values = []\n",
    "    for t in sortedD:\n",
    "        Dt = np.where(D<=t,0,D)\n",
    "        #print(Dt)\n",
    "        row_ind, col_ind = spo.linear_sum_assignment(Dt)\n",
    "        val = Dt[row_ind, col_ind].sum()\n",
    "        values.append(val)\n",
    "        \n",
    "    return np.array([sortedD,values]).T"
   ]
  },
  {
   "cell_type": "code",
   "execution_count": 19,
   "metadata": {
    "tags": []
   },
   "outputs": [
    {
     "data": {
      "image/png": "[encoded data removed]",
      "text/plain": [
       "<Figure size 432x288 with 1 Axes>"
      ]
     },
     "metadata": {
      "needs_background": "light"
     },
     "output_type": "display_data"
    }
   ],
   "source": [
    "X=train_diag[0]\n",
    "Y=train_diag[2]\n",
    "Z=train_diag[1]\n",
    "wpXY = WassersteinProfile(X,Y)\n",
    "wpXZ = WassersteinProfile(X,Z)\n",
    "#wpXY = WassersteinProfile(X,Y)\n",
    "\n",
    "n_points = len(X)+len(Y)\n",
    "d_vals = np.linspace(0,n_points,n_points+1)\n",
    "r_vals = [gd.prokhorov_distance(X, Y, np.array([r])) for r in d_vals]\n",
    "\n",
    "ts=np.linspace(0,0.2,100)\n",
    "bp = np.array([gd.bottleneck_profile(X,Y,t) for t in ts])\n",
    "\n",
    "dB=gd.bottleneck_distance(X,Y)\n",
    "\n",
    "f, ax = plt.subplots()\n",
    "ax.scatter(wpXY[:,0], wpXY[:,1])\n",
    "#ax.scatter(ts, bp*dB)\n",
    "\n",
    "#ax.scatter(wpXZ[:,0], wpXZ[:,1])\n",
    "for i in range(1,n_points+1):\n",
    "    plt.plot((r_vals[i],r_vals[i-1]),(i*dB,i*dB), c='c', label='$D_{X,Y}$')\n",
    "    \n",
    "ax.set_xlim((-0.05,0.2))\n",
    "plt.show()"
   ]
  },
  {
   "cell_type": "code",
   "execution_count": 68,
   "metadata": {},
   "outputs": [
    {
     "name": "stdout",
     "output_type": "stream",
     "text": [
      "0.6343080000000005\n",
      "0.12911950000000005\n"
     ]
    }
   ],
   "source": [
    "print(gd.hera.wasserstein_distance(X,Y,order = 1, internal_p=np.inf))\n",
    "print(gd.bottleneck_distance(X,Y))"
   ]
  },
  {
   "cell_type": "code",
   "execution_count": 15,
   "metadata": {
    "tags": []
   },
   "outputs": [
    {
     "data": {
      "text/plain": [
       "[0.12911950000000005,\n",
       " 0.12637999999999994,\n",
       " 0.10588699999999995,\n",
       " 0.10588699999999995,\n",
       " 0.10588699999999995,\n",
       " 0.08029999999999982,\n",
       " 0.0024850000000000705,\n",
       " 0.0021850000000001035,\n",
       " 0.0010499999999999954,\n",
       " 0.0005045000000000188,\n",
       " 0.0,\n",
       " 0.0,\n",
       " 0.0,\n",
       " 0.0,\n",
       " 0.0,\n",
       " 0.0,\n",
       " 0.0,\n",
       " 0.0,\n",
       " 0.0]"
      ]
     },
     "execution_count": 15,
     "metadata": {},
     "output_type": "execute_result"
    }
   ],
   "source": [
    "r_vals"
   ]
  }
 ],
 "metadata": {
  "kernelspec": {
   "display_name": "Python 3 (ipykernel)",
   "language": "python",
   "name": "python3"
  },
  "language_info": {
   "codemirror_mode": {
    "name": "ipython",
    "version": 3
   },
   "file_extension": ".py",
   "mimetype": "text/x-python",
   "name": "python",
   "nbconvert_exporter": "python",
   "pygments_lexer": "ipython3",
   "version": "3.9.7"
  }
 },
 "nbformat": 4,
 "nbformat_minor": 4
}
